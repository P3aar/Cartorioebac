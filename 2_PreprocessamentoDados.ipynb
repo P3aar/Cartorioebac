{
  "nbformat": 4,
  "nbformat_minor": 0,
  "metadata": {
    "colab": {
      "provenance": [],
      "authorship_tag": "ABX9TyN8fYKkFN2mFuhzzDA0V193",
      "include_colab_link": true
    },
    "kernelspec": {
      "name": "python3",
      "display_name": "Python 3"
    },
    "language_info": {
      "name": "python"
    }
  },
  "cells": [
    {
      "cell_type": "markdown",
      "metadata": {
        "id": "view-in-github",
        "colab_type": "text"
      },
      "source": [
        "<a href=\"https://colab.research.google.com/github/P3aar/Cartorioebac/blob/main/2_PreprocessamentoDados.ipynb\" target=\"_parent\"><img src=\"https://colab.research.google.com/assets/colab-badge.svg\" alt=\"Open In Colab\"/></a>"
      ]
    },
    {
      "cell_type": "code",
      "execution_count": 18,
      "metadata": {
        "id": "fD9d4xUZxUxX",
        "colab": {
          "base_uri": "https://localhost:8080/"
        },
        "outputId": "b8839ce4-e12d-4e20-d1f8-b0ab142c6f32"
      },
      "outputs": [
        {
          "output_type": "stream",
          "name": "stdout",
          "text": [
            "Requirement already satisfied: pyspark in /usr/local/lib/python3.12/dist-packages (3.5.1)\n",
            "Requirement already satisfied: py4j==0.10.9.7 in /usr/local/lib/python3.12/dist-packages (from pyspark) (0.10.9.7)\n"
          ]
        }
      ],
      "source": [
        "!pip install pyspark"
      ]
    },
    {
      "cell_type": "code",
      "source": [
        "import pyspark\n",
        "from pyspark.sql import SparkSession\n",
        "from pyspark.sql.functions import col, min, max\n",
        "from pyspark.ml.feature import StringIndexer, MinMaxScaler, PCA, VectorAssembler"
      ],
      "metadata": {
        "id": "dWfVUzAJ9QJO"
      },
      "execution_count": 19,
      "outputs": []
    },
    {
      "cell_type": "code",
      "source": [
        "from google.colab import drive\n",
        "drive.mount('/content/drive')"
      ],
      "metadata": {
        "id": "aFYYuAxq9dJf",
        "colab": {
          "base_uri": "https://localhost:8080/"
        },
        "outputId": "d10917a4-5ba0-40e4-b86c-236c6956ac36"
      },
      "execution_count": 20,
      "outputs": [
        {
          "output_type": "stream",
          "name": "stdout",
          "text": [
            "Drive already mounted at /content/drive; to attempt to forcibly remount, call drive.mount(\"/content/drive\", force_remount=True).\n"
          ]
        }
      ]
    },
    {
      "cell_type": "code",
      "source": [
        "spark = SparkSession.builder.getOrCreate()"
      ],
      "metadata": {
        "id": "wS-Es-UE9iqY"
      },
      "execution_count": 21,
      "outputs": []
    },
    {
      "cell_type": "code",
      "source": [
        "produtos = spark.read.csv('drive/MyDrive/Planilha excel ANALISTA DE DADOS/produtos.csv', header=True, inferSchema=True)\n",
        "pagamentos_pedido = spark.read.csv('drive/MyDrive/Planilha excel ANALISTA DE DADOS/pagamentos_pedido.csv', header=True, inferSchema=True)"
      ],
      "metadata": {
        "id": "uI5HScUy9mKd",
        "collapsed": true
      },
      "execution_count": 24,
      "outputs": []
    },
    {
      "cell_type": "code",
      "source": [
        "# valores categoricos\n",
        "indexador = StringIndexer(inputCol=['categoria_produto'], outputCol='categoria_produto_index')\n",
        "modelo_indexer = indexador.fit(produtos)\n",
        "produtos_indexador_df = modelo_indexer.transform(produtos)\n",
        "\n",
        "produtos_indexador_df.show()"
      ],
      "metadata": {
        "id": "HSq6YixL9_pb",
        "colab": {
          "base_uri": "https://localhost:8080/"
        },
        "outputId": "601412b9-2c73-43ba-eb5f-e71330d799d6"
      },
      "execution_count": 27,
      "outputs": [
        {
          "output_type": "stream",
          "name": "stdout",
          "text": [
            "+--------------------+--------------------+--------------------+-------------------------+------------------------+--------------+----------------------+-----------------+------------------+-----------------------+\n",
            "|          id_produto|   categoria_produto|tamanho_nome_produto|tamanho_descricao_produto|quantidade_fotos_produto|peso_produto_g|comprimento_produto_cm|altura_produto_cm|largura_produto_cm|categoria_produto_index|\n",
            "+--------------------+--------------------+--------------------+-------------------------+------------------------+--------------+----------------------+-----------------+------------------+-----------------------+\n",
            "|1e9e8ef04dbcff454...|          perfumaria|                  40|                      287|                       1|           225|                    16|               10|                14|                   11.0|\n",
            "|3aa071139cb16b67c...|               artes|                  44|                      276|                       1|          1000|                    30|               18|                20|                   48.0|\n",
            "|96bd76ec8810374ed...|       esporte_lazer|                  46|                      250|                       1|           154|                    18|                9|                15|                    1.0|\n",
            "|cef67bcfe19066a93...|               bebes|                  27|                      261|                       1|           371|                    26|                4|                26|                   10.0|\n",
            "|9dc1a7de274444849...|utilidades_domest...|                  37|                      402|                       4|           625|                    20|               17|                13|                    4.0|\n",
            "|41d3672d4792049fa...|instrumentos_musi...|                  60|                      745|                       1|           200|                    38|                5|                11|                   23.0|\n",
            "|732bd381ad09e530f...|          cool_stuff|                  56|                     1272|                       4|         18350|                    70|               24|                44|                   14.0|\n",
            "|2548af3e6e77a690c...|    moveis_decoracao|                  56|                      184|                       2|           900|                    40|                8|                40|                    2.0|\n",
            "|37cc742be07708b53...|    eletrodomesticos|                  57|                      163|                       1|           400|                    27|               13|                17|                   19.0|\n",
            "|8c92109888e8cdf9d...|          brinquedos|                  36|                     1156|                       1|           600|                    17|               10|                12|                    7.0|\n",
            "|14aa47b7fe5c25522...|     cama_mesa_banho|                  54|                      630|                       1|          1100|                    16|               10|                16|                    0.0|\n",
            "|03b63c5fc16691530...|               bebes|                  49|                      728|                       4|          7150|                    50|               19|                45|                   10.0|\n",
            "|cf55509ea8edaaac1...|instrumentos_musi...|                  43|                     1827|                       3|           250|                    17|                7|                17|                   23.0|\n",
            "|7bb6f29c2be577161...|    moveis_decoracao|                  51|                     2083|                       2|           600|                    68|               11|                13|                    2.0|\n",
            "|eb31436580a610f20...|construcao_ferram...|                  59|                     1602|                       4|           200|                    17|                7|                17|                   38.0|\n",
            "|3bb7f144022e67327...|       esporte_lazer|                  22|                     3021|                       1|           800|                    16|                2|                11|                    1.0|\n",
            "|6a2fb4dd53d2cdb88...|          perfumaria|                  39|                      346|                       2|           400|                    27|                5|                20|                   11.0|\n",
            "|a1b71017a84f92fd8...|informatica_acess...|                  59|                      636|                       1|           900|                    40|               15|                20|                    6.0|\n",
            "|a0736b92e52f6cead...|    moveis_decoracao|                  56|                      296|                       2|          1700|                   100|                7|                15|                    2.0|\n",
            "|f53103a77d9cf245e...|     cama_mesa_banho|                  52|                      206|                       1|           500|                    16|               10|                16|                    0.0|\n",
            "+--------------------+--------------------+--------------------+-------------------------+------------------------+--------------+----------------------+-----------------+------------------+-----------------------+\n",
            "only showing top 20 rows\n",
            "\n"
          ]
        }
      ]
    },
    {
      "cell_type": "code",
      "source": [
        "# Normalizacao Maual\n",
        "min_val, max_val = pagamentos_pedido.select(min('valor_pagamento'), max('valor_pagamento')).first()\n",
        "pagamentos_normalizado_df = pagamentos_pedido.withColumn('valor_pagamento_normalizado', (col('valor_pagamento') - min_val) / (max_val - min_val))\n",
        "\n",
        "min_parc, max_parc = pagamentos_normalizado_df.select(min('parcelas_pagamento'), max('parcelas_pagamento')).first()\n",
        "pagamentos_normalizado_df = pagamentos_normalizado_df.withColumn('parcelas_pagamentos_normalizado', (col('parcelas_pagamento') - min_parc) / (max_parc - min_parc))\n",
        "\n",
        "pagamentos_normalizado_df.show()"
      ],
      "metadata": {
        "colab": {
          "base_uri": "https://localhost:8080/"
        },
        "id": "luBWSoPcOXge",
        "outputId": "f07e8a53-2bc2-4a50-e95b-62c88bce5991"
      },
      "execution_count": 30,
      "outputs": [
        {
          "output_type": "stream",
          "name": "stdout",
          "text": [
            "+--------------------+-------------------+--------------+------------------+---------------+---------------------------+-------------------------------+\n",
            "|           id_pedido|sequencia_pagamento|tipo_pagamento|parcelas_pagamento|valor_pagamento|valor_pagamento_normalizado|parcelas_pagamentos_normalizado|\n",
            "+--------------------+-------------------+--------------+------------------+---------------+---------------------------+-------------------------------+\n",
            "|b81ef226f3fe1789b...|                  1|   credit_card|                 8|          99.33|       0.007269424652080491|             0.3333333333333333|\n",
            "|a9810da82917af2d9...|                  1|   credit_card|                 1|          24.39|       0.001784971984941...|           0.041666666666666664|\n",
            "|25e8ea4e93396b6fa...|                  1|   credit_card|                 1|          65.71|       0.004808958963940492|           0.041666666666666664|\n",
            "|ba78997921bbcdc13...|                  1|   credit_card|                 8|         107.78|        0.00788783438036077|             0.3333333333333333|\n",
            "|42fdf880ba16b47b5...|                  1|   credit_card|                 2|         128.45|        0.00940055971569253|            0.08333333333333333|\n",
            "|298fcdf1f73eb413e...|                  1|   credit_card|                 2|          96.12|       0.007034502139917214|            0.08333333333333333|\n",
            "|771ee386b001f0620...|                  1|   credit_card|                 1|          81.16|        0.00593966077481982|           0.041666666666666664|\n",
            "|3d7239c394a212faa...|                  1|   credit_card|                 3|          51.84|       0.003793888794562093|                          0.125|\n",
            "|1f78449c87a54faf9...|                  1|   credit_card|                 6|         341.09|        0.02496252949338704|                           0.25|\n",
            "|0573b5e23cbd79800...|                  1|        boleto|                 1|          51.95|       0.003801939098717221|           0.041666666666666664|\n",
            "|d88e0d5fa41661ce0...|                  1|   credit_card|                 8|         188.73|       0.013812126392702618|             0.3333333333333333|\n",
            "|2480f727e869fdeb3...|                  1|   credit_card|                 1|          141.9|       0.010384892360114988|           0.041666666666666664|\n",
            "|616105c9352a9668c...|                  1|   credit_card|                 1|          75.78|       0.005545927717050837|           0.041666666666666664|\n",
            "|cf95215a722f3ebf2...|                  1|   credit_card|                 5|         102.66|       0.007513129314231181|            0.20833333333333334|\n",
            "|769214176682788a9...|                  1|   credit_card|                 4|         105.28|       0.007704872922289682|            0.16666666666666666|\n",
            "|12e5cfe0e4716b59a...|                  1|   credit_card|                10|         157.45|       0.011522912629317157|             0.4166666666666667|\n",
            "|61059985a6fc0ad64...|                  1|   credit_card|                 1|         132.04|       0.009663292369482613|           0.041666666666666664|\n",
            "|79da3f5fe31ad1e45...|                  1|   credit_card|                 1|          98.94|       0.007240882664621401|           0.041666666666666664|\n",
            "|8ac09207f415d55ac...|                  1|   credit_card|                 4|         244.15|        0.01786801599522251|            0.16666666666666666|\n",
            "|b2349a3f20dfbeef6...|                  1|   credit_card|                 3|         136.71|       0.010005064373159409|                          0.125|\n",
            "+--------------------+-------------------+--------------+------------------+---------------+---------------------------+-------------------------------+\n",
            "only showing top 20 rows\n",
            "\n"
          ]
        }
      ]
    },
    {
      "cell_type": "code",
      "source": [
        "montar_vetor = VectorAssembler(\n",
        "    inputCols=['peso_produto_g', 'comprimento_produto_cm', 'altura_produto_cm', 'largura_produto_cm'],\n",
        "    outputCol='caracteristicas'\n",
        ")\n",
        "\n",
        "produtos_caracteristicas_df = montar_vetor.transform(produtos)\n",
        "produtos_caracteristicas_df.show()"
      ],
      "metadata": {
        "colab": {
          "base_uri": "https://localhost:8080/"
        },
        "id": "Xig6GEyrQnf4",
        "outputId": "a13640e8-b3cd-4f70-a6ab-f0e0ccb45366"
      },
      "execution_count": 33,
      "outputs": [
        {
          "output_type": "stream",
          "name": "stdout",
          "text": [
            "+--------------------+--------------------+--------------------+-------------------------+------------------------+--------------+----------------------+-----------------+------------------+--------------------+\n",
            "|          id_produto|   categoria_produto|tamanho_nome_produto|tamanho_descricao_produto|quantidade_fotos_produto|peso_produto_g|comprimento_produto_cm|altura_produto_cm|largura_produto_cm|     caracteristicas|\n",
            "+--------------------+--------------------+--------------------+-------------------------+------------------------+--------------+----------------------+-----------------+------------------+--------------------+\n",
            "|1e9e8ef04dbcff454...|          perfumaria|                  40|                      287|                       1|           225|                    16|               10|                14|[225.0,16.0,10.0,...|\n",
            "|3aa071139cb16b67c...|               artes|                  44|                      276|                       1|          1000|                    30|               18|                20|[1000.0,30.0,18.0...|\n",
            "|96bd76ec8810374ed...|       esporte_lazer|                  46|                      250|                       1|           154|                    18|                9|                15|[154.0,18.0,9.0,1...|\n",
            "|cef67bcfe19066a93...|               bebes|                  27|                      261|                       1|           371|                    26|                4|                26|[371.0,26.0,4.0,2...|\n",
            "|9dc1a7de274444849...|utilidades_domest...|                  37|                      402|                       4|           625|                    20|               17|                13|[625.0,20.0,17.0,...|\n",
            "|41d3672d4792049fa...|instrumentos_musi...|                  60|                      745|                       1|           200|                    38|                5|                11|[200.0,38.0,5.0,1...|\n",
            "|732bd381ad09e530f...|          cool_stuff|                  56|                     1272|                       4|         18350|                    70|               24|                44|[18350.0,70.0,24....|\n",
            "|2548af3e6e77a690c...|    moveis_decoracao|                  56|                      184|                       2|           900|                    40|                8|                40|[900.0,40.0,8.0,4...|\n",
            "|37cc742be07708b53...|    eletrodomesticos|                  57|                      163|                       1|           400|                    27|               13|                17|[400.0,27.0,13.0,...|\n",
            "|8c92109888e8cdf9d...|          brinquedos|                  36|                     1156|                       1|           600|                    17|               10|                12|[600.0,17.0,10.0,...|\n",
            "|14aa47b7fe5c25522...|     cama_mesa_banho|                  54|                      630|                       1|          1100|                    16|               10|                16|[1100.0,16.0,10.0...|\n",
            "|03b63c5fc16691530...|               bebes|                  49|                      728|                       4|          7150|                    50|               19|                45|[7150.0,50.0,19.0...|\n",
            "|cf55509ea8edaaac1...|instrumentos_musi...|                  43|                     1827|                       3|           250|                    17|                7|                17|[250.0,17.0,7.0,1...|\n",
            "|7bb6f29c2be577161...|    moveis_decoracao|                  51|                     2083|                       2|           600|                    68|               11|                13|[600.0,68.0,11.0,...|\n",
            "|eb31436580a610f20...|construcao_ferram...|                  59|                     1602|                       4|           200|                    17|                7|                17|[200.0,17.0,7.0,1...|\n",
            "|3bb7f144022e67327...|       esporte_lazer|                  22|                     3021|                       1|           800|                    16|                2|                11|[800.0,16.0,2.0,1...|\n",
            "|6a2fb4dd53d2cdb88...|          perfumaria|                  39|                      346|                       2|           400|                    27|                5|                20|[400.0,27.0,5.0,2...|\n",
            "|a1b71017a84f92fd8...|informatica_acess...|                  59|                      636|                       1|           900|                    40|               15|                20|[900.0,40.0,15.0,...|\n",
            "|a0736b92e52f6cead...|    moveis_decoracao|                  56|                      296|                       2|          1700|                   100|                7|                15|[1700.0,100.0,7.0...|\n",
            "|f53103a77d9cf245e...|     cama_mesa_banho|                  52|                      206|                       1|           500|                    16|               10|                16|[500.0,16.0,10.0,...|\n",
            "+--------------------+--------------------+--------------------+-------------------------+------------------------+--------------+----------------------+-----------------+------------------+--------------------+\n",
            "only showing top 20 rows\n",
            "\n"
          ]
        }
      ]
    },
    {
      "cell_type": "code",
      "source": [
        "from pyspark.ml.feature import VectorAssembler, MinMaxScaler\n",
        "\n",
        "\n",
        "scaler = MinMaxScaler(inputCol='caracteristicas', outputCol='caracteristicas_normalizado')\n",
        "modelo_scaler = scaler.fit(produtos_caracteristicas_df)\n",
        "\n",
        "produtos_caracteristicas_normalizado_df = modelo_scaler.transform(produtos_caracteristicas_df)\n",
        "produtos_caracteristicas_normalizado_df.show(truncate=False)"
      ],
      "metadata": {
        "colab": {
          "base_uri": "https://localhost:8080/"
        },
        "id": "sNPupoSaeDcs",
        "outputId": "dab49d26-fa00-4a00-fbd8-21a2e1213d12"
      },
      "execution_count": 48,
      "outputs": [
        {
          "output_type": "stream",
          "name": "stdout",
          "text": [
            "+--------------------------------+--------------------------------+--------------------+-------------------------+------------------------+--------------+----------------------+-----------------+------------------+------------------------+-----------------------------------------------------------------------------------+\n",
            "|id_produto                      |categoria_produto               |tamanho_nome_produto|tamanho_descricao_produto|quantidade_fotos_produto|peso_produto_g|comprimento_produto_cm|altura_produto_cm|largura_produto_cm|caracteristicas         |caracteristicas_normalizado                                                        |\n",
            "+--------------------------------+--------------------------------+--------------------+-------------------------+------------------------+--------------+----------------------+-----------------+------------------+------------------------+-----------------------------------------------------------------------------------+\n",
            "|1e9e8ef04dbcff4541ed26657ea517e5|perfumaria                      |40                  |287                      |1                       |225           |16                    |10               |14                |[225.0,16.0,10.0,14.0]  |[0.005565862708719852,0.09183673469387754,0.07766990291262135,0.07142857142857142] |\n",
            "|3aa071139cb16b67ca9e5dea641aaa2f|artes                           |44                  |276                      |1                       |1000          |30                    |18               |20                |[1000.0,30.0,18.0,20.0] |[0.024737167594310452,0.2346938775510204,0.1553398058252427,0.125]                 |\n",
            "|96bd76ec8810374ed1b65e291975717f|esporte_lazer                   |46                  |250                      |1                       |154           |18                    |9                |15                |[154.0,18.0,9.0,15.0]   |[0.00380952380952381,0.11224489795918366,0.06796116504854369,0.08035714285714285]  |\n",
            "|cef67bcfe19066a932b7673e239eb23d|bebes                           |27                  |261                      |1                       |371           |26                    |4                |26                |[371.0,26.0,4.0,26.0]   |[0.009177489177489178,0.19387755102040816,0.019417475728155338,0.17857142857142855]|\n",
            "|9dc1a7de274444849c219cff195d0b71|utilidades_domesticas           |37                  |402                      |4                       |625           |20                    |17               |13                |[625.0,20.0,17.0,13.0]  |[0.015460729746444033,0.13265306122448978,0.14563106796116504,0.0625]              |\n",
            "|41d3672d4792049fa1779bb35283ed13|instrumentos_musicais           |60                  |745                      |1                       |200           |38                    |5                |11                |[200.0,38.0,5.0,11.0]   |[0.004947433518862091,0.31632653061224486,0.029126213592233007,0.04464285714285714]|\n",
            "|732bd381ad09e530fe0a5f457d81becb|cool_stuff                      |56                  |1272                     |4                       |18350         |70                    |24               |44                |[18350.0,70.0,24.0,44.0]|[0.4539270253555968,0.6428571428571428,0.21359223300970873,0.33928571428571425]    |\n",
            "|2548af3e6e77a690cf3eb6368e9ab61e|moveis_decoracao                |56                  |184                      |2                       |900           |40                    |8                |40                |[900.0,40.0,8.0,40.0]   |[0.02226345083487941,0.336734693877551,0.058252427184466014,0.30357142857142855]   |\n",
            "|37cc742be07708b53a98702e77a21a02|eletrodomesticos                |57                  |163                      |1                       |400           |27                    |13               |17                |[400.0,27.0,13.0,17.0]  |[0.009894867037724181,0.2040816326530612,0.10679611650485436,0.09821428571428571]  |\n",
            "|8c92109888e8cdf9d66dc7e463025574|brinquedos                      |36                  |1156                     |1                       |600           |17                    |10               |12                |[600.0,17.0,10.0,12.0]  |[0.014842300556586271,0.1020408163265306,0.07766990291262135,0.05357142857142857]  |\n",
            "|14aa47b7fe5c25522b47b4b29c98dcb9|cama_mesa_banho                 |54                  |630                      |1                       |1100          |16                    |10               |16                |[1100.0,16.0,10.0,16.0] |[0.0272108843537415,0.09183673469387754,0.07766990291262135,0.08928571428571427]   |\n",
            "|03b63c5fc16691530586ae020c345514|bebes                           |49                  |728                      |4                       |7150          |50                    |19               |45                |[7150.0,50.0,19.0,45.0] |[0.17687074829931973,0.4387755102040816,0.16504854368932037,0.3482142857142857]    |\n",
            "|cf55509ea8edaaac1d28fdb16e48fc22|instrumentos_musicais           |43                  |1827                     |3                       |250           |17                    |7                |17                |[250.0,17.0,7.0,17.0]   |[0.006184291898577613,0.1020408163265306,0.04854368932038834,0.09821428571428571]  |\n",
            "|7bb6f29c2be57716194f96496660c7c2|moveis_decoracao                |51                  |2083                     |2                       |600           |68                    |11               |13                |[600.0,68.0,11.0,13.0]  |[0.014842300556586271,0.6224489795918366,0.08737864077669902,0.0625]               |\n",
            "|eb31436580a610f202c859463d8c7415|construcao_ferramentas_seguranca|59                  |1602                     |4                       |200           |17                    |7                |17                |[200.0,17.0,7.0,17.0]   |[0.004947433518862091,0.1020408163265306,0.04854368932038834,0.09821428571428571]  |\n",
            "|3bb7f144022e6732727d8d838a7b13b3|esporte_lazer                   |22                  |3021                     |1                       |800           |16                    |2                |11                |[800.0,16.0,2.0,11.0]   |[0.019789734075448363,0.09183673469387754,0.0,0.04464285714285714]                 |\n",
            "|6a2fb4dd53d2cdb88e0432f1284a004c|perfumaria                      |39                  |346                      |2                       |400           |27                    |5                |20                |[400.0,27.0,5.0,20.0]   |[0.009894867037724181,0.2040816326530612,0.029126213592233007,0.125]               |\n",
            "|a1b71017a84f92fd8da4aeefba108a24|informatica_acessorios          |59                  |636                      |1                       |900           |40                    |15               |20                |[900.0,40.0,15.0,20.0]  |[0.02226345083487941,0.336734693877551,0.1262135922330097,0.125]                   |\n",
            "|a0736b92e52f6cead290e30b578413b6|moveis_decoracao                |56                  |296                      |2                       |1700          |100                   |7                |15                |[1700.0,100.0,7.0,15.0] |[0.04205318491032777,0.9489795918367346,0.04854368932038834,0.08035714285714285]   |\n",
            "|f53103a77d9cf245e579ea37e5ec51f0|cama_mesa_banho                 |52                  |206                      |1                       |500           |16                    |10               |16                |[500.0,16.0,10.0,16.0]  |[0.012368583797155226,0.09183673469387754,0.07766990291262135,0.08928571428571427] |\n",
            "+--------------------------------+--------------------------------+--------------------+-------------------------+------------------------+--------------+----------------------+-----------------+------------------+------------------------+-----------------------------------------------------------------------------------+\n",
            "only showing top 20 rows\n",
            "\n"
          ]
        }
      ]
    },
    {
      "cell_type": "code",
      "metadata": {
        "colab": {
          "base_uri": "https://localhost:8080/"
        },
        "id": "64ee30cc",
        "outputId": "9d035672-9f30-4a64-9ab3-0cf88a9c6aa7"
      },
      "source": [
        "# Montar vetor de características, ignorando linhas com valores inválidos\n",
        "montar_vetor = VectorAssembler(\n",
        "    inputCols=['peso_produto_g', 'comprimento_produto_cm', 'altura_produto_cm', 'largura_produto_cm'],\n",
        "    outputCol='caracteristicas',\n",
        "    handleInvalid=\"skip\" # Ignorar linhas com valores nulos\n",
        ")\n",
        "\n",
        "produtos_caracteristicas_df = montar_vetor.transform(produtos)\n",
        "produtos_caracteristicas_df.show()"
      ],
      "execution_count": 39,
      "outputs": [
        {
          "output_type": "stream",
          "name": "stdout",
          "text": [
            "+--------------------+--------------------+--------------------+-------------------------+------------------------+--------------+----------------------+-----------------+------------------+--------------------+\n",
            "|          id_produto|   categoria_produto|tamanho_nome_produto|tamanho_descricao_produto|quantidade_fotos_produto|peso_produto_g|comprimento_produto_cm|altura_produto_cm|largura_produto_cm|     caracteristicas|\n",
            "+--------------------+--------------------+--------------------+-------------------------+------------------------+--------------+----------------------+-----------------+------------------+--------------------+\n",
            "|1e9e8ef04dbcff454...|          perfumaria|                  40|                      287|                       1|           225|                    16|               10|                14|[225.0,16.0,10.0,...|\n",
            "|3aa071139cb16b67c...|               artes|                  44|                      276|                       1|          1000|                    30|               18|                20|[1000.0,30.0,18.0...|\n",
            "|96bd76ec8810374ed...|       esporte_lazer|                  46|                      250|                       1|           154|                    18|                9|                15|[154.0,18.0,9.0,1...|\n",
            "|cef67bcfe19066a93...|               bebes|                  27|                      261|                       1|           371|                    26|                4|                26|[371.0,26.0,4.0,2...|\n",
            "|9dc1a7de274444849...|utilidades_domest...|                  37|                      402|                       4|           625|                    20|               17|                13|[625.0,20.0,17.0,...|\n",
            "|41d3672d4792049fa...|instrumentos_musi...|                  60|                      745|                       1|           200|                    38|                5|                11|[200.0,38.0,5.0,1...|\n",
            "|732bd381ad09e530f...|          cool_stuff|                  56|                     1272|                       4|         18350|                    70|               24|                44|[18350.0,70.0,24....|\n",
            "|2548af3e6e77a690c...|    moveis_decoracao|                  56|                      184|                       2|           900|                    40|                8|                40|[900.0,40.0,8.0,4...|\n",
            "|37cc742be07708b53...|    eletrodomesticos|                  57|                      163|                       1|           400|                    27|               13|                17|[400.0,27.0,13.0,...|\n",
            "|8c92109888e8cdf9d...|          brinquedos|                  36|                     1156|                       1|           600|                    17|               10|                12|[600.0,17.0,10.0,...|\n",
            "|14aa47b7fe5c25522...|     cama_mesa_banho|                  54|                      630|                       1|          1100|                    16|               10|                16|[1100.0,16.0,10.0...|\n",
            "|03b63c5fc16691530...|               bebes|                  49|                      728|                       4|          7150|                    50|               19|                45|[7150.0,50.0,19.0...|\n",
            "|cf55509ea8edaaac1...|instrumentos_musi...|                  43|                     1827|                       3|           250|                    17|                7|                17|[250.0,17.0,7.0,1...|\n",
            "|7bb6f29c2be577161...|    moveis_decoracao|                  51|                     2083|                       2|           600|                    68|               11|                13|[600.0,68.0,11.0,...|\n",
            "|eb31436580a610f20...|construcao_ferram...|                  59|                     1602|                       4|           200|                    17|                7|                17|[200.0,17.0,7.0,1...|\n",
            "|3bb7f144022e67327...|       esporte_lazer|                  22|                     3021|                       1|           800|                    16|                2|                11|[800.0,16.0,2.0,1...|\n",
            "|6a2fb4dd53d2cdb88...|          perfumaria|                  39|                      346|                       2|           400|                    27|                5|                20|[400.0,27.0,5.0,2...|\n",
            "|a1b71017a84f92fd8...|informatica_acess...|                  59|                      636|                       1|           900|                    40|               15|                20|[900.0,40.0,15.0,...|\n",
            "|a0736b92e52f6cead...|    moveis_decoracao|                  56|                      296|                       2|          1700|                   100|                7|                15|[1700.0,100.0,7.0...|\n",
            "|f53103a77d9cf245e...|     cama_mesa_banho|                  52|                      206|                       1|           500|                    16|               10|                16|[500.0,16.0,10.0,...|\n",
            "+--------------------+--------------------+--------------------+-------------------------+------------------------+--------------+----------------------+-----------------+------------------+--------------------+\n",
            "only showing top 20 rows\n",
            "\n"
          ]
        }
      ]
    },
    {
      "cell_type": "code",
      "metadata": {
        "colab": {
          "base_uri": "https://localhost:8080/"
        },
        "id": "45dd03aa",
        "outputId": "b85c7508-65b0-46dd-f7da-17240d9dd1f3"
      },
      "source": [
        "# Normalizar o vetor de características\n",
        "scaler = MinMaxScaler(inputCol='caracteristicas', outputCol='caracteristicas_normalizado')\n",
        "modelo_scaler = scaler.fit(produtos_caracteristicas_df)\n",
        "\n",
        "produtos_caracteristicas_normalizado_df = modelo_scaler.transform(produtos_caracteristicas_df)\n",
        "produtos_caracteristicas_normalizado_df.show(truncate=False)"
      ],
      "execution_count": 36,
      "outputs": [
        {
          "output_type": "stream",
          "name": "stdout",
          "text": [
            "+--------------------------------+--------------------------------+--------------------+-------------------------+------------------------+--------------+----------------------+-----------------+------------------+------------------------+-----------------------------------------------------------------------------------+\n",
            "|id_produto                      |categoria_produto               |tamanho_nome_produto|tamanho_descricao_produto|quantidade_fotos_produto|peso_produto_g|comprimento_produto_cm|altura_produto_cm|largura_produto_cm|caracteristicas         |caracteristicas_normalizado                                                        |\n",
            "+--------------------------------+--------------------------------+--------------------+-------------------------+------------------------+--------------+----------------------+-----------------+------------------+------------------------+-----------------------------------------------------------------------------------+\n",
            "|1e9e8ef04dbcff4541ed26657ea517e5|perfumaria                      |40                  |287                      |1                       |225           |16                    |10               |14                |[225.0,16.0,10.0,14.0]  |[0.005565862708719852,0.09183673469387754,0.07766990291262135,0.07142857142857142] |\n",
            "|3aa071139cb16b67ca9e5dea641aaa2f|artes                           |44                  |276                      |1                       |1000          |30                    |18               |20                |[1000.0,30.0,18.0,20.0] |[0.024737167594310452,0.2346938775510204,0.1553398058252427,0.125]                 |\n",
            "|96bd76ec8810374ed1b65e291975717f|esporte_lazer                   |46                  |250                      |1                       |154           |18                    |9                |15                |[154.0,18.0,9.0,15.0]   |[0.00380952380952381,0.11224489795918366,0.06796116504854369,0.08035714285714285]  |\n",
            "|cef67bcfe19066a932b7673e239eb23d|bebes                           |27                  |261                      |1                       |371           |26                    |4                |26                |[371.0,26.0,4.0,26.0]   |[0.009177489177489178,0.19387755102040816,0.019417475728155338,0.17857142857142855]|\n",
            "|9dc1a7de274444849c219cff195d0b71|utilidades_domesticas           |37                  |402                      |4                       |625           |20                    |17               |13                |[625.0,20.0,17.0,13.0]  |[0.015460729746444033,0.13265306122448978,0.14563106796116504,0.0625]              |\n",
            "|41d3672d4792049fa1779bb35283ed13|instrumentos_musicais           |60                  |745                      |1                       |200           |38                    |5                |11                |[200.0,38.0,5.0,11.0]   |[0.004947433518862091,0.31632653061224486,0.029126213592233007,0.04464285714285714]|\n",
            "|732bd381ad09e530fe0a5f457d81becb|cool_stuff                      |56                  |1272                     |4                       |18350         |70                    |24               |44                |[18350.0,70.0,24.0,44.0]|[0.4539270253555968,0.6428571428571428,0.21359223300970873,0.33928571428571425]    |\n",
            "|2548af3e6e77a690cf3eb6368e9ab61e|moveis_decoracao                |56                  |184                      |2                       |900           |40                    |8                |40                |[900.0,40.0,8.0,40.0]   |[0.02226345083487941,0.336734693877551,0.058252427184466014,0.30357142857142855]   |\n",
            "|37cc742be07708b53a98702e77a21a02|eletrodomesticos                |57                  |163                      |1                       |400           |27                    |13               |17                |[400.0,27.0,13.0,17.0]  |[0.009894867037724181,0.2040816326530612,0.10679611650485436,0.09821428571428571]  |\n",
            "|8c92109888e8cdf9d66dc7e463025574|brinquedos                      |36                  |1156                     |1                       |600           |17                    |10               |12                |[600.0,17.0,10.0,12.0]  |[0.014842300556586271,0.1020408163265306,0.07766990291262135,0.05357142857142857]  |\n",
            "|14aa47b7fe5c25522b47b4b29c98dcb9|cama_mesa_banho                 |54                  |630                      |1                       |1100          |16                    |10               |16                |[1100.0,16.0,10.0,16.0] |[0.0272108843537415,0.09183673469387754,0.07766990291262135,0.08928571428571427]   |\n",
            "|03b63c5fc16691530586ae020c345514|bebes                           |49                  |728                      |4                       |7150          |50                    |19               |45                |[7150.0,50.0,19.0,45.0] |[0.17687074829931973,0.4387755102040816,0.16504854368932037,0.3482142857142857]    |\n",
            "|cf55509ea8edaaac1d28fdb16e48fc22|instrumentos_musicais           |43                  |1827                     |3                       |250           |17                    |7                |17                |[250.0,17.0,7.0,17.0]   |[0.006184291898577613,0.1020408163265306,0.04854368932038834,0.09821428571428571]  |\n",
            "|7bb6f29c2be57716194f96496660c7c2|moveis_decoracao                |51                  |2083                     |2                       |600           |68                    |11               |13                |[600.0,68.0,11.0,13.0]  |[0.014842300556586271,0.6224489795918366,0.08737864077669902,0.0625]               |\n",
            "|eb31436580a610f202c859463d8c7415|construcao_ferramentas_seguranca|59                  |1602                     |4                       |200           |17                    |7                |17                |[200.0,17.0,7.0,17.0]   |[0.004947433518862091,0.1020408163265306,0.04854368932038834,0.09821428571428571]  |\n",
            "|3bb7f144022e6732727d8d838a7b13b3|esporte_lazer                   |22                  |3021                     |1                       |800           |16                    |2                |11                |[800.0,16.0,2.0,11.0]   |[0.019789734075448363,0.09183673469387754,0.0,0.04464285714285714]                 |\n",
            "|6a2fb4dd53d2cdb88e0432f1284a004c|perfumaria                      |39                  |346                      |2                       |400           |27                    |5                |20                |[400.0,27.0,5.0,20.0]   |[0.009894867037724181,0.2040816326530612,0.029126213592233007,0.125]               |\n",
            "|a1b71017a84f92fd8da4aeefba108a24|informatica_acessorios          |59                  |636                      |1                       |900           |40                    |15               |20                |[900.0,40.0,15.0,20.0]  |[0.02226345083487941,0.336734693877551,0.1262135922330097,0.125]                   |\n",
            "|a0736b92e52f6cead290e30b578413b6|moveis_decoracao                |56                  |296                      |2                       |1700          |100                   |7                |15                |[1700.0,100.0,7.0,15.0] |[0.04205318491032777,0.9489795918367346,0.04854368932038834,0.08035714285714285]   |\n",
            "|f53103a77d9cf245e579ea37e5ec51f0|cama_mesa_banho                 |52                  |206                      |1                       |500           |16                    |10               |16                |[500.0,16.0,10.0,16.0]  |[0.012368583797155226,0.09183673469387754,0.07766990291262135,0.08928571428571427] |\n",
            "+--------------------------------+--------------------------------+--------------------+-------------------------+------------------------+--------------+----------------------+-----------------+------------------+------------------------+-----------------------------------------------------------------------------------+\n",
            "only showing top 20 rows\n",
            "\n"
          ]
        }
      ]
    },
    {
      "cell_type": "code",
      "source": [
        "# Reduzir dimensionalidade\n",
        "pca = PCA(k=2, inputCol='caracteristicas_normalizado', outputCol='caracteristicas_pca')\n",
        "modelo_pca = pca.fit(produtos_caracteristicas_normalizado_df)\n",
        "produtos_caracteristicas_reduzida_df = modelo_pca.transform(produtos_caracteristicas_normalizado_df)\n",
        "\n",
        "produtos_caracteristicas_reduzida_df.show(truncate=False)"
      ],
      "metadata": {
        "colab": {
          "base_uri": "https://localhost:8080/"
        },
        "id": "hqC3XUQyzFG_",
        "outputId": "a2698c81-f390-49a7-ed58-f78d095a5efc"
      },
      "execution_count": 52,
      "outputs": [
        {
          "output_type": "stream",
          "name": "stdout",
          "text": [
            "+--------------------------------+--------------------------------+--------------------+-------------------------+------------------------+--------------+----------------------+-----------------+------------------+------------------------+-----------------------------------------------------------------------------------+--------------------------------------------+\n",
            "|id_produto                      |categoria_produto               |tamanho_nome_produto|tamanho_descricao_produto|quantidade_fotos_produto|peso_produto_g|comprimento_produto_cm|altura_produto_cm|largura_produto_cm|caracteristicas         |caracteristicas_normalizado                                                        |caracteristicas_pca                         |\n",
            "+--------------------------------+--------------------------------+--------------------+-------------------------+------------------------+--------------+----------------------+-----------------+------------------+------------------------+-----------------------------------------------------------------------------------+--------------------------------------------+\n",
            "|1e9e8ef04dbcff4541ed26657ea517e5|perfumaria                      |40                  |287                      |1                       |225           |16                    |10               |14                |[225.0,16.0,10.0,14.0]  |[0.005565862708719852,0.09183673469387754,0.07766990291262135,0.07142857142857142] |[-0.1267539801998911,0.01663638259260585]   |\n",
            "|3aa071139cb16b67ca9e5dea641aaa2f|artes                           |44                  |276                      |1                       |1000          |30                    |18               |20                |[1000.0,30.0,18.0,20.0] |[0.024737167594310452,0.2346938775510204,0.1553398058252427,0.125]                 |[-0.29066995013837094,0.010367016695515346] |\n",
            "|96bd76ec8810374ed1b65e291975717f|esporte_lazer                   |46                  |250                      |1                       |154           |18                    |9                |15                |[154.0,18.0,9.0,15.0]   |[0.00380952380952381,0.11224489795918366,0.06796116504854369,0.08035714285714285]  |[-0.14167470711539495,-0.002201179756719532]|\n",
            "|cef67bcfe19066a932b7673e239eb23d|bebes                           |27                  |261                      |1                       |371           |26                    |4                |26                |[371.0,26.0,4.0,26.0]   |[0.009177489177489178,0.19387755102040816,0.019417475728155338,0.17857142857142855]|[-0.22697992368662537,-0.08083405304231105] |\n",
            "|9dc1a7de274444849c219cff195d0b71|utilidades_domesticas           |37                  |402                      |4                       |625           |20                    |17               |13                |[625.0,20.0,17.0,13.0]  |[0.015460729746444033,0.13265306122448978,0.14563106796116504,0.0625]              |[-0.18185992350302008,0.05242086099854486]  |\n",
            "|41d3672d4792049fa1779bb35283ed13|instrumentos_musicais           |60                  |745                      |1                       |200           |38                    |5                |11                |[200.0,38.0,5.0,11.0]   |[0.004947433518862091,0.31632653061224486,0.029126213592233007,0.04464285714285714]|[-0.2700014356575323,-0.14012908113876082]  |\n",
            "|732bd381ad09e530fe0a5f457d81becb|cool_stuff                      |56                  |1272                     |4                       |18350         |70                    |24               |44                |[18350.0,70.0,24.0,44.0]|[0.4539270253555968,0.6428571428571428,0.21359223300970873,0.33928571428571425]    |[-0.870583315001359,-0.02706307614882464]   |\n",
            "|2548af3e6e77a690cf3eb6368e9ab61e|moveis_decoracao                |56                  |184                      |2                       |900           |40                    |8                |40                |[900.0,40.0,8.0,40.0]   |[0.02226345083487941,0.336734693877551,0.058252427184466014,0.30357142857142855]   |[-0.4026749020641024,-0.11900774751895304]  |\n",
            "|37cc742be07708b53a98702e77a21a02|eletrodomesticos                |57                  |163                      |1                       |400           |27                    |13               |17                |[400.0,27.0,13.0,17.0]  |[0.009894867037724181,0.2040816326530612,0.10679611650485436,0.09821428571428571]  |[-0.23434496213707207,-0.01716116130165858] |\n",
            "|8c92109888e8cdf9d66dc7e463025574|brinquedos                      |36                  |1156                     |1                       |600           |17                    |10               |12                |[600.0,17.0,10.0,12.0]  |[0.014842300556586271,0.1020408163265306,0.07766990291262135,0.05357142857142857]  |[-0.13118977675379684,0.013802562498165416] |\n",
            "|14aa47b7fe5c25522b47b4b29c98dcb9|cama_mesa_banho                 |54                  |630                      |1                       |1100          |16                    |10               |16                |[1100.0,16.0,10.0,16.0] |[0.0272108843537415,0.09183673469387754,0.07766990291262135,0.08928571428571427]   |[-0.1420477914776798,0.02325984131018121]   |\n",
            "|03b63c5fc16691530586ae020c345514|bebes                           |49                  |728                      |4                       |7150          |50                    |19               |45                |[7150.0,50.0,19.0,45.0] |[0.17687074829931973,0.4387755102040816,0.16504854368932037,0.3482142857142857]    |[-0.5946469520571723,-0.04078346839193822]  |\n",
            "|cf55509ea8edaaac1d28fdb16e48fc22|instrumentos_musicais           |43                  |1827                     |3                       |250           |17                    |7                |17                |[250.0,17.0,7.0,17.0]   |[0.006184291898577613,0.1020408163265306,0.04854368932038834,0.09821428571428571]  |[-0.13498112511765287,-0.011451363275497187]|\n",
            "|7bb6f29c2be57716194f96496660c7c2|moveis_decoracao                |51                  |2083                     |2                       |600           |68                    |11               |13                |[600.0,68.0,11.0,13.0]  |[0.014842300556586271,0.6224489795918366,0.08737864077669902,0.0625]               |[-0.5339297685904575,-0.25052754415040224]  |\n",
            "|eb31436580a610f202c859463d8c7415|construcao_ferramentas_seguranca|59                  |1602                     |4                       |200           |17                    |7                |17                |[200.0,17.0,7.0,17.0]   |[0.004947433518862091,0.1020408163265306,0.04854368932038834,0.09821428571428571]  |[-0.1345024490747296,-0.01181644599972305]  |\n",
            "|3bb7f144022e6732727d8d838a7b13b3|esporte_lazer                   |22                  |3021                     |1                       |800           |16                    |2                |11                |[800.0,16.0,2.0,11.0]   |[0.019789734075448363,0.09183673469387754,0.0,0.04464285714285714]                 |[-0.09481562883086739,-0.041609264145933716]|\n",
            "|6a2fb4dd53d2cdb88e0432f1284a004c|perfumaria                      |39                  |346                      |2                       |400           |27                    |5                |20                |[400.0,27.0,5.0,20.0]   |[0.009894867037724181,0.2040816326530612,0.029126213592233007,0.125]               |[-0.21765277785432569,-0.07890172623792717] |\n",
            "|a1b71017a84f92fd8da4aeefba108a24|informatica_acessorios          |59                  |636                      |1                       |900           |40                    |15               |20                |[900.0,40.0,15.0,20.0]  |[0.02226345083487941,0.336734693877551,0.1262135922330097,0.125]                   |[-0.3571892949863933,-0.06702206789119099]  |\n",
            "|a0736b92e52f6cead290e30b578413b6|moveis_decoracao                |56                  |296                      |2                       |1700          |100                   |7                |15                |[1700.0,100.0,7.0,15.0] |[0.04205318491032777,0.9489795918367346,0.04854368932038834,0.08035714285714285]   |[-0.786250410800667,-0.44410512236503336]   |\n",
            "|f53103a77d9cf245e579ea37e5ec51f0|cama_mesa_banho                 |52                  |206                      |1                       |500           |16                    |10               |16                |[500.0,16.0,10.0,16.0]  |[0.012368583797155226,0.09183673469387754,0.07766990291262135,0.08928571428571427] |[-0.13630367896260065,0.018878848619470874] |\n",
            "+--------------------------------+--------------------------------+--------------------+-------------------------+------------------------+--------------+----------------------+-----------------+------------------+------------------------+-----------------------------------------------------------------------------------+--------------------------------------------+\n",
            "only showing top 20 rows\n",
            "\n"
          ]
        }
      ]
    },
    {
      "cell_type": "code",
      "source": [
        "produtos_caracteristicas_reduzida_df.write.mode('overwrite').option('header', 'true').parquet('drive/MyDrive/Planilha excel ANALISTA DE DADOS/produtos_preprocessados_parquet')\n",
        "\n",
        "df = spark.read.option('header', 'true').parquet('drive/MyDrive/Planilha excel ANALISTA DE DADOS/produtos_preprocessados_parquet')\n",
        "df.show(5)\n",
        "df.printSchema()"
      ],
      "metadata": {
        "colab": {
          "base_uri": "https://localhost:8080/"
        },
        "id": "hh6HINQBz3sa",
        "outputId": "0625d07e-43d1-49d4-d89d-c01854d63e63"
      },
      "execution_count": 54,
      "outputs": [
        {
          "output_type": "stream",
          "name": "stdout",
          "text": [
            "+--------------------+--------------------+--------------------+-------------------------+------------------------+--------------+----------------------+-----------------+------------------+--------------------+---------------------------+--------------------+\n",
            "|          id_produto|   categoria_produto|tamanho_nome_produto|tamanho_descricao_produto|quantidade_fotos_produto|peso_produto_g|comprimento_produto_cm|altura_produto_cm|largura_produto_cm|     caracteristicas|caracteristicas_normalizado| caracteristicas_pca|\n",
            "+--------------------+--------------------+--------------------+-------------------------+------------------------+--------------+----------------------+-----------------+------------------+--------------------+---------------------------+--------------------+\n",
            "|1e9e8ef04dbcff454...|          perfumaria|                  40|                      287|                       1|           225|                    16|               10|                14|[225.0,16.0,10.0,...|       [0.00556586270871...|[-0.1267539801998...|\n",
            "|3aa071139cb16b67c...|               artes|                  44|                      276|                       1|          1000|                    30|               18|                20|[1000.0,30.0,18.0...|       [0.02473716759431...|[-0.2906699501383...|\n",
            "|96bd76ec8810374ed...|       esporte_lazer|                  46|                      250|                       1|           154|                    18|                9|                15|[154.0,18.0,9.0,1...|       [0.00380952380952...|[-0.1416747071153...|\n",
            "|cef67bcfe19066a93...|               bebes|                  27|                      261|                       1|           371|                    26|                4|                26|[371.0,26.0,4.0,2...|       [0.00917748917748...|[-0.2269799236866...|\n",
            "|9dc1a7de274444849...|utilidades_domest...|                  37|                      402|                       4|           625|                    20|               17|                13|[625.0,20.0,17.0,...|       [0.01546072974644...|[-0.1818599235030...|\n",
            "+--------------------+--------------------+--------------------+-------------------------+------------------------+--------------+----------------------+-----------------+------------------+--------------------+---------------------------+--------------------+\n",
            "only showing top 5 rows\n",
            "\n",
            "root\n",
            " |-- id_produto: string (nullable = true)\n",
            " |-- categoria_produto: string (nullable = true)\n",
            " |-- tamanho_nome_produto: integer (nullable = true)\n",
            " |-- tamanho_descricao_produto: integer (nullable = true)\n",
            " |-- quantidade_fotos_produto: integer (nullable = true)\n",
            " |-- peso_produto_g: integer (nullable = true)\n",
            " |-- comprimento_produto_cm: integer (nullable = true)\n",
            " |-- altura_produto_cm: integer (nullable = true)\n",
            " |-- largura_produto_cm: integer (nullable = true)\n",
            " |-- caracteristicas: vector (nullable = true)\n",
            " |-- caracteristicas_normalizado: vector (nullable = true)\n",
            " |-- caracteristicas_pca: vector (nullable = true)\n",
            "\n"
          ]
        }
      ]
    },
    {
      "cell_type": "code",
      "source": [
        "pagamentos_normalizado_df.write.mode('overwrite').option('header', 'true').parquet('drive/MyDrive/Planilha excel ANALISTA DE DADOS/pagamentos_pedido_preprocessados_parquet')\n",
        "\n",
        "spark.read.option('header', 'true').parquet('drive/MyDrive/Planilha excel ANALISTA DE DADOS/pagamentos_pedido_preprocessados_parquet').show(5)"
      ],
      "metadata": {
        "colab": {
          "base_uri": "https://localhost:8080/"
        },
        "id": "jj9w4wIu0YtZ",
        "outputId": "3b2eeb53-5197-4f14-909e-dd45b60924eb"
      },
      "execution_count": 55,
      "outputs": [
        {
          "output_type": "stream",
          "name": "stdout",
          "text": [
            "+--------------------+-------------------+--------------+------------------+---------------+---------------------------+-------------------------------+\n",
            "|           id_pedido|sequencia_pagamento|tipo_pagamento|parcelas_pagamento|valor_pagamento|valor_pagamento_normalizado|parcelas_pagamentos_normalizado|\n",
            "+--------------------+-------------------+--------------+------------------+---------------+---------------------------+-------------------------------+\n",
            "|b81ef226f3fe1789b...|                  1|   credit_card|                 8|          99.33|       0.007269424652080491|             0.3333333333333333|\n",
            "|a9810da82917af2d9...|                  1|   credit_card|                 1|          24.39|       0.001784971984941...|           0.041666666666666664|\n",
            "|25e8ea4e93396b6fa...|                  1|   credit_card|                 1|          65.71|       0.004808958963940492|           0.041666666666666664|\n",
            "|ba78997921bbcdc13...|                  1|   credit_card|                 8|         107.78|        0.00788783438036077|             0.3333333333333333|\n",
            "|42fdf880ba16b47b5...|                  1|   credit_card|                 2|         128.45|        0.00940055971569253|            0.08333333333333333|\n",
            "+--------------------+-------------------+--------------+------------------+---------------+---------------------------+-------------------------------+\n",
            "only showing top 5 rows\n",
            "\n"
          ]
        }
      ]
    },
    {
      "cell_type": "code",
      "source": [
        "spark.stop()"
      ],
      "metadata": {
        "id": "DR0mfpAw0tTf"
      },
      "execution_count": 56,
      "outputs": []
    }
  ]
}