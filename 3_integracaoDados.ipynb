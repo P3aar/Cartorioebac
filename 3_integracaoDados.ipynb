{
  "nbformat": 4,
  "nbformat_minor": 0,
  "metadata": {
    "colab": {
      "provenance": [],
      "authorship_tag": "ABX9TyPuGT7aX5KoEI2gmXWd+3kF",
      "include_colab_link": true
    },
    "kernelspec": {
      "name": "python3",
      "display_name": "Python 3"
    },
    "language_info": {
      "name": "python"
    }
  },
  "cells": [
    {
      "cell_type": "markdown",
      "metadata": {
        "id": "view-in-github",
        "colab_type": "text"
      },
      "source": [
        "<a href=\"https://colab.research.google.com/github/P3aar/Cartorioebac/blob/main/3_integracaoDados.ipynb\" target=\"_parent\"><img src=\"https://colab.research.google.com/assets/colab-badge.svg\" alt=\"Open In Colab\"/></a>"
      ]
    },
    {
      "cell_type": "code",
      "execution_count": 5,
      "metadata": {
        "colab": {
          "base_uri": "https://localhost:8080/"
        },
        "id": "7hIHcUWqAXIj",
        "outputId": "fc822d9d-e15c-49a6-b887-0341ef5a6ce0"
      },
      "outputs": [
        {
          "output_type": "stream",
          "name": "stdout",
          "text": [
            "Requirement already satisfied: pyspark in /usr/local/lib/python3.12/dist-packages (3.5.1)\n",
            "Requirement already satisfied: py4j==0.10.9.7 in /usr/local/lib/python3.12/dist-packages (from pyspark) (0.10.9.7)\n"
          ]
        }
      ],
      "source": [
        "!pip install pyspark"
      ]
    },
    {
      "cell_type": "code",
      "source": [
        "import pyspark\n",
        "from pyspark.sql import SparkSession\n",
        "from pyspark.sql.functions import col, concat, lit"
      ],
      "metadata": {
        "id": "1v1mvmi9Affa"
      },
      "execution_count": 7,
      "outputs": []
    },
    {
      "cell_type": "code",
      "source": [
        "spark = SparkSession.builder.getOrCreate()"
      ],
      "metadata": {
        "id": "NCuX9-VmAfop"
      },
      "execution_count": 8,
      "outputs": []
    },
    {
      "cell_type": "code",
      "source": [
        "from google.colab import drive\n",
        "drive.mount('/content/drive')"
      ],
      "metadata": {
        "colab": {
          "base_uri": "https://localhost:8080/"
        },
        "id": "zlqBPKBFApwE",
        "outputId": "2214e508-3253-4e96-bd8e-3234cd5051b5"
      },
      "execution_count": 9,
      "outputs": [
        {
          "output_type": "stream",
          "name": "stdout",
          "text": [
            "Mounted at /content/drive\n"
          ]
        }
      ]
    },
    {
      "cell_type": "code",
      "source": [
        "produtos = spark.read.csv('drive/MyDrive/Planilha excel ANALISTA DE DADOS/produtos.csv', header=True, inferSchema=True)\n",
        "clientes = spark.read.csv('drive/MyDrive/Planilha excel ANALISTA DE DADOS/clientes.csv', header=True, inferSchema=True)\n",
        "itens_pedidos = spark.read.csv('drive/MyDrive/Planilha excel ANALISTA DE DADOS/itens_pedido.csv', header=True, inferSchema=True)\n",
        "pedidos = spark.read.csv('drive/MyDrive/Planilha excel ANALISTA DE DADOS/pedidos.csv', header=True, inferSchema=True)"
      ],
      "metadata": {
        "id": "LXSnqNRVCYmo"
      },
      "execution_count": 12,
      "outputs": []
    },
    {
      "cell_type": "code",
      "source": [
        "join_pedidos_clientes_df = pedidos.join(clientes, pedidos['id_cliente'] == clientes['id_cliente'], 'inner')\n",
        "join_pedidos_clientes_df = pedidos.join(clientes,'id_cliente')\n",
        "\"\"\"\n",
        "inner\n",
        "outer\n",
        "left_outer\n",
        "right_outter\n",
        "\"\"\"\n",
        "\n",
        "pedidos.show(5)\n",
        "clientes.show(5)\n",
        "join_pedidos_clientes_df.show(5)"
      ],
      "metadata": {
        "colab": {
          "base_uri": "https://localhost:8080/"
        },
        "id": "aNClz0YVHHRR",
        "outputId": "146180d8-7d6f-4585-c261-9eb0da707c4b"
      },
      "execution_count": 13,
      "outputs": [
        {
          "output_type": "stream",
          "name": "stdout",
          "text": [
            "+--------------------+--------------------+-------------+-------------------+---------------------+-------------------------+--------------------+---------------------+\n",
            "|           id_pedido|          id_cliente|status_pedido| data_compra_pedido|data_aprovacao_pedido|data_envio_transportadora|data_entrega_cliente|data_estimada_entrega|\n",
            "+--------------------+--------------------+-------------+-------------------+---------------------+-------------------------+--------------------+---------------------+\n",
            "|e481f51cbdc54678b...|9ef432eb625129730...|    delivered|2017-10-02 10:56:33|  2017-10-02 11:07:15|      2017-10-04 19:55:00| 2017-10-10 21:25:13|  2017-10-18 00:00:00|\n",
            "|53cdb2fc8bc7dce0b...|b0830fb4747a6c6d2...|    delivered|2018-07-24 20:41:37|  2018-07-26 03:24:27|      2018-07-26 14:31:00| 2018-08-07 15:27:45|  2018-08-13 00:00:00|\n",
            "|47770eb9100c2d0c4...|41ce2a54c0b03bf34...|    delivered|2018-08-08 08:38:49|  2018-08-08 08:55:23|      2018-08-08 13:50:00| 2018-08-17 18:06:29|  2018-09-04 00:00:00|\n",
            "|949d5b44dbf5de918...|f88197465ea7920ad...|    delivered|2017-11-18 19:28:06|  2017-11-18 19:45:59|      2017-11-22 13:39:59| 2017-12-02 00:28:42|  2017-12-15 00:00:00|\n",
            "|ad21c59c0840e6cb8...|8ab97904e6daea886...|    delivered|2018-02-13 21:18:39|  2018-02-13 22:20:29|      2018-02-14 19:46:34| 2018-02-16 18:17:02|  2018-02-26 00:00:00|\n",
            "+--------------------+--------------------+-------------+-------------------+---------------------+-------------------------+--------------------+---------------------+\n",
            "only showing top 5 rows\n",
            "\n",
            "+--------------------+--------------------+-----------+--------------------+--------------+\n",
            "|          id_cliente|    id_unico_cliente|cep_cliente|      cidade_cliente|estado_cliente|\n",
            "+--------------------+--------------------+-----------+--------------------+--------------+\n",
            "|06b8999e2fba1a1fb...|861eff4711a542e4b...|      14409|              franca|            SP|\n",
            "|18955e83d337fd6b2...|290c77bc529b7ac93...|       9790|sao bernardo do c...|            SP|\n",
            "|4e7b3e00288586ebd...|060e732b5b29e8181...|       1151|           sao paulo|            SP|\n",
            "|b2b6027bc5c5109e5...|259dac757896d24d7...|       8775|     mogi das cruzes|            SP|\n",
            "|4f2d8ab171c80ec83...|345ecd01c38d18a90...|      13056|            campinas|            SP|\n",
            "+--------------------+--------------------+-----------+--------------------+--------------+\n",
            "only showing top 5 rows\n",
            "\n",
            "+--------------------+--------------------+-------------+-------------------+---------------------+-------------------------+--------------------+---------------------+--------------------+-----------+--------------------+--------------+\n",
            "|          id_cliente|           id_pedido|status_pedido| data_compra_pedido|data_aprovacao_pedido|data_envio_transportadora|data_entrega_cliente|data_estimada_entrega|    id_unico_cliente|cep_cliente|      cidade_cliente|estado_cliente|\n",
            "+--------------------+--------------------+-------------+-------------------+---------------------+-------------------------+--------------------+---------------------+--------------------+-----------+--------------------+--------------+\n",
            "|9ef432eb625129730...|e481f51cbdc54678b...|    delivered|2017-10-02 10:56:33|  2017-10-02 11:07:15|      2017-10-04 19:55:00| 2017-10-10 21:25:13|  2017-10-18 00:00:00|7c396fd4830fd0422...|       3149|           sao paulo|            SP|\n",
            "|b0830fb4747a6c6d2...|53cdb2fc8bc7dce0b...|    delivered|2018-07-24 20:41:37|  2018-07-26 03:24:27|      2018-07-26 14:31:00| 2018-08-07 15:27:45|  2018-08-13 00:00:00|af07308b275d755c9...|      47813|           barreiras|            BA|\n",
            "|41ce2a54c0b03bf34...|47770eb9100c2d0c4...|    delivered|2018-08-08 08:38:49|  2018-08-08 08:55:23|      2018-08-08 13:50:00| 2018-08-17 18:06:29|  2018-09-04 00:00:00|3a653a41f6f9fc3d2...|      75265|          vianopolis|            GO|\n",
            "|f88197465ea7920ad...|949d5b44dbf5de918...|    delivered|2017-11-18 19:28:06|  2017-11-18 19:45:59|      2017-11-22 13:39:59| 2017-12-02 00:28:42|  2017-12-15 00:00:00|7c142cf63193a1473...|      59296|sao goncalo do am...|            RN|\n",
            "|8ab97904e6daea886...|ad21c59c0840e6cb8...|    delivered|2018-02-13 21:18:39|  2018-02-13 22:20:29|      2018-02-14 19:46:34| 2018-02-16 18:17:02|  2018-02-26 00:00:00|72632f0f9dd73dfee...|       9195|         santo andre|            SP|\n",
            "+--------------------+--------------------+-------------+-------------------+---------------------+-------------------------+--------------------+---------------------+--------------------+-----------+--------------------+--------------+\n",
            "only showing top 5 rows\n",
            "\n"
          ]
        }
      ]
    },
    {
      "cell_type": "code",
      "source": [
        "join_itens_pedido_df = itens_pedidos.join(pedidos, 'id_pedido').join(produtos, 'id_produto')\n",
        "join_itens_pedido_df.show()"
      ],
      "metadata": {
        "colab": {
          "base_uri": "https://localhost:8080/"
        },
        "id": "8vaVx8n8Hnls",
        "outputId": "93bcbff0-d7d1-4225-c131-494ebf46064c"
      },
      "execution_count": 15,
      "outputs": [
        {
          "output_type": "stream",
          "name": "stdout",
          "text": [
            "+--------------------+--------------------+--------------+--------------------+-------------------+------+-----------+--------------------+-------------+-------------------+---------------------+-------------------------+--------------------+---------------------+--------------------+--------------------+-------------------------+------------------------+--------------+----------------------+-----------------+------------------+\n",
            "|          id_produto|           id_pedido|item_id_pedido|         id_vendedor|  data_limite_envio| preco|valor_frete|          id_cliente|status_pedido| data_compra_pedido|data_aprovacao_pedido|data_envio_transportadora|data_entrega_cliente|data_estimada_entrega|   categoria_produto|tamanho_nome_produto|tamanho_descricao_produto|quantidade_fotos_produto|peso_produto_g|comprimento_produto_cm|altura_produto_cm|largura_produto_cm|\n",
            "+--------------------+--------------------+--------------+--------------------+-------------------+------+-----------+--------------------+-------------+-------------------+---------------------+-------------------------+--------------------+---------------------+--------------------+--------------------+-------------------------+------------------------+--------------+----------------------+-----------------+------------------+\n",
            "|e5f2d52b802189ee6...|00018f77f2f0320c5...|             1|dd7ddc04e1b6c2c61...|2017-05-03 11:05:13| 239.9|      19.93|f6dd3ec061db4e398...|    delivered|2017-04-26 10:53:06|  2017-04-26 11:05:13|      2017-05-04 14:35:00| 2017-05-12 16:04:24|  2017-05-15 00:00:00|            pet_shop|                  56|                      239|                       2|         30000|                    50|               30|                40|\n",
            "|c777355d18b72b67a...|000229ec398224ef6...|             1|5b51032eddd242adc...|2018-01-18 14:48:30| 199.0|      17.87|6489ae5e4333f3693...|    delivered|2018-01-14 14:33:31|  2018-01-14 14:48:30|      2018-01-16 12:36:48| 2018-01-22 13:19:16|  2018-02-05 00:00:00|    moveis_decoracao|                  59|                      695|                       2|          3050|                    33|               13|                33|\n",
            "|7634da152a4610f15...|00024acbcdf0a6daa...|             1|9d7a1d34a50524090...|2018-08-15 10:10:18| 12.99|      12.79|d4eb9395c8c0431ee...|    delivered|2018-08-08 10:00:35|  2018-08-08 10:10:18|      2018-08-10 13:28:00| 2018-08-14 13:32:39|  2018-08-20 00:00:00|          perfumaria|                  42|                      480|                       1|           200|                    16|               10|                15|\n",
            "|ac6c3623068f30de0...|00042b26cf59d7ce6...|             1|df560393f3a51e745...|2017-02-13 13:57:51| 199.9|      18.14|58dbd0b2d70206bf4...|    delivered|2017-02-04 13:57:51|  2017-02-04 14:10:13|      2017-02-16 09:46:09| 2017-03-01 16:42:31|  2017-03-17 00:00:00|  ferramentas_jardim|                  59|                      409|                       1|          3750|                    35|               40|                30|\n",
            "|8d4f2bb7e93e6710a...|00054e8431b9d7675...|             1|7040e82f899a04d1b...|2017-12-14 12:10:31|  19.9|      11.85|32e2e6ab09e778d99...|    delivered|2017-12-10 11:53:48|  2017-12-10 12:10:31|      2017-12-12 01:07:48| 2017-12-18 22:03:38|  2018-01-04 00:00:00|           telefonia|                  52|                      815|                       1|           200|                    27|                5|                20|\n",
            "|310ae3c140ff94b03...|0005a1a1728c9d785...|             1|a416b6a846a117243...|2018-03-26 18:31:29|145.95|      11.65|16150771dfd477626...|    delivered|2018-03-19 18:40:33|  2018-03-20 18:35:21|      2018-03-28 00:37:42| 2018-03-29 18:17:31|  2018-03-29 00:00:00|        beleza_saude|                  59|                      493|                       1|          2000|                    30|               12|                16|\n",
            "|4535b0e1091c278df...|0005f50442cb953dc...|             1|ba143b05f0110f0dc...|2018-07-06 14:10:56| 53.99|       11.4|351d3cb2cee3c7fd0...|    delivered|2018-07-02 13:59:39|  2018-07-02 14:10:56|      2018-07-03 14:25:00| 2018-07-04 17:28:31|  2018-07-23 00:00:00|     livros_tecnicos|                  52|                     1192|                       1|           850|                    29|                3|                21|\n",
            "|f177554ea93259a5b...|00063b381e2406b52...|             1|8602a61d680a10a82...|2018-07-31 17:30:39|  45.0|      12.98|6a899e55865de6549...|    delivered|2018-07-27 17:21:27|  2018-07-27 18:00:06|      2018-07-30 14:52:00| 2018-08-07 13:56:52|  2018-08-07 00:00:00|fashion_bolsas_e_...|                  35|                       60|                       1|           200|                    16|               16|                11|\n",
            "|99a4788cb24856965...|0006ec9db01a64e59...|             1|4a3ca9315b744ce9f...|2018-07-26 17:24:20|  74.0|      23.32|5d178120c29c61748...|    delivered|2018-07-24 17:04:17|  2018-07-24 17:24:20|      2018-07-25 11:02:00| 2018-07-31 01:04:15|  2018-08-22 00:00:00|     cama_mesa_banho|                  54|                      245|                       1|          1383|                    50|               10|                40|\n",
            "|368c6c730842d7801...|0008288aa423d2a3f...|             1|1f50f920176fa81da...|2018-02-21 02:55:52|  49.9|      13.37|2355af7c75e7c98b4...|    delivered|2018-02-13 22:10:21|  2018-02-15 03:55:52|      2018-02-20 18:23:28| 2018-02-26 13:55:22|  2018-03-06 00:00:00|  ferramentas_jardim|                  57|                      366|                       2|          1650|                    30|               22|                30|\n",
            "|368c6c730842d7801...|0008288aa423d2a3f...|             2|1f50f920176fa81da...|2018-02-21 02:55:52|  49.9|      13.37|2355af7c75e7c98b4...|    delivered|2018-02-13 22:10:21|  2018-02-15 03:55:52|      2018-02-20 18:23:28| 2018-02-26 13:55:22|  2018-03-06 00:00:00|  ferramentas_jardim|                  57|                      366|                       2|          1650|                    30|               22|                30|\n",
            "|8cab8abac59158715...|0009792311464db53...|             1|530ec6109d11eaaf8...|2018-08-17 12:15:10|  99.9|      27.65|2a30c97668e81df7c...|    delivered|2018-08-14 20:43:09|  2018-08-15 12:15:10|      2018-08-15 15:28:00| 2018-08-22 12:02:27|  2018-08-28 00:00:00|       esporte_lazer|                  56|                     1392|                       4|          1050|                    40|               20|                30|\n",
            "|4fa33915031a8cde0...|000aed2e25dbad2f9...|             1|fe2032dab1a61af87...|2018-05-16 20:57:03| 144.0|       8.77|fff5169e583fd07fa...|    delivered|2018-05-11 20:33:38|  2018-05-11 20:57:03|      2018-05-16 14:26:00| 2018-05-18 16:46:31|  2018-05-22 00:00:00|          perfumaria|                  43|                      116|                       1|           468|                    23|               18|                19|\n",
            "|b50c950aba0dcead2...|000c3e6612759851c...|             1|218d46b86c1881d02...|2017-08-21 03:33:13|  99.0|      13.71|3773bcf1a6fbd2923...|    delivered|2017-08-12 10:08:57|  2017-08-15 03:35:32|      2017-08-15 15:32:51| 2017-08-19 15:22:17|  2017-09-01 00:00:00|       esporte_lazer|                  58|                     2584|                       1|          1800|                    16|               16|                16|\n",
            "|57d79905de06d8897...|000e906b789b55f64...|             1|ea8482cd71df3c196...|2017-11-27 19:09:02| 21.99|      11.85|6a3b2fc9f270df258...|    delivered|2017-11-21 18:54:23|  2017-11-21 19:09:02|      2017-11-22 20:46:54| 2017-12-09 17:27:23|  2017-12-07 00:00:00|           telefonia|                  59|                      540|                       4|           300|                    17|                4|                12|\n",
            "|1c05e0964302b6cf6...|000f25f4d72195062...|             1|7c67e1448b00f6e96...|2018-03-21 11:10:11|119.99|       44.4|86ade8ebc14f18dd6...|    delivered|2018-03-07 10:33:13|  2018-03-07 11:10:11|      2018-03-16 15:58:31| 2018-03-22 16:51:52|  2018-04-11 00:00:00|   moveis_escritorio|                  46|                     1159|                       1|          9375|                    55|               54|                19|\n",
            "|c389f712c4b4510bc...|0011d82c4b53e22e8...|             1|bfd27a966d91cfaaf...|2018-01-29 21:51:25| 289.0|      26.33|2013d892495e1a101...|    delivered|2018-01-16 21:43:23|  2018-01-16 21:51:25|      2018-01-23 22:08:06| 2018-01-26 22:14:02|  2018-02-15 00:00:00|    malas_acessorios|                  41|                      500|                       1|          2965|                    41|               27|                34|\n",
            "|e95ee6822b66ac605...|00143d0f86d6fbd9f...|             1|a17f621c590ea0fab...|2017-10-20 16:07:52| 21.33|       15.1|2e45292979b9b2700...|    delivered|2017-10-16 15:29:43|  2017-10-16 16:07:52|      2017-10-16 23:04:43| 2017-10-27 18:43:56|  2017-11-06 00:00:00|       esporte_lazer|                  52|                     1153|                       1|           180|                    17|               11|                14|\n",
            "|e95ee6822b66ac605...|00143d0f86d6fbd9f...|             2|a17f621c590ea0fab...|2017-10-20 16:07:52| 21.33|       15.1|2e45292979b9b2700...|    delivered|2017-10-16 15:29:43|  2017-10-16 16:07:52|      2017-10-16 23:04:43| 2017-10-27 18:43:56|  2017-11-06 00:00:00|       esporte_lazer|                  52|                     1153|                       1|           180|                    17|               11|                14|\n",
            "|e95ee6822b66ac605...|00143d0f86d6fbd9f...|             3|a17f621c590ea0fab...|2017-10-20 16:07:52| 21.33|       15.1|2e45292979b9b2700...|    delivered|2017-10-16 15:29:43|  2017-10-16 16:07:52|      2017-10-16 23:04:43| 2017-10-27 18:43:56|  2017-11-06 00:00:00|       esporte_lazer|                  52|                     1153|                       1|           180|                    17|               11|                14|\n",
            "+--------------------+--------------------+--------------+--------------------+-------------------+------+-----------+--------------------+-------------+-------------------+---------------------+-------------------------+--------------------+---------------------+--------------------+--------------------+-------------------------+------------------------+--------------+----------------------+-----------------+------------------+\n",
            "only showing top 20 rows\n",
            "\n"
          ]
        }
      ]
    },
    {
      "cell_type": "code",
      "source": [
        "join_pedidos_entregues_df = pedidos.filter(col('status_pedido') == 'canceled').join(clientes, 'id_cliente')\n",
        "join_pedidos_entregues_df.show()"
      ],
      "metadata": {
        "colab": {
          "base_uri": "https://localhost:8080/"
        },
        "id": "vfkOTu-NH8JA",
        "outputId": "19627d86-60a0-43f9-fd5e-d00dd8864f75"
      },
      "execution_count": 19,
      "outputs": [
        {
          "output_type": "stream",
          "name": "stdout",
          "text": [
            "+--------------------+--------------------+-------------+-------------------+---------------------+-------------------------+--------------------+---------------------+--------------------+-----------+--------------------+--------------+\n",
            "|          id_cliente|           id_pedido|status_pedido| data_compra_pedido|data_aprovacao_pedido|data_envio_transportadora|data_entrega_cliente|data_estimada_entrega|    id_unico_cliente|cep_cliente|      cidade_cliente|estado_cliente|\n",
            "+--------------------+--------------------+-------------+-------------------+---------------------+-------------------------+--------------------+---------------------+--------------------+-----------+--------------------+--------------+\n",
            "|6d6b50b66d79f8082...|1b9ecfe83cdc25925...|     canceled|2018-08-04 14:29:27|  2018-08-07 04:10:26|                     NULL|                NULL|  2018-08-14 00:00:00|8ea097b1824dbd4d1...|       5514|           sao paulo|            SP|\n",
            "|e3fe72696c4713d64...|714fb133a6730ab81...|     canceled|2018-01-26 21:34:08|  2018-01-26 21:58:39|      2018-01-29 22:33:25|                NULL|  2018-02-22 00:00:00|c4ebedb09beb89cc0...|       9961|             diadema|            SP|\n",
            "|0913cdce793684e52...|3a129877493c8189c...|     canceled|2018-01-25 13:34:24|  2018-01-25 13:50:20|      2018-01-26 21:42:18|                NULL|  2018-02-23 00:00:00|11c3d6c93dea6ce86...|      87013|             maringa|            PR|\n",
            "|3532ba38a3fd24225...|00b1cb0320190ca0d...|     canceled|2018-08-28 15:26:39|                 NULL|                     NULL|                NULL|  2018-09-12 00:00:00|4fa4365000c7090fc...|       1151|           sao paulo|            SP|\n",
            "|191984a8ba4cbb214...|ed3efbd3a87bea76c...|     canceled|2018-09-20 13:54:16|                 NULL|                     NULL|                NULL|  2018-10-17 00:00:00|08642cd329066fe11...|      33030|         santa luzia|            MG|\n",
            "|2fcc597b8934d9971...|0966b61e30c4a07ed...|     canceled|2018-05-22 18:50:55|  2018-05-22 19:17:15|                     NULL|                NULL|  2018-07-03 00:00:00|da4f38e2697f8013c...|      28898|      rio das ostras|            RJ|\n",
            "|7acf55df0298e1d2c...|9021cf1919f615a12...|     canceled|2018-07-04 16:05:56|  2018-07-06 02:55:16|                     NULL|                NULL|  2018-08-22 00:00:00|54d7a15160876f868...|      39230|          buenopolis|            MG|\n",
            "|aa797b187b5466bc6...|df8282afe61008dc2...|     canceled|2017-03-04 12:14:30|                 NULL|                     NULL|                NULL|  2017-04-10 00:00:00|c219f4ac1bc7f1aea...|      68742|           castanhal|            PA|\n",
            "|ec66df2cb66dfda07...|a39d3db795a5cf4c8...|     canceled|2017-03-13 16:12:24|  2017-03-13 16:12:24|                     NULL|                NULL|  2017-03-30 00:00:00|8c36d7644f5966816...|       9050|         santo andre|            SP|\n",
            "|b1dd715db389a2077...|8d4c637f1accf7a88...|     canceled|2018-08-29 16:27:49|                 NULL|                     NULL|                NULL|  2018-09-13 00:00:00|a8dd81392e5eee5d9...|      13059|            campinas|            SP|\n",
            "|7f71ae48074c0cfec...|7a9d4c7f9b0683378...|     canceled|2017-05-01 16:12:39|                 NULL|                     NULL|                NULL|  2017-05-30 00:00:00|29dc4aeff866d6a94...|       5752|           sao paulo|            SP|\n",
            "|8f6e5911262a87423...|375f80ffc05feb35c...|     canceled|2017-06-13 21:10:05|  2017-06-13 21:22:35|                     NULL|                NULL|  2017-07-06 00:00:00|1262c5e6cb8a5dc8c...|      20560|      rio de janeiro|            RJ|\n",
            "|6ccb997c97b073422...|6bfa92d3952f762df...|     canceled|2018-04-27 21:28:24|  2018-04-27 21:52:18|                     NULL|                NULL|  2018-05-10 00:00:00|6eb9314151358fa32...|       3282|           sao paulo|            SP|\n",
            "|d5420a7dc4c5c1f95...|2eb5ba20812f78127...|     canceled|2017-05-29 18:10:06|  2017-05-31 07:02:46|                     NULL|                NULL|  2017-06-20 00:00:00|4d024a9c22e0d1232...|      16370|           promissao|            SP|\n",
            "|1bccb206de9f0f25a...|1950d777989f6a877...|     canceled|2018-02-19 19:48:52|  2018-02-19 20:56:05|      2018-02-20 19:57:13| 2018-03-21 22:03:51|  2018-03-09 00:00:00|6a04c8339c44b23e1...|      32071|            contagem|            MG|\n",
            "|68f4ad79cc0c2ad06...|ddaec6fff982b13e7...|     canceled|2016-10-04 19:41:32|                 NULL|                     NULL|                NULL|  2016-11-16 00:00:00|00f0b70fdcb8a6e16...|       5362|           sao paulo|            SP|\n",
            "|92af427e290117f39...|5290c34bd38a8a095...|     canceled|2018-08-21 10:25:18|                 NULL|                     NULL|                NULL|  2018-09-06 00:00:00|e61f0f032bc92cadf...|      13848|          mogi-guacu|            SP|\n",
            "|59c0ac147fb499a0f...|6261f3240a8778c65...|     canceled|2017-05-31 13:21:35|  2017-06-01 13:35:20|                     NULL|                NULL|  2017-07-04 00:00:00|23643c53099bde88b...|      45075|vitoria da conquista|            BA|\n",
            "|a76e74100709762a4...|5ad5a1ef522da1732...|     canceled|2017-06-22 19:53:09|  2017-06-22 20:05:23|                     NULL|                NULL|  2017-07-05 00:00:00|25909109137a0ddcd...|       3166|           sao paulo|            SP|\n",
            "|25dbbf0c477fd4ae0...|03310aa823a660562...|     canceled|2018-08-07 16:33:59|                 NULL|                     NULL|                NULL|  2018-09-04 00:00:00|46450c74a0d8c5ca9...|      88034|       florianopolis|            SC|\n",
            "+--------------------+--------------------+-------------+-------------------+---------------------+-------------------------+--------------------+---------------------+--------------------+-----------+--------------------+--------------+\n",
            "only showing top 20 rows\n",
            "\n"
          ]
        }
      ]
    },
    {
      "cell_type": "code",
      "source": [
        "pedidos_contat_df = pedidos.withColumn('id_pedido_cliente', concat(col('id_pedido'), lit('-'), col('id_cliente')))\n",
        "\n",
        "colunas = pedidos_contat_df.columns\n",
        "print(colunas)\n",
        "\n",
        "colunas.remove('id_pedido_cliente')\n",
        "colunas.insert(0, 'id_pedido_cliente')\n",
        "\n",
        "pedidos_reorganizar_df = pedidos_contat_df.select(colunas)\n",
        "pedidos_reorganizar_df.show(n=5, truncate=False)"
      ],
      "metadata": {
        "colab": {
          "base_uri": "https://localhost:8080/"
        },
        "id": "1U_uEeKHas-O",
        "outputId": "7a746c1c-9f6c-4505-fa92-096045a22930"
      },
      "execution_count": 25,
      "outputs": [
        {
          "output_type": "stream",
          "name": "stdout",
          "text": [
            "['id_pedido', 'id_cliente', 'status_pedido', 'data_compra_pedido', 'data_aprovacao_pedido', 'data_envio_transportadora', 'data_entrega_cliente', 'data_estimada_entrega', 'id_pedido_cliente']\n",
            "+-----------------------------------------------------------------+--------------------------------+--------------------------------+-------------+-------------------+---------------------+-------------------------+--------------------+---------------------+\n",
            "|id_pedido_cliente                                                |id_pedido                       |id_cliente                      |status_pedido|data_compra_pedido |data_aprovacao_pedido|data_envio_transportadora|data_entrega_cliente|data_estimada_entrega|\n",
            "+-----------------------------------------------------------------+--------------------------------+--------------------------------+-------------+-------------------+---------------------+-------------------------+--------------------+---------------------+\n",
            "|e481f51cbdc54678b7cc49136f2d6af7-9ef432eb6251297304e76186b10a928d|e481f51cbdc54678b7cc49136f2d6af7|9ef432eb6251297304e76186b10a928d|delivered    |2017-10-02 10:56:33|2017-10-02 11:07:15  |2017-10-04 19:55:00      |2017-10-10 21:25:13 |2017-10-18 00:00:00  |\n",
            "|53cdb2fc8bc7dce0b6741e2150273451-b0830fb4747a6c6d20dea0b8c802d7ef|53cdb2fc8bc7dce0b6741e2150273451|b0830fb4747a6c6d20dea0b8c802d7ef|delivered    |2018-07-24 20:41:37|2018-07-26 03:24:27  |2018-07-26 14:31:00      |2018-08-07 15:27:45 |2018-08-13 00:00:00  |\n",
            "|47770eb9100c2d0c44946d9cf07ec65d-41ce2a54c0b03bf3443c3d931a367089|47770eb9100c2d0c44946d9cf07ec65d|41ce2a54c0b03bf3443c3d931a367089|delivered    |2018-08-08 08:38:49|2018-08-08 08:55:23  |2018-08-08 13:50:00      |2018-08-17 18:06:29 |2018-09-04 00:00:00  |\n",
            "|949d5b44dbf5de918fe9c16f97b45f8a-f88197465ea7920adcdbec7375364d82|949d5b44dbf5de918fe9c16f97b45f8a|f88197465ea7920adcdbec7375364d82|delivered    |2017-11-18 19:28:06|2017-11-18 19:45:59  |2017-11-22 13:39:59      |2017-12-02 00:28:42 |2017-12-15 00:00:00  |\n",
            "|ad21c59c0840e6cb83a9ceb5573f8159-8ab97904e6daea8866dbdbc4fb7aad2c|ad21c59c0840e6cb83a9ceb5573f8159|8ab97904e6daea8866dbdbc4fb7aad2c|delivered    |2018-02-13 21:18:39|2018-02-13 22:20:29  |2018-02-14 19:46:34      |2018-02-16 18:17:02 |2018-02-26 00:00:00  |\n",
            "+-----------------------------------------------------------------+--------------------------------+--------------------------------+-------------+-------------------+---------------------+-------------------------+--------------------+---------------------+\n",
            "only showing top 5 rows\n",
            "\n"
          ]
        }
      ]
    },
    {
      "cell_type": "code",
      "source": [
        "join_itens_pedido_df.write.mode('overwrite').option('header','true').parquet('drive/MyDrive/Planilha excel ANALISTA DE DADOS/joins_itens_pedido_parquet')"
      ],
      "metadata": {
        "id": "hlWYxxIyc1c9"
      },
      "execution_count": 27,
      "outputs": []
    },
    {
      "cell_type": "code",
      "source": [
        "spark.read.option('header','true').parquet('drive/MyDrive/Planilha excel ANALISTA DE DADOS/joins_itens_pedido_parquet').show(5)"
      ],
      "metadata": {
        "colab": {
          "base_uri": "https://localhost:8080/"
        },
        "id": "xBSnVEpFeCKO",
        "outputId": "862a11c1-1458-4dea-e1cd-60979fc1fe40"
      },
      "execution_count": 28,
      "outputs": [
        {
          "output_type": "stream",
          "name": "stdout",
          "text": [
            "+--------------------+--------------------+--------------+--------------------+-------------------+-----+-----------+--------------------+-------------+-------------------+---------------------+-------------------------+--------------------+---------------------+--------------------+--------------------+-------------------------+------------------------+--------------+----------------------+-----------------+------------------+\n",
            "|          id_produto|           id_pedido|item_id_pedido|         id_vendedor|  data_limite_envio|preco|valor_frete|          id_cliente|status_pedido| data_compra_pedido|data_aprovacao_pedido|data_envio_transportadora|data_entrega_cliente|data_estimada_entrega|   categoria_produto|tamanho_nome_produto|tamanho_descricao_produto|quantidade_fotos_produto|peso_produto_g|comprimento_produto_cm|altura_produto_cm|largura_produto_cm|\n",
            "+--------------------+--------------------+--------------+--------------------+-------------------+-----+-----------+--------------------+-------------+-------------------+---------------------+-------------------------+--------------------+---------------------+--------------------+--------------------+-------------------------+------------------------+--------------+----------------------+-----------------+------------------+\n",
            "|4244733e06e7ecb49...|00010242fe8c5a6d1...|             1|48436dade18ac8b2b...|2017-09-19 09:45:35| 58.9|      13.29|3ce436f183e68e078...|    delivered|2017-09-13 08:59:02|  2017-09-13 09:45:35|      2017-09-19 18:34:16| 2017-09-20 23:43:48|  2017-09-29 00:00:00|          cool_stuff|                  58|                      598|                       4|           650|                    28|                9|                14|\n",
            "|ef92defde845ab845...|00048cc3ae777c65d...|             1|6426d21aca402a131...|2017-05-23 03:55:27| 21.9|      12.69|816cbea969fe5b689...|    delivered|2017-05-15 21:42:34|  2017-05-17 03:55:27|      2017-05-17 11:05:55| 2017-05-22 13:44:35|  2017-06-06 00:00:00|utilidades_domest...|                  36|                      558|                       1|           450|                    24|                8|                15|\n",
            "|557d850972a7d6f79...|000576fe39319847c...|             1|5996cddab893a4652...|2018-07-10 12:30:45|810.0|      70.75|9ed5e522dd9dd85b4...|    delivered|2018-07-04 12:08:27|  2018-07-05 16:35:48|      2018-07-05 12:15:00| 2018-07-09 14:04:07|  2018-07-25 00:00:00|  ferramentas_jardim|                  39|                     1310|                       3|         13805|                    35|               75|                45|\n",
            "|d63c1011f49d98b97...|00061f2a7bc09da83...|             1|cc419e0650a3c5ba7...|2018-03-29 22:28:09|59.99|       8.88|c6fc061d86fab1e2b...|    delivered|2018-03-24 22:16:10|  2018-03-24 22:28:09|      2018-03-27 05:26:55| 2018-03-29 00:04:19|  2018-04-09 00:00:00|        beleza_saude|                  57|                      614|                       1|           950|                    35|               25|                20|\n",
            "|3f27ac8e699df3d30...|0009c9a17f916a706...|             1|fcb5ace8bcc92f757...|2018-05-02 09:31:53|639.0|      11.34|8a250edc40ebc5c39...|    delivered|2018-04-25 09:10:41|  2018-04-25 09:33:19|      2018-04-27 15:14:00| 2018-04-30 17:54:25|  2018-05-09 00:00:00|      consoles_games|                  37|                     1172|                       2|           200|                    16|                5|                12|\n",
            "+--------------------+--------------------+--------------+--------------------+-------------------+-----+-----------+--------------------+-------------+-------------------+---------------------+-------------------------+--------------------+---------------------+--------------------+--------------------+-------------------------+------------------------+--------------+----------------------+-----------------+------------------+\n",
            "only showing top 5 rows\n",
            "\n"
          ]
        }
      ]
    },
    {
      "cell_type": "code",
      "source": [
        "spark.stop()"
      ],
      "metadata": {
        "id": "x_AH6GIKeSLu"
      },
      "execution_count": 29,
      "outputs": []
    }
  ]
}