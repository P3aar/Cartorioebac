{
 "cells": [
  {
   "metadata": {
    "ExecuteTime": {
     "end_time": "2025-10-16T18:12:29.584291Z",
     "start_time": "2025-10-16T18:12:26.169388Z"
    }
   },
   "cell_type": "code",
   "source": "!pip install pyspark",
   "id": "fbc121e30a2defb3",
   "outputs": [
    {
     "name": "stdout",
     "output_type": "stream",
     "text": [
      "Requirement already satisfied: pyspark in c:\\users\\yuri\\pycharmmiscproject\\.venv\\lib\\site-packages (4.0.1)\n",
      "Requirement already satisfied: py4j==0.10.9.9 in c:\\users\\yuri\\pycharmmiscproject\\.venv\\lib\\site-packages (from pyspark) (0.10.9.9)\n"
     ]
    }
   ],
   "execution_count": 4
  },
  {
   "metadata": {
    "ExecuteTime": {
     "end_time": "2025-10-16T18:12:56.292322Z",
     "start_time": "2025-10-16T18:12:55.949559Z"
    }
   },
   "cell_type": "code",
   "source": [
    " # iniciar a sessao\n",
    "from pyspark.sql import SparkSession"
   ],
   "id": "921a5b55cae343ee",
   "outputs": [],
   "execution_count": 5
  },
  {
   "metadata": {
    "ExecuteTime": {
     "end_time": "2025-10-16T18:16:18.055473Z",
     "start_time": "2025-10-16T18:15:30.302594Z"
    }
   },
   "cell_type": "code",
   "source": [
    "spark = SparkSession.builder \\\n",
    "    .appName('videoAnalysis') \\\n",
    "    .getOrCreate()"
   ],
   "id": "525a4f79615e5dbe",
   "outputs": [],
   "execution_count": 6
  },
  {
   "metadata": {
    "ExecuteTime": {
     "end_time": "2025-10-16T18:18:29.988754Z",
     "start_time": "2025-10-16T18:18:26.473215Z"
    }
   },
   "cell_type": "code",
   "source": [
    "# lendo o arquivo parquet\n",
    "df_video = spark.read.parquet('/Users/Yuri/Desktop/ARQUIVOS PARQUET/videos-preparados.snappy.parquet')"
   ],
   "id": "aabeb46abc80b687",
   "outputs": [],
   "execution_count": 8
  },
  {
   "metadata": {
    "ExecuteTime": {
     "end_time": "2025-10-16T18:18:31.773452Z",
     "start_time": "2025-10-16T18:18:31.717014Z"
    }
   },
   "cell_type": "code",
   "source": [
    "# Mostrando informacoes Basicas (testando!)\n",
    "print('Schema do DataFrame:')\n",
    "df_video.printSchema()"
   ],
   "id": "bfcd2a2051e382f3",
   "outputs": [
    {
     "name": "stdout",
     "output_type": "stream",
     "text": [
      "Schema do DataFrame:\n",
      "root\n",
      " |-- Title: string (nullable = true)\n",
      " |-- Video ID: string (nullable = true)\n",
      " |-- Published At: date (nullable = true)\n",
      " |-- Keyword: string (nullable = true)\n",
      " |-- Likes: integer (nullable = true)\n",
      " |-- Comments: integer (nullable = true)\n",
      " |-- Views: integer (nullable = true)\n",
      " |-- Interaction: integer (nullable = true)\n",
      " |-- Year: integer (nullable = true)\n",
      " |-- Month: integer (nullable = true)\n",
      " |-- Keyword Index: double (nullable = true)\n",
      " |-- Features PCA: vector (nullable = true)\n",
      " |-- Features Normal: vector (nullable = true)\n",
      " |-- Features: vector (nullable = true)\n",
      "\n"
     ]
    }
   ],
   "execution_count": 9
  },
  {
   "metadata": {
    "ExecuteTime": {
     "end_time": "2025-10-16T18:31:11.724214Z",
     "start_time": "2025-10-16T18:31:10.728227Z"
    }
   },
   "cell_type": "code",
   "source": [
    "# calcular quantidade de registros por keyword\n",
    "contagem_keywords = df_video.groupBy('Keyword').count()"
   ],
   "id": "5d1895c00a9ef5e7",
   "outputs": [],
   "execution_count": 10
  },
  {
   "metadata": {
    "ExecuteTime": {
     "end_time": "2025-10-16T18:32:28.039041Z",
     "start_time": "2025-10-16T18:32:20.817786Z"
    }
   },
   "cell_type": "code",
   "source": [
    "# ordernando por contagem e mostrando resultados\n",
    "contagem_keywords.orderBy('count', ascending=False).show()"
   ],
   "id": "3e229fb2e57d654b",
   "outputs": [
    {
     "name": "stdout",
     "output_type": "stream",
     "text": [
      "+----------------+-----+\n",
      "|         Keyword|count|\n",
      "+----------------+-----+\n",
      "|             cnn|   50|\n",
      "|       interview|   50|\n",
      "|          crypto|   50|\n",
      "|    data science|   50|\n",
      "|        trolling|   50|\n",
      "|        tutorial|   50|\n",
      "|          marvel|   50|\n",
      "|game development|   50|\n",
      "|         mrbeast|   50|\n",
      "|         physics|   50|\n",
      "|             sat|   49|\n",
      "|         history|   49|\n",
      "|           cubes|   49|\n",
      "|        reaction|   49|\n",
      "|          sports|   49|\n",
      "|            asmr|   49|\n",
      "|computer science|   48|\n",
      "|            food|   48|\n",
      "|          how-to|   48|\n",
      "|machine learning|   48|\n",
      "+----------------+-----+\n",
      "only showing top 20 rows\n"
     ]
    }
   ],
   "execution_count": 11
  },
  {
   "metadata": {
    "ExecuteTime": {
     "end_time": "2025-10-16T18:34:10.602597Z",
     "start_time": "2025-10-16T18:34:09.830029Z"
    }
   },
   "cell_type": "code",
   "source": [
    "# mostrando todos resultados sem truncate(testando)\n",
    "contagem_keywords.orderBy('count', ascending=False).show(truncate=False)"
   ],
   "id": "c7423fc5113b1cc",
   "outputs": [
    {
     "name": "stdout",
     "output_type": "stream",
     "text": [
      "+----------------+-----+\n",
      "|Keyword         |count|\n",
      "+----------------+-----+\n",
      "|cnn             |50   |\n",
      "|interview       |50   |\n",
      "|crypto          |50   |\n",
      "|data science    |50   |\n",
      "|trolling        |50   |\n",
      "|tutorial        |50   |\n",
      "|marvel          |50   |\n",
      "|game development|50   |\n",
      "|mrbeast         |50   |\n",
      "|physics         |50   |\n",
      "|sat             |49   |\n",
      "|history         |49   |\n",
      "|cubes           |49   |\n",
      "|reaction        |49   |\n",
      "|sports          |49   |\n",
      "|asmr            |49   |\n",
      "|computer science|48   |\n",
      "|food            |48   |\n",
      "|how-to          |48   |\n",
      "|machine learning|48   |\n",
      "+----------------+-----+\n",
      "only showing top 20 rows\n"
     ]
    }
   ],
   "execution_count": 12
  },
  {
   "metadata": {
    "ExecuteTime": {
     "end_time": "2025-10-16T18:40:39.748173Z",
     "start_time": "2025-10-16T18:40:39.726555Z"
    }
   },
   "cell_type": "code",
   "source": [
    "# calculando a media de interaction por keyworld\n",
    "media_interaction_keyword = df_video.groupBy('Keyword').agg(\n",
    "    {'Interaction': 'avg'}\n",
    ")"
   ],
   "id": "a7796788cfb16426",
   "outputs": [],
   "execution_count": 21
  },
  {
   "metadata": {
    "ExecuteTime": {
     "end_time": "2025-10-16T18:41:31.454711Z",
     "start_time": "2025-10-16T18:41:30.536183Z"
    }
   },
   "cell_type": "code",
   "source": [
    "# mostrando a media dos resultados\n",
    "media_interaction_keyword.orderBy('avg(interaction)', ascending=False).show()"
   ],
   "id": "29bc80a292e4aac9",
   "outputs": [
    {
     "name": "stdout",
     "output_type": "stream",
     "text": [
      "+-------------+--------------------+\n",
      "|      Keyword|    avg(Interaction)|\n",
      "+-------------+--------------------+\n",
      "|      animals|  9.55066085263158E7|\n",
      "|      mrbeast|       6.896586282E7|\n",
      "|          bed|       5.438209175E7|\n",
      "|        music|2.9691370304347824E7|\n",
      "|      history| 1.565269257142857E7|\n",
      "|        cubes|1.5043961224489795E7|\n",
      "|      mukbang|1.1053630377777778E7|\n",
      "|        apple|1.0873628214285715E7|\n",
      "|       sports|   8695551.632653061|\n",
      "|       how-to|           7975134.5|\n",
      "|     business|   7310180.020833333|\n",
      "|     tutorial|           6936688.3|\n",
      "|       marvel|          6834159.44|\n",
      "|         food|   5352944.104166667|\n",
      "|       movies|   4897436.318181818|\n",
      "|      biology|   4192382.063829787|\n",
      "|         lofi|         4167085.875|\n",
      "|      physics|          3795529.38|\n",
      "|mathchemistry|  3427342.7333333334|\n",
      "|    interview|          3044867.04|\n",
      "+-------------+--------------------+\n",
      "only showing top 20 rows\n"
     ]
    }
   ],
   "execution_count": 23
  },
  {
   "metadata": {
    "ExecuteTime": {
     "end_time": "2025-10-16T20:45:16.874274Z",
     "start_time": "2025-10-16T20:45:15.488935Z"
    }
   },
   "cell_type": "code",
   "source": [
    "from pyspark.sql.functions import min, max, count, avg, variance, round, sum\n",
    "\n",
    "rank_interactions_completo = df_video.groupBy('Keyword').agg(\n",
    "    max('Interaction').alias('rank_interactions'),\n",
    "    count('interaction').alias('total_registros'),\n",
    "    avg('interaction').alias('media_interaction')\n",
    ").orderBy('rank_interactions', ascending=False)\n",
    "\n",
    "rank_interactions_completo.show()"
   ],
   "id": "ef728d9fc3b0506f",
   "outputs": [
    {
     "name": "stdout",
     "output_type": "stream",
     "text": [
      "+--------+-----------------+---------------+--------------------+\n",
      "| Keyword|rank_interactions|total_registros|   media_interaction|\n",
      "+--------+-----------------+---------------+--------------------+\n",
      "| animals|       1593623628|             38|  9.55066085263158E7|\n",
      "|   music|        922551152|             46|2.9691370304347824E7|\n",
      "|     bed|        532691631|             44|       5.438209175E7|\n",
      "| history|        440187490|             49| 1.565269257142857E7|\n",
      "|   apple|        429916936|             42|1.0873628214285715E7|\n",
      "| mrbeast|        300397699|             50|       6.896586282E7|\n",
      "|  google|        239385460|             45|-3.35102360888888...|\n",
      "|business|        210025196|             48|   7310180.020833333|\n",
      "|   cubes|        170925917|             49|1.5043961224489795E7|\n",
      "|  sports|        106924567|             49|   8695551.632653061|\n",
      "| mukbang|         87433858|             45|1.1053630377777778E7|\n",
      "|    lofi|         86445177|             40|         4167085.875|\n",
      "|tutorial|         69616442|             50|           6936688.3|\n",
      "|  movies|         65253870|             44|   4897436.318181818|\n",
      "|  marvel|         56247330|             50|          6834159.44|\n",
      "|  how-to|         53053975|             48|           7975134.5|\n",
      "|    food|         48754479|             48|   5352944.104166667|\n",
      "| physics|         43463298|             50|          3795529.38|\n",
      "|    asmr|         34411125|             49|   1779749.693877551|\n",
      "|nintendo|         32268486|             48|  1713310.5208333333|\n",
      "+--------+-----------------+---------------+--------------------+\n",
      "only showing top 20 rows\n"
     ]
    }
   ],
   "execution_count": 57
  },
  {
   "metadata": {
    "ExecuteTime": {
     "end_time": "2025-10-16T19:55:08.121829Z",
     "start_time": "2025-10-16T19:55:07.480942Z"
    }
   },
   "cell_type": "code",
   "source": [
    "# calculando media e varianca de views por keyword\n",
    "media_variancia_view = df_video.groupBy('Keyword').agg(\n",
    "    avg('Views').alias('Media_views'),\n",
    "    variance('views').alias('Variancia_views')\n",
    ")\n",
    "# mostrando media dos resultados\n",
    "media_variancia_view.orderBy('Media_views', ascending=False).show(5)"
   ],
   "id": "9bda1aba259a0b91",
   "outputs": [
    {
     "name": "stdout",
     "output_type": "stream",
     "text": [
      "+-------+--------------------+--------------------+\n",
      "|Keyword|         Media_views|     Variancia_views|\n",
      "+-------+--------------------+--------------------+\n",
      "|animals| 9.472396092105263E7|8.353786825747299...|\n",
      "|mrbeast|       6.676400398E7|3.824123679605851...|\n",
      "| google| 6.143966791111111E7|1.026979729881539...|\n",
      "|    bed| 5.389322861363637E7|1.166104831854568...|\n",
      "|  music|2.9364893260869566E7|1.924797107187940...|\n",
      "+-------+--------------------+--------------------+\n",
      "only showing top 5 rows\n"
     ]
    }
   ],
   "execution_count": 32
  },
  {
   "metadata": {
    "ExecuteTime": {
     "end_time": "2025-10-16T19:55:00.357211Z",
     "start_time": "2025-10-16T19:54:59.885780Z"
    }
   },
   "cell_type": "code",
   "source": [
    "# calcular media, minimo e maximo de views por keyword\n",
    "estatisticas_view = df_video.groupBy('Keyword').agg(\n",
    "    round(avg('views'), 0).alias('media_views'),\n",
    "    min('views').alias('min_views'),\n",
    "    max('views').alias('max_views')\n",
    ")\n",
    "\n",
    "# mostrando a media dos resultados\n",
    "estatisticas_view.orderBy('media_views', ascending=False).show(5)"
   ],
   "id": "a73a02528774b6b",
   "outputs": [
    {
     "name": "stdout",
     "output_type": "stream",
     "text": [
      "+-------+-----------+---------+----------+\n",
      "|Keyword|media_views|min_views| max_views|\n",
      "+-------+-----------+---------+----------+\n",
      "|animals|9.4723961E7|    23448|1582262997|\n",
      "|mrbeast|6.6764004E7|   889300| 285526909|\n",
      "| google|6.1439668E7|     8064|2147483647|\n",
      "|    bed|5.3893229E7|     4454| 524709805|\n",
      "|  music|2.9364893E7|     2944| 915457091|\n",
      "+-------+-----------+---------+----------+\n",
      "only showing top 5 rows\n"
     ]
    }
   ],
   "execution_count": 31
  },
  {
   "metadata": {
    "ExecuteTime": {
     "end_time": "2025-10-16T20:14:34.161208Z",
     "start_time": "2025-10-16T20:14:33.414782Z"
    }
   },
   "cell_type": "code",
   "source": [
    "# calcular o primeiro e o ultimo published at\n",
    "published_dates = df_video.groupBy('Keyword').agg(\n",
    "    min('Published At').alias('Primeiro_Published_At'),\n",
    "    max('published At').alias('Ultimo_Published_At')\n",
    ")\n",
    "\n",
    "# mostrando resultados\n",
    "published_dates.orderBy('Primeiro_published_At').show(5)"
   ],
   "id": "7d9fdb9a0bb8fa1e",
   "outputs": [
    {
     "name": "stdout",
     "output_type": "stream",
     "text": [
      "+---------+---------------------+-------------------+\n",
      "|  Keyword|Primeiro_Published_At|Ultimo_Published_At|\n",
      "+---------+---------------------+-------------------+\n",
      "|      bed|           2007-07-16|         2022-08-24|\n",
      "|education|           2008-07-25|         2022-08-24|\n",
      "|  biology|           2009-02-16|         2022-07-30|\n",
      "|    cubes|           2009-02-24|         2022-08-24|\n",
      "|  animals|           2009-07-03|         2022-08-24|\n",
      "+---------+---------------------+-------------------+\n",
      "only showing top 5 rows\n"
     ]
    }
   ],
   "execution_count": 43
  },
  {
   "metadata": {
    "ExecuteTime": {
     "end_time": "2025-10-16T20:51:50.129196Z",
     "start_time": "2025-10-16T20:51:46.726836Z"
    }
   },
   "cell_type": "code",
   "source": [
    "from pyspark.sql.functions import count, countDistinct\n",
    "\n",
    "# contando todos os titles\n",
    "contagem_titles = df_video.agg(\n",
    "    count('Title').alias('total_titles'),\n",
    "    countDistinct('Title').alias('total_titles_unicos')\n",
    ")\n",
    "#Resultado\n",
    "contagem_titles.show()"
   ],
   "id": "411ae641d627da7a",
   "outputs": [
    {
     "name": "stdout",
     "output_type": "stream",
     "text": [
      "+------------+-------------------+\n",
      "|total_titles|total_titles_unicos|\n",
      "+------------+-------------------+\n",
      "|        1869|               1854|\n",
      "+------------+-------------------+\n",
      "\n"
     ]
    }
   ],
   "execution_count": 62
  },
  {
   "metadata": {
    "ExecuteTime": {
     "end_time": "2025-10-16T20:27:21.276663Z",
     "start_time": "2025-10-16T20:27:20.958857Z"
    }
   },
   "cell_type": "code",
   "source": [
    "# coletando tudo pra verificar se ha diferencas\n",
    "\n",
    "resultado = contagem_titles.collect()[0]\n",
    "total_titles = resultado['total_titles']\n",
    "total_unicos = resultado['total_titles_unicos']\n",
    "\n",
    "print(f'Total de titles: {total_titles}')\n",
    "print(f'Total de titles unicos: {total_unicos}')\n",
    "print(f'Diferencas: {total_titles - total_unicos}')\n",
    "print(f'Ha títulos duplicados? {total_titles > total_unicos}')\n",
    "\n",
    "if total_titles > total_unicos:\n",
    "    print(f'Existem{total_titles - total_unicos} títulos duplicados')\n",
    "else:\n",
    "    print('todos os títulos sao unicos')"
   ],
   "id": "4e185f2ac07b8e08",
   "outputs": [
    {
     "name": "stdout",
     "output_type": "stream",
     "text": [
      "Total de titles: 1869\n",
      "Total de titles unicos: 1854\n",
      "Diferencas: 15\n",
      "Ha títulos duplicados? True\n",
      "Existem15 títulos duplicados\n"
     ]
    }
   ],
   "execution_count": 52
  },
  {
   "metadata": {
    "ExecuteTime": {
     "end_time": "2025-10-16T20:38:52.753567Z",
     "start_time": "2025-10-16T20:38:51.365966Z"
    }
   },
   "cell_type": "code",
   "source": [
    "# contar registros por ano e ordenar em ordem ascendente\n",
    "contagem_por_ano = df_video.groupBy('Year').agg(\n",
    "    count('*').alias('quantidade_registros')\n",
    ").orderBy('Year')\n",
    "\n",
    "#Resultados\n",
    "contagem_por_ano.show()"
   ],
   "id": "2c958d4e9b383aaf",
   "outputs": [
    {
     "name": "stdout",
     "output_type": "stream",
     "text": [
      "+----+--------------------+\n",
      "|Year|quantidade_registros|\n",
      "+----+--------------------+\n",
      "|2007|                   2|\n",
      "|2008|                   1|\n",
      "|2009|                   9|\n",
      "|2010|                   6|\n",
      "|2011|                   4|\n",
      "|2012|                  12|\n",
      "|2013|                   6|\n",
      "|2014|                  10|\n",
      "|2015|                  15|\n",
      "|2016|                  34|\n",
      "|2017|                  47|\n",
      "|2018|                  57|\n",
      "|2019|                  86|\n",
      "|2020|                 158|\n",
      "|2021|                 229|\n",
      "|2022|                1193|\n",
      "+----+--------------------+\n",
      "\n"
     ]
    }
   ],
   "execution_count": 53
  },
  {
   "metadata": {
    "ExecuteTime": {
     "end_time": "2025-10-16T20:40:42.460258Z",
     "start_time": "2025-10-16T20:40:39.801372Z"
    }
   },
   "cell_type": "code",
   "source": [
    "# contar registros por ano e mes, ordenando em ordem ascendente\n",
    "contagem_ano_mes = df_video.groupBy('Year', 'Month').agg(\n",
    "    count('*').alias('Quantidade_registros')\n",
    ").orderBy('Year', 'Month')\n",
    "\n",
    "#resultado\n",
    "contagem_ano_mes.show()"
   ],
   "id": "9b40042764885394",
   "outputs": [
    {
     "name": "stdout",
     "output_type": "stream",
     "text": [
      "+----+-----+--------------------+\n",
      "|Year|Month|Quantidade_registros|\n",
      "+----+-----+--------------------+\n",
      "|2007|    7|                   1|\n",
      "|2007|   12|                   1|\n",
      "|2008|    7|                   1|\n",
      "|2009|    2|                   2|\n",
      "|2009|    6|                   2|\n",
      "|2009|    7|                   1|\n",
      "|2009|    8|                   1|\n",
      "|2009|   10|                   1|\n",
      "|2009|   12|                   2|\n",
      "|2010|    3|                   1|\n",
      "|2010|    5|                   2|\n",
      "|2010|    6|                   1|\n",
      "|2010|    9|                   1|\n",
      "|2010|   10|                   1|\n",
      "|2011|    2|                   1|\n",
      "|2011|    5|                   1|\n",
      "|2011|    9|                   1|\n",
      "|2011|   10|                   1|\n",
      "|2012|    1|                   1|\n",
      "|2012|    2|                   3|\n",
      "+----+-----+--------------------+\n",
      "only showing top 20 rows\n"
     ]
    }
   ],
   "execution_count": 54
  },
  {
   "metadata": {
    "ExecuteTime": {
     "end_time": "2025-10-16T20:57:45.380064Z",
     "start_time": "2025-10-16T20:57:38.933306Z"
    }
   },
   "cell_type": "code",
   "source": [
    "from pyspark.sql.window import Window\n",
    "from pyspark.sql.functions import col\n",
    "\n",
    "# Definir a janela para cálculo acumulativo\n",
    "window_spec = Window.partitionBy('Keyword').orderBy('Year')\n",
    "\n",
    "# Calcular estatísticas anuais\n",
    "estatisticas_anuais = df_video.groupBy(\"Keyword\", \"Year\").agg(\n",
    "    sum(\"Likes\").alias(\"Soma_Anual\"),\n",
    "    count(\"Likes\").alias(\"Contagem_Anual\")\n",
    ").orderBy(\"Keyword\", \"Year\")\n",
    "\n",
    "# Calcular médias acumulativas\n",
    "media_acumulativa = estatisticas_anuais.withColumn(\n",
    "    \"Soma_Acumulativa\",\n",
    "    sum(\"Soma_Anual\").over(window_spec)\n",
    ").withColumn(\n",
    "    \"Contagem_Acumulativa\",\n",
    "    sum(\"Contagem_Anual\").over(window_spec)\n",
    ").withColumn(\n",
    "    \"Media_Acumulativa_Likes\",\n",
    "    col(\"Soma_Acumulativa\") / col(\"Contagem_Acumulativa\")\n",
    ")\n",
    "\n",
    "# resultado\n",
    "media_acumulativa.select(\"Keyword\", \"Year\", \"Media_Acumulativa_Likes\").orderBy(\"Keyword\", \"Year\").show()"
   ],
   "id": "3f99456bc0a93839",
   "outputs": [
    {
     "name": "stdout",
     "output_type": "stream",
     "text": [
      "+-------+----+-----------------------+\n",
      "|Keyword|Year|Media_Acumulativa_Likes|\n",
      "+-------+----+-----------------------+\n",
      "|animals|2009|              1357197.0|\n",
      "|animals|2010|               587977.0|\n",
      "|animals|2013|             3197276.75|\n",
      "|animals|2014|     3258727.8333333335|\n",
      "|animals|2019|     2950868.5714285714|\n",
      "|animals|2020|           1723934.3125|\n",
      "|animals|2021|            1186866.125|\n",
      "|animals|2022|      760775.7894736842|\n",
      "|  apple|2016|              4144389.0|\n",
      "|  apple|2021|              2091325.0|\n",
      "|  apple|2022|     118078.90476190476|\n",
      "|   asmr|2020|               148120.0|\n",
      "|   asmr|2021|              309373.25|\n",
      "|   asmr|2022|      37351.06122448979|\n",
      "|    bed|2007|               317160.5|\n",
      "|    bed|2009|               659593.6|\n",
      "|    bed|2010|               573747.5|\n",
      "|    bed|2011|             621914.125|\n",
      "|    bed|2017|     519308.07692307694|\n",
      "|    bed|2018|      508940.5882352941|\n",
      "+-------+----+-----------------------+\n",
      "only showing top 20 rows\n"
     ]
    }
   ],
   "execution_count": 68
  }
 ],
 "metadata": {
  "kernelspec": {
   "display_name": "Python 3",
   "language": "python",
   "name": "python3"
  },
  "language_info": {
   "codemirror_mode": {
    "name": "ipython",
    "version": 2
   },
   "file_extension": ".py",
   "mimetype": "text/x-python",
   "name": "python",
   "nbconvert_exporter": "python",
   "pygments_lexer": "ipython2",
   "version": "2.7.6"
  }
 },
 "nbformat": 4,
 "nbformat_minor": 5
}
