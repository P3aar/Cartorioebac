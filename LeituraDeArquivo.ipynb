{
  "nbformat": 4,
  "nbformat_minor": 0,
  "metadata": {
    "colab": {
      "provenance": [],
      "authorship_tag": "ABX9TyO1B0KPDn65FeU40CIcEhcm",
      "include_colab_link": true
    },
    "kernelspec": {
      "name": "python3",
      "display_name": "Python 3"
    },
    "language_info": {
      "name": "python"
    }
  },
  "cells": [
    {
      "cell_type": "markdown",
      "metadata": {
        "id": "view-in-github",
        "colab_type": "text"
      },
      "source": [
        "<a href=\"https://colab.research.google.com/github/P3aar/Cartorioebac/blob/main/LeituraDeArquivo.ipynb\" target=\"_parent\"><img src=\"https://colab.research.google.com/assets/colab-badge.svg\" alt=\"Open In Colab\"/></a>"
      ]
    },
    {
      "cell_type": "code",
      "execution_count": 1,
      "metadata": {
        "colab": {
          "base_uri": "https://localhost:8080/"
        },
        "id": "Ked40bDSMU-6",
        "outputId": "08b1cc7f-51c8-43ef-b98a-b5f020266987"
      },
      "outputs": [
        {
          "output_type": "stream",
          "name": "stdout",
          "text": [
            "Requirement already satisfied: pyspark in /usr/local/lib/python3.12/dist-packages (3.5.1)\n",
            "Requirement already satisfied: py4j==0.10.9.7 in /usr/local/lib/python3.12/dist-packages (from pyspark) (0.10.9.7)\n"
          ]
        }
      ],
      "source": [
        "!pip install pyspark"
      ]
    },
    {
      "cell_type": "code",
      "source": [
        "import pyspark\n",
        "from pyspark import SparkContext, SparkConf"
      ],
      "metadata": {
        "id": "YdVOooUMQTYU"
      },
      "execution_count": null,
      "outputs": []
    },
    {
      "cell_type": "code",
      "source": [
        "conf = SparkConf().setAppName('Leitura de arquivo texto')\n",
        "sc = SparkContext(conf=conf).getOrCreate()"
      ],
      "metadata": {
        "id": "JMvx9DOLQhio"
      },
      "execution_count": null,
      "outputs": []
    },
    {
      "cell_type": "code",
      "source": [
        "rdd = sc.textFile(\"/content/sample_data/README.md\")"
      ],
      "metadata": {
        "id": "CFoK8yahQ35y"
      },
      "execution_count": null,
      "outputs": []
    },
    {
      "cell_type": "code",
      "source": [
        "rdd.count()"
      ],
      "metadata": {
        "colab": {
          "base_uri": "https://localhost:8080/"
        },
        "collapsed": true,
        "id": "KgcaCfdNRPbh",
        "outputId": "0e95261e-0aa1-4de0-a316-02e16e20e136"
      },
      "execution_count": null,
      "outputs": [
        {
          "output_type": "execute_result",
          "data": {
            "text/plain": [
              "19"
            ]
          },
          "metadata": {},
          "execution_count": 5
        }
      ]
    },
    {
      "cell_type": "code",
      "source": [
        "rdd.take(10)"
      ],
      "metadata": {
        "colab": {
          "base_uri": "https://localhost:8080/"
        },
        "collapsed": true,
        "id": "a6J5dE1WRhtP",
        "outputId": "d27b1884-5ec0-4a4f-f024-fd8c6db357cc"
      },
      "execution_count": null,
      "outputs": [
        {
          "output_type": "execute_result",
          "data": {
            "text/plain": [
              "['This directory includes a few sample datasets to get you started.',\n",
              " '',\n",
              " '*   `california_housing_data*.csv` is California housing data from the 1990 US',\n",
              " '    Census; more information is available at:',\n",
              " '    https://docs.google.com/document/d/e/2PACX-1vRhYtsvc5eOR2FWNCwaBiKL6suIOrxJig8LcSBbmCbyYsayia_DvPOOBlXZ4CAlQ5nlDD8kTaIDRwrN/pub',\n",
              " '',\n",
              " '*   `mnist_*.csv` is a small sample of the',\n",
              " '    [MNIST database](https://en.wikipedia.org/wiki/MNIST_database), which is',\n",
              " '    described at: http://yann.lecun.com/exdb/mnist/',\n",
              " '']"
            ]
          },
          "metadata": {},
          "execution_count": 6
        }
      ]
    },
    {
      "cell_type": "code",
      "source": [
        "palavra = rdd.flatMap(lambda x:x.split(' '))\n",
        "palavra.take(5)"
      ],
      "metadata": {
        "colab": {
          "base_uri": "https://localhost:8080/"
        },
        "id": "xe1HsDssRkFQ",
        "outputId": "7b8f427f-e7b8-4ff7-be8a-7db9105f0fc8"
      },
      "execution_count": null,
      "outputs": [
        {
          "output_type": "execute_result",
          "data": {
            "text/plain": [
              "['This', 'directory', 'includes', 'a', 'few']"
            ]
          },
          "metadata": {},
          "execution_count": 7
        }
      ]
    },
    {
      "cell_type": "code",
      "source": [
        "palavraMinuscula = palavra.map(lambda x: x.lower())\n",
        "print('Map: ', palavraMinuscula.take(5))\n",
        "\n",
        "palavraMinusculaflatmap = palavra.flatMap(lambda x: x.upper())\n",
        "print('FlatMap: ', palavraMinusculaflatmap.take(5))"
      ],
      "metadata": {
        "colab": {
          "base_uri": "https://localhost:8080/"
        },
        "collapsed": true,
        "id": "y4JZGTZLRzti",
        "outputId": "497b0c19-d4ae-4488-c1b5-52461954cf5b"
      },
      "execution_count": null,
      "outputs": [
        {
          "output_type": "stream",
          "name": "stdout",
          "text": [
            "Map:  ['this', 'directory', 'includes', 'a', 'few']\n",
            "FlatMap:  ['T', 'H', 'I', 'S', 'D']\n"
          ]
        }
      ]
    },
    {
      "cell_type": "code",
      "source": [
        "palavraComecat = palavra.flatMap(lambda x: x.upper())\n",
        "print('Flatmap: ', palavraComecat.take(5))"
      ],
      "metadata": {
        "colab": {
          "base_uri": "https://localhost:8080/"
        },
        "id": "dNCl_bz0SJC7",
        "outputId": "248727dc-3daa-4eb2-85e3-041c99691538"
      },
      "execution_count": null,
      "outputs": [
        {
          "output_type": "stream",
          "name": "stdout",
          "text": [
            "Flatmap:  ['T', 'H', 'I', 'S', 'D']\n"
          ]
        }
      ]
    },
    {
      "cell_type": "code",
      "source": [
        "palavraComecaT = palavraMinuscula.filter(lambda x: x.startswith('t'))\n",
        "print(palavraComecaT.take(5))\n",
        "\n",
        "palavraMin2 = palavraMinuscula.filter(lambda x: len(x) > 2)\n",
        "print(palavraMin2.take(5))"
      ],
      "metadata": {
        "colab": {
          "base_uri": "https://localhost:8080/"
        },
        "collapsed": true,
        "id": "TEm57o8YT33p",
        "outputId": "73333e25-4e89-4f30-d088-50681d3ecbc3"
      },
      "execution_count": null,
      "outputs": [
        {
          "output_type": "stream",
          "name": "stdout",
          "text": [
            "['this', 'to', 'the', 'the', 'the']\n",
            "['this', 'directory', 'includes', 'few', 'sample']\n"
          ]
        }
      ]
    },
    {
      "cell_type": "code",
      "source": [
        "palavraChaveValor = palavraMin2.map(lambda x: (x,1))\n",
        "palavraChaveValor.take(5)"
      ],
      "metadata": {
        "colab": {
          "base_uri": "https://localhost:8080/"
        },
        "id": "RRpLk_VlT_na",
        "outputId": "493cc450-f9f2-4d40-a554-cdbca97dad3e"
      },
      "execution_count": null,
      "outputs": [
        {
          "output_type": "execute_result",
          "data": {
            "text/plain": [
              "[('this', 1), ('directory', 1), ('includes', 1), ('few', 1), ('sample', 1)]"
            ]
          },
          "metadata": {},
          "execution_count": 11
        }
      ]
    },
    {
      "cell_type": "code",
      "source": [
        "palavraContar = palavraChaveValor.reduceByKey(lambda x,y: x+y)\n",
        "palavraContarOrd = palavraContar.sortByKey(ascending=-1)\n",
        "palavraContar.take(20)"
      ],
      "metadata": {
        "colab": {
          "base_uri": "https://localhost:8080/"
        },
        "id": "JqTH7tJyUA_D",
        "outputId": "54effb9b-7d73-4e72-c8a9-8bd9efe3506e"
      },
      "execution_count": null,
      "outputs": [
        {
          "output_type": "execute_result",
          "data": {
            "text/plain": [
              "[('this', 1),\n",
              " ('sample', 2),\n",
              " ('datasets', 1),\n",
              " ('you', 1),\n",
              " ('started.', 1),\n",
              " ('`california_housing_data*.csv`', 1),\n",
              " ('from', 1),\n",
              " ('1990', 1),\n",
              " ('more', 1),\n",
              " ('information', 1),\n",
              " ('available', 1),\n",
              " ('small', 1),\n",
              " ('database](https://en.wikipedia.org/wiki/mnist_database),', 1),\n",
              " ('described', 2),\n",
              " (\"[anscombe's\", 1),\n",
              " ('statistical', 1),\n",
              " (\"analysis'.\", 1),\n",
              " ('american', 1),\n",
              " ('jstor', 1),\n",
              " ('2682899.', 1)]"
            ]
          },
          "metadata": {},
          "execution_count": 12
        }
      ]
    },
    {
      "cell_type": "code",
      "source": [
        "palavraContar.saveAsTextFile('contar_palavra_out')"
      ],
      "metadata": {
        "id": "xpJnh26ZUCc6"
      },
      "execution_count": null,
      "outputs": []
    }
  ]
}