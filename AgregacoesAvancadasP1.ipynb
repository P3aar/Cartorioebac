{
  "nbformat": 4,
  "nbformat_minor": 0,
  "metadata": {
    "colab": {
      "provenance": [],
      "authorship_tag": "ABX9TyM8rSuGnzwTAzRexK+mkpIw",
      "include_colab_link": true
    },
    "kernelspec": {
      "name": "python3",
      "display_name": "Python 3"
    },
    "language_info": {
      "name": "python"
    }
  },
  "cells": [
    {
      "cell_type": "markdown",
      "metadata": {
        "id": "view-in-github",
        "colab_type": "text"
      },
      "source": [
        "<a href=\"https://colab.research.google.com/github/P3aar/Cartorioebac/blob/main/AgregacoesAvancadasP1.ipynb\" target=\"_parent\"><img src=\"https://colab.research.google.com/assets/colab-badge.svg\" alt=\"Open In Colab\"/></a>"
      ]
    },
    {
      "cell_type": "code",
      "execution_count": 1,
      "metadata": {
        "colab": {
          "base_uri": "https://localhost:8080/"
        },
        "id": "UoZrhBCB-fRw",
        "outputId": "2e9fcaa9-b94f-4645-bf73-ac68bccdcbcd"
      },
      "outputs": [
        {
          "output_type": "stream",
          "name": "stdout",
          "text": [
            "Requirement already satisfied: pyspark in /usr/local/lib/python3.12/dist-packages (3.5.1)\n",
            "Requirement already satisfied: py4j==0.10.9.7 in /usr/local/lib/python3.12/dist-packages (from pyspark) (0.10.9.7)\n"
          ]
        }
      ],
      "source": [
        "!pip install pyspark"
      ]
    },
    {
      "cell_type": "code",
      "source": [
        "import pyspark\n",
        "from pyspark.sql import SparkSession\n",
        "from pyspark.sql.functions import *"
      ],
      "metadata": {
        "id": "rJ8zLSOG-x2o"
      },
      "execution_count": 2,
      "outputs": []
    },
    {
      "cell_type": "code",
      "source": [
        "from google.colab import drive\n",
        "drive.mount('/content/drive')"
      ],
      "metadata": {
        "colab": {
          "base_uri": "https://localhost:8080/"
        },
        "id": "S9VCXzsZ-7B7",
        "outputId": "69c91351-f0d9-4d15-9916-8bbbc067b87f"
      },
      "execution_count": 3,
      "outputs": [
        {
          "output_type": "stream",
          "name": "stdout",
          "text": [
            "Mounted at /content/drive\n"
          ]
        }
      ]
    },
    {
      "cell_type": "code",
      "source": [
        "spark = SparkSession.builder.getOrCreate()"
      ],
      "metadata": {
        "id": "9cw9v8Ad_CVn"
      },
      "execution_count": 4,
      "outputs": []
    },
    {
      "cell_type": "code",
      "source": [
        "produtos = spark.read.csv('drive/MyDrive/Planilha excel ANALISTA DE DADOS/produtos.csv', header=True, inferSchema=True)\n",
        "vendedores = spark.read.csv('drive/MyDrive/Planilha excel ANALISTA DE DADOS/vendedores.csv', header=True, inferSchema=True)\n",
        "clientes = spark.read.csv('drive/MyDrive/Planilha excel ANALISTA DE DADOS/clientes.csv', header=True, inferSchema=True)\n",
        "itens_pedido = spark.read.csv('drive/MyDrive/Planilha excel ANALISTA DE DADOS/itens_pedido.csv', header=True, inferSchema=True)\n",
        "pagamentos_pedido = spark.read.csv('drive/MyDrive/Planilha excel ANALISTA DE DADOS/pagamentos_pedido.csv', header=True, inferSchema=True)\n",
        "avaliacoes_pedido = spark.read.csv('drive/MyDrive/Planilha excel ANALISTA DE DADOS/avaliacoes_pedido.csv', header=True, inferSchema=True)\n",
        "pedidos = spark.read.csv('drive/MyDrive/Planilha excel ANALISTA DE DADOS/pedidos.csv', header=True, inferSchema=True)"
      ],
      "metadata": {
        "id": "rHH5xtyA_Fk_"
      },
      "execution_count": 5,
      "outputs": []
    },
    {
      "cell_type": "code",
      "source": [
        "pedidos.show(2)"
      ],
      "metadata": {
        "colab": {
          "base_uri": "https://localhost:8080/"
        },
        "id": "Cjgzi6L0_9V1",
        "outputId": "3a60d408-3e58-48b4-ac17-64476d3a2d17"
      },
      "execution_count": 6,
      "outputs": [
        {
          "output_type": "stream",
          "name": "stdout",
          "text": [
            "+--------------------+--------------------+-------------+-------------------+---------------------+-------------------------+--------------------+---------------------+\n",
            "|           id_pedido|          id_cliente|status_pedido| data_compra_pedido|data_aprovacao_pedido|data_envio_transportadora|data_entrega_cliente|data_estimada_entrega|\n",
            "+--------------------+--------------------+-------------+-------------------+---------------------+-------------------------+--------------------+---------------------+\n",
            "|e481f51cbdc54678b...|9ef432eb625129730...|    delivered|2017-10-02 10:56:33|  2017-10-02 11:07:15|      2017-10-04 19:55:00| 2017-10-10 21:25:13|  2017-10-18 00:00:00|\n",
            "|53cdb2fc8bc7dce0b...|b0830fb4747a6c6d2...|    delivered|2018-07-24 20:41:37|  2018-07-26 03:24:27|      2018-07-26 14:31:00| 2018-08-07 15:27:45|  2018-08-13 00:00:00|\n",
            "+--------------------+--------------------+-------------+-------------------+---------------------+-------------------------+--------------------+---------------------+\n",
            "only showing top 2 rows\n",
            "\n"
          ]
        }
      ]
    },
    {
      "cell_type": "code",
      "source": [
        "pedidos.withColumn('compra_anual', year('data_compra_pedido')).withColumn('compra_mensal', month('data_compra_pedido')).groupBy('compra_anual', 'compra_mensal').count().orderBy(desc('compra_anual'), 'compra_mensal').show()"
      ],
      "metadata": {
        "colab": {
          "base_uri": "https://localhost:8080/"
        },
        "id": "ityfGme7__NK",
        "outputId": "735a9f61-f165-4170-89af-2543187d2f30"
      },
      "execution_count": 7,
      "outputs": [
        {
          "output_type": "stream",
          "name": "stdout",
          "text": [
            "+------------+-------------+-----+\n",
            "|compra_anual|compra_mensal|count|\n",
            "+------------+-------------+-----+\n",
            "|        2018|            1| 7269|\n",
            "|        2018|            2| 6728|\n",
            "|        2018|            3| 7211|\n",
            "|        2018|            4| 6939|\n",
            "|        2018|            5| 6873|\n",
            "|        2018|            6| 6167|\n",
            "|        2018|            7| 6292|\n",
            "|        2018|            8| 6512|\n",
            "|        2018|            9|   16|\n",
            "|        2018|           10|    4|\n",
            "|        2017|            1|  800|\n",
            "|        2017|            2| 1780|\n",
            "|        2017|            3| 2682|\n",
            "|        2017|            4| 2404|\n",
            "|        2017|            5| 3700|\n",
            "|        2017|            6| 3245|\n",
            "|        2017|            7| 4026|\n",
            "|        2017|            8| 4331|\n",
            "|        2017|            9| 4285|\n",
            "|        2017|           10| 4631|\n",
            "+------------+-------------+-----+\n",
            "only showing top 20 rows\n",
            "\n"
          ]
        }
      ]
    },
    {
      "cell_type": "code",
      "source": [
        "avaliacoes_pedido.show(2)\n",
        "itens_pedido.show(2)\n",
        "avaliacoes_pedido.join(itens_pedido, 'id_pedido').groupBy('id_produto').agg(format_number(avg('nota_avaliacao'), 2).alias('media_avaliacao')).show()"
      ],
      "metadata": {
        "colab": {
          "base_uri": "https://localhost:8080/"
        },
        "id": "Qe36qQfpBuHS",
        "outputId": "d6b5ccf1-322a-4c8a-895f-5f130a8c61f7"
      },
      "execution_count": 8,
      "outputs": [
        {
          "output_type": "stream",
          "name": "stdout",
          "text": [
            "+--------------------+--------------------+--------------+-----------------+-------------------+----------------------+-----------------------+\n",
            "|        id_avaliacao|           id_pedido|nota_avaliacao|titulo_comentario|mensagem_comentario|data_criacao_avaliacao|data_resposta_avaliacao|\n",
            "+--------------------+--------------------+--------------+-----------------+-------------------+----------------------+-----------------------+\n",
            "|7bc2406110b926393...|73fc7af87114b3971...|             4|             NULL|               NULL|   2018-01-18 00:00:00|    2018-01-18 21:46:59|\n",
            "|80e641a11e56f04c1...|a548910a1c6147796...|             5|             NULL|               NULL|   2018-03-10 00:00:00|    2018-03-11 03:05:13|\n",
            "+--------------------+--------------------+--------------+-----------------+-------------------+----------------------+-----------------------+\n",
            "only showing top 2 rows\n",
            "\n",
            "+--------------------+--------------+--------------------+--------------------+-------------------+-----+-----------+\n",
            "|           id_pedido|item_id_pedido|          id_produto|         id_vendedor|  data_limite_envio|preco|valor_frete|\n",
            "+--------------------+--------------+--------------------+--------------------+-------------------+-----+-----------+\n",
            "|00010242fe8c5a6d1...|             1|4244733e06e7ecb49...|48436dade18ac8b2b...|2017-09-19 09:45:35| 58.9|      13.29|\n",
            "|00018f77f2f0320c5...|             1|e5f2d52b802189ee6...|dd7ddc04e1b6c2c61...|2017-05-03 11:05:13|239.9|      19.93|\n",
            "+--------------------+--------------+--------------------+--------------------+-------------------+-----+-----------+\n",
            "only showing top 2 rows\n",
            "\n",
            "+--------------------+---------------+\n",
            "|          id_produto|media_avaliacao|\n",
            "+--------------------+---------------+\n",
            "|0b0172eb0fd18479d...|           3.88|\n",
            "|42a2bd596fda1baef...|           4.00|\n",
            "|460a66fcc404a3d73...|           3.83|\n",
            "|30360c8b0b2ac6918...|           4.67|\n",
            "|13b4ff901d43edec6...|           5.00|\n",
            "|290ada89b05e1dca2...|           5.00|\n",
            "|7724696de32f44179...|           4.00|\n",
            "|abe236a52dbc43e90...|           4.11|\n",
            "|e85cdca8790ea0026...|           3.80|\n",
            "|35bc6c77029697004...|           3.89|\n",
            "|878699846fa5ea02a...|           1.00|\n",
            "|2f9c2888168b8c2d8...|           3.33|\n",
            "|75f3ef6a5cb0f2d5a...|           1.67|\n",
            "|3f1a741cf55913844...|           4.25|\n",
            "|526e24e5c44ede53f...|           4.33|\n",
            "|be7f0912ba0112670...|           4.20|\n",
            "|18d87751433e4198e...|           3.67|\n",
            "|b23cfa104a0f29745...|           3.00|\n",
            "|5a57a59c44429be19...|           4.40|\n",
            "|ed464125465d8ab04...|           3.22|\n",
            "+--------------------+---------------+\n",
            "only showing top 20 rows\n",
            "\n"
          ]
        }
      ]
    },
    {
      "cell_type": "code",
      "source": [
        "# converter timestamp para long (segundos)\n",
        "pedidos_long = pedidos.withColumn('data_compra_pedido', col('data_compra_pedido').cast('long'))\n",
        "pedidos_long = pedidos_long.withColumn('data_aprovacao_pedido', col('data_aprovacao_pedido').cast('long'))\n",
        "\n",
        "# converter em horas\n",
        "pedidos_horas = pedidos_long.withColumn('diferenca_horas',\n",
        "                              (col('data_aprovacao_pedido') - col('data_compra_pedido')) / 3600)\n",
        "\n",
        "pedidos_horas.select('data_compra_pedido', 'data_aprovacao_pedido','diferenca_horas').show()"
      ],
      "metadata": {
        "colab": {
          "base_uri": "https://localhost:8080/"
        },
        "id": "OSRcZ32iD8Ov",
        "outputId": "7dc736fe-1823-40a5-91ef-72642f96c81f"
      },
      "execution_count": 9,
      "outputs": [
        {
          "output_type": "stream",
          "name": "stdout",
          "text": [
            "+------------------+---------------------+-------------------+\n",
            "|data_compra_pedido|data_aprovacao_pedido|    diferenca_horas|\n",
            "+------------------+---------------------+-------------------+\n",
            "|        1506941793|           1506942435|0.17833333333333334|\n",
            "|        1532464897|           1532575467|  30.71388888888889|\n",
            "|        1533717529|           1533718523| 0.2761111111111111|\n",
            "|        1511033286|           1511034359| 0.2980555555555556|\n",
            "|        1518556719|           1518560429| 1.0305555555555554|\n",
            "|        1499637425|           1499638213|0.21888888888888888|\n",
            "|        1491913328|           1492089917|            49.0525|\n",
            "|        1494940230|           1494940931| 0.1947222222222222|\n",
            "|        1485196149|           1485312647|  32.36055555555556|\n",
            "|        1501329302|           1501329932|              0.175|\n",
            "|        1494963670|           1494964218|0.15222222222222223|\n",
            "|        1499975891|           1499976608|0.19916666666666666|\n",
            "|        1528365979|           1528513992|  41.11472222222222|\n",
            "|        1532540650|           1532541314|0.18444444444444444|\n",
            "|        1519913668|           1519917047| 0.9386111111111111|\n",
            "|        1528398192|           1528846262| 124.46388888888889|\n",
            "|        1514919643|           1514920144|0.13916666666666666|\n",
            "|        1514331691|           1514332222|             0.1475|\n",
            "|        1511222621|           1511223262|0.17805555555555555|\n",
            "|        1509033266|           1509034094|               0.23|\n",
            "+------------------+---------------------+-------------------+\n",
            "only showing top 20 rows\n",
            "\n"
          ]
        }
      ]
    },
    {
      "cell_type": "code",
      "source": [
        "pedidos.withColumn(\n",
        "    'tempo_aprovacao',\n",
        "    col('data_aprovacao_pedido').cast('long') - col('data_compra_pedido').cast('long')\n",
        ").groupBy().agg(\n",
        "    (avg('tempo_aprovacao') / 3600).alias('tempo_medio_aprovacao_horas')\n",
        ").show()"
      ],
      "metadata": {
        "colab": {
          "base_uri": "https://localhost:8080/"
        },
        "id": "p41Mg17rjCSw",
        "outputId": "fa95f1f0-8d74-41a8-92fc-3927c27040ba"
      },
      "execution_count": 12,
      "outputs": [
        {
          "output_type": "stream",
          "name": "stdout",
          "text": [
            "+---------------------------+\n",
            "|tempo_medio_aprovacao_horas|\n",
            "+---------------------------+\n",
            "|         10.419094301919692|\n",
            "+---------------------------+\n",
            "\n"
          ]
        }
      ]
    },
    {
      "cell_type": "code",
      "source": [
        "pedidos.select('data_entrega_cliente', 'data_aprovacao_pedido').show(2)\n",
        "\n",
        "pedidos_antecipados = pedidos.withColumn(\n",
        "    'entregue_antecipadas',\n",
        "    when(col('data_entrega_cliente') < col('data_estimada_entrega'), 1).otherwise(0)\n",
        ").groupBy().agg(\n",
        "    count(when(col('entregue_antecipadas') == 1, True)).alias('total_entregue_antecipadas')\n",
        ")\n",
        "\n",
        "pedidos_antecipados.show()"
      ],
      "metadata": {
        "colab": {
          "base_uri": "https://localhost:8080/"
        },
        "id": "5lFsljUjkb19",
        "outputId": "f7bda94a-dc38-4546-d1a0-936c52b754d2"
      },
      "execution_count": 14,
      "outputs": [
        {
          "output_type": "stream",
          "name": "stdout",
          "text": [
            "+--------------------+---------------------+\n",
            "|data_entrega_cliente|data_aprovacao_pedido|\n",
            "+--------------------+---------------------+\n",
            "| 2017-10-10 21:25:13|  2017-10-02 11:07:15|\n",
            "| 2018-08-07 15:27:45|  2018-07-26 03:24:27|\n",
            "+--------------------+---------------------+\n",
            "only showing top 2 rows\n",
            "\n",
            "+--------------------------+\n",
            "|total_entregue_antecipadas|\n",
            "+--------------------------+\n",
            "|                     88649|\n",
            "+--------------------------+\n",
            "\n"
          ]
        }
      ]
    },
    {
      "cell_type": "code",
      "source": [
        "pedidos.select('data_entrega_cliente', 'data_aprovacao_pedido').show(2)\n",
        "\n",
        "tempo_medio_envio_status = pedidos.withColumn(\n",
        "    'tempo_envio',\n",
        "    col('data_entrega_cliente').cast('long') - col('data_compra_pedido').cast('long')\n",
        ").groupBy('status_pedido').agg(\n",
        "    format_number((avg('tempo_envio') / 86400),2).alias('tempo_medio_envio_dias')\n",
        ")\n",
        "\n",
        "tempo_medio_envio_status.show()"
      ],
      "metadata": {
        "colab": {
          "base_uri": "https://localhost:8080/"
        },
        "id": "ycuWSItxk-7K",
        "outputId": "6f7ff7da-18e0-4bf3-f041-f5b7fb09ba2e"
      },
      "execution_count": 15,
      "outputs": [
        {
          "output_type": "stream",
          "name": "stdout",
          "text": [
            "+--------------------+---------------------+\n",
            "|data_entrega_cliente|data_aprovacao_pedido|\n",
            "+--------------------+---------------------+\n",
            "| 2017-10-10 21:25:13|  2017-10-02 11:07:15|\n",
            "| 2018-08-07 15:27:45|  2018-07-26 03:24:27|\n",
            "+--------------------+---------------------+\n",
            "only showing top 2 rows\n",
            "\n",
            "+-------------+----------------------+\n",
            "|status_pedido|tempo_medio_envio_dias|\n",
            "+-------------+----------------------+\n",
            "|      shipped|                  NULL|\n",
            "|     canceled|                 20.36|\n",
            "|     approved|                  NULL|\n",
            "|     invoiced|                  NULL|\n",
            "|      created|                  NULL|\n",
            "|    delivered|                 12.56|\n",
            "|  unavailable|                  NULL|\n",
            "|   processing|                  NULL|\n",
            "+-------------+----------------------+\n",
            "\n"
          ]
        }
      ]
    },
    {
      "cell_type": "code",
      "source": [
        "pagamentos_pedido.show(2)\n",
        "itens_pedido.show(2)\n",
        "pedidos.show(2)\n",
        "clientes.show()"
      ],
      "metadata": {
        "colab": {
          "base_uri": "https://localhost:8080/"
        },
        "id": "yGM5thulmKT-",
        "outputId": "f1a64d33-82f4-43ad-c86e-fe45f0560185"
      },
      "execution_count": 16,
      "outputs": [
        {
          "output_type": "stream",
          "name": "stdout",
          "text": [
            "+--------------------+-------------------+--------------+------------------+---------------+\n",
            "|           id_pedido|sequencia_pagamento|tipo_pagamento|parcelas_pagamento|valor_pagamento|\n",
            "+--------------------+-------------------+--------------+------------------+---------------+\n",
            "|b81ef226f3fe1789b...|                  1|   credit_card|                 8|          99.33|\n",
            "|a9810da82917af2d9...|                  1|   credit_card|                 1|          24.39|\n",
            "+--------------------+-------------------+--------------+------------------+---------------+\n",
            "only showing top 2 rows\n",
            "\n",
            "+--------------------+--------------+--------------------+--------------------+-------------------+-----+-----------+\n",
            "|           id_pedido|item_id_pedido|          id_produto|         id_vendedor|  data_limite_envio|preco|valor_frete|\n",
            "+--------------------+--------------+--------------------+--------------------+-------------------+-----+-----------+\n",
            "|00010242fe8c5a6d1...|             1|4244733e06e7ecb49...|48436dade18ac8b2b...|2017-09-19 09:45:35| 58.9|      13.29|\n",
            "|00018f77f2f0320c5...|             1|e5f2d52b802189ee6...|dd7ddc04e1b6c2c61...|2017-05-03 11:05:13|239.9|      19.93|\n",
            "+--------------------+--------------+--------------------+--------------------+-------------------+-----+-----------+\n",
            "only showing top 2 rows\n",
            "\n",
            "+--------------------+--------------------+-------------+-------------------+---------------------+-------------------------+--------------------+---------------------+\n",
            "|           id_pedido|          id_cliente|status_pedido| data_compra_pedido|data_aprovacao_pedido|data_envio_transportadora|data_entrega_cliente|data_estimada_entrega|\n",
            "+--------------------+--------------------+-------------+-------------------+---------------------+-------------------------+--------------------+---------------------+\n",
            "|e481f51cbdc54678b...|9ef432eb625129730...|    delivered|2017-10-02 10:56:33|  2017-10-02 11:07:15|      2017-10-04 19:55:00| 2017-10-10 21:25:13|  2017-10-18 00:00:00|\n",
            "|53cdb2fc8bc7dce0b...|b0830fb4747a6c6d2...|    delivered|2018-07-24 20:41:37|  2018-07-26 03:24:27|      2018-07-26 14:31:00| 2018-08-07 15:27:45|  2018-08-13 00:00:00|\n",
            "+--------------------+--------------------+-------------+-------------------+---------------------+-------------------------+--------------------+---------------------+\n",
            "only showing top 2 rows\n",
            "\n",
            "+--------------------+--------------------+-----------+--------------------+--------------+\n",
            "|          id_cliente|    id_unico_cliente|cep_cliente|      cidade_cliente|estado_cliente|\n",
            "+--------------------+--------------------+-----------+--------------------+--------------+\n",
            "|06b8999e2fba1a1fb...|861eff4711a542e4b...|      14409|              franca|            SP|\n",
            "|18955e83d337fd6b2...|290c77bc529b7ac93...|       9790|sao bernardo do c...|            SP|\n",
            "|4e7b3e00288586ebd...|060e732b5b29e8181...|       1151|           sao paulo|            SP|\n",
            "|b2b6027bc5c5109e5...|259dac757896d24d7...|       8775|     mogi das cruzes|            SP|\n",
            "|4f2d8ab171c80ec83...|345ecd01c38d18a90...|      13056|            campinas|            SP|\n",
            "|879864dab9bc30475...|4c93744516667ad3b...|      89254|      jaragua do sul|            SC|\n",
            "|fd826e7cf63160e53...|addec96d2e059c80c...|       4534|           sao paulo|            SP|\n",
            "|5e274e7a0c3809e14...|57b2a98a409812fe9...|      35182|             timoteo|            MG|\n",
            "|5adf08e34b2e99398...|1175e95fb47ddff9d...|      81560|            curitiba|            PR|\n",
            "|4b7139f34592b3a31...|9afe194fb833f79e3...|      30575|      belo horizonte|            MG|\n",
            "|9fb35e4ed6f0a14a4...|2a7745e1ed516b289...|      39400|       montes claros|            MG|\n",
            "|5aa9e4fdd4dfd2095...|2a46fb94aef5cbeeb...|      20231|      rio de janeiro|            RJ|\n",
            "|b2d1536598b73a9ab...|918dc87cd72cd9f6e...|      18682|    lencois paulista|            SP|\n",
            "|eabebad39a88bb6f5...|295c05e81917928d7...|       5704|           sao paulo|            SP|\n",
            "|1f1c7bf1c9b041b29...|3151a81801c838636...|      95110|       caxias do sul|            RS|\n",
            "|206f3129c0e4d7d0b...|21f748a16f4e1688a...|      13412|          piracicaba|            SP|\n",
            "|a7c125a0a07b75146...|5c2991dbd08bbf3cf...|      22750|      rio de janeiro|            RJ|\n",
            "|c5c61596a3b6bd0ce...|b6e99561fe6f34a55...|       7124|           guarulhos|            SP|\n",
            "|9b8ce803689b3562d...|7f3a72e8f988c6e73...|       5416|           sao paulo|            SP|\n",
            "|49d0ea0986edde72d...|3e6fd6b2f0d499456...|      68485|              pacaja|            PA|\n",
            "+--------------------+--------------------+-----------+--------------------+--------------+\n",
            "only showing top 20 rows\n",
            "\n"
          ]
        }
      ]
    },
    {
      "cell_type": "code",
      "source": [
        "vendas_pedido_join = pagamentos_pedido.join(itens_pedido, 'id_pedido').join(pedidos,'id_pedido').join(clientes, 'id_cliente')\n",
        "\n",
        "vendas_por_estado = vendas_pedido_join.groupBy('estado_cliente').agg(sum('valor_pagamento').alias('total_vendas'))\n",
        "\n",
        "vendas_por_estado.show()"
      ],
      "metadata": {
        "colab": {
          "base_uri": "https://localhost:8080/"
        },
        "id": "popJyH-PmSFj",
        "outputId": "087994e1-532e-4dc7-be4e-03af5137e1b7"
      },
      "execution_count": 17,
      "outputs": [
        {
          "output_type": "stream",
          "name": "stdout",
          "text": [
            "+--------------+------------------+\n",
            "|estado_cliente|      total_vendas|\n",
            "+--------------+------------------+\n",
            "|            SC| 786343.7099999998|\n",
            "|            RO|           65886.0|\n",
            "|            PI|136779.95999999996|\n",
            "|            AM|34753.299999999996|\n",
            "|            RR|          12462.21|\n",
            "|            GO|513879.00000000035|\n",
            "|            TO|          72281.17|\n",
            "|            MT|256804.61999999994|\n",
            "|            SP| 7597209.659999931|\n",
            "|            ES| 405805.3400000009|\n",
            "|            PB| 180984.1899999999|\n",
            "|            RS|1147277.0000000023|\n",
            "|            MS|164337.27999999997|\n",
            "|            AL|         111284.42|\n",
            "|            MG|2326151.6399999885|\n",
            "|            PA|261788.34999999992|\n",
            "|            BA| 797410.3600000021|\n",
            "|            SE| 88437.50999999998|\n",
            "|            PE|376377.26999999967|\n",
            "|            CE| 343847.8300000001|\n",
            "+--------------+------------------+\n",
            "only showing top 20 rows\n",
            "\n"
          ]
        }
      ]
    },
    {
      "cell_type": "code",
      "source": [
        "vendas_por_estado_tipo_pagamento = vendas_pedido_join.groupBy('estado_cliente', 'tipo_pagamento') \\\n",
        "    .agg(sum('valor_pagamento').alias('total_vendas')) \\\n",
        "    .orderBy(col('estado_cliente'),desc('total_vendas'))\n",
        "\n",
        "vendas_por_estado_tipo_pagamento = vendas_por_estado_tipo_pagamento.withColumn('total_vendas', format_number(col('total_vendas'), 2))\n",
        "\n",
        "vendas_por_estado_tipo_pagamento.show()"
      ],
      "metadata": {
        "colab": {
          "base_uri": "https://localhost:8080/"
        },
        "id": "aVBT9nUImtTC",
        "outputId": "3b45a19d-bb8c-4049-9d0f-603d736f1d3b"
      },
      "execution_count": 19,
      "outputs": [
        {
          "output_type": "stream",
          "name": "stdout",
          "text": [
            "+--------------+--------------+------------+\n",
            "|estado_cliente|tipo_pagamento|total_vendas|\n",
            "+--------------+--------------+------------+\n",
            "|            AC|   credit_card|   19,929.65|\n",
            "|            AC|        boleto|    3,908.46|\n",
            "|            AC|       voucher|      797.13|\n",
            "|            AC|    debit_card|      349.62|\n",
            "|            AL|   credit_card|   91,964.27|\n",
            "|            AL|        boleto|   16,388.24|\n",
            "|            AL|       voucher|    1,705.79|\n",
            "|            AL|    debit_card|    1,226.12|\n",
            "|            AM|   credit_card|   26,751.24|\n",
            "|            AM|        boleto|    7,639.22|\n",
            "|            AM|       voucher|      210.82|\n",
            "|            AM|    debit_card|      152.02|\n",
            "|            AP|   credit_card|   16,471.08|\n",
            "|            AP|        boleto|    4,934.20|\n",
            "|            AP|       voucher|      237.42|\n",
            "|            BA|   credit_card|  641,001.97|\n",
            "|            BA|        boleto|  132,269.38|\n",
            "|            BA|       voucher|   17,106.15|\n",
            "|            BA|    debit_card|    7,032.86|\n",
            "|            CE|   credit_card|  286,032.01|\n",
            "+--------------+--------------+------------+\n",
            "only showing top 20 rows\n",
            "\n"
          ]
        }
      ]
    },
    {
      "cell_type": "code",
      "source": [
        "produtos_categoria_nulos = produtos.groupBy('categoria_produto').agg(\n",
        "    count(when(col('tamanho_descricao_produto').isNull(), True)).alias('qtd_produtos_nulos')\n",
        ")\n",
        "produtos_categoria_nulos.show()\n",
        "\n",
        "produtos_categoria_nao_nulos = produtos.groupBy('categoria_produto').agg(\n",
        "    count(when(col('tamanho_descricao_produto').isNotNull(), True)).alias('qtd_produtos_naoNulos')\n",
        ")\n",
        "produtos_categoria_nao_nulos.show()"
      ],
      "metadata": {
        "colab": {
          "base_uri": "https://localhost:8080/"
        },
        "id": "X6tTlfSTpIBr",
        "outputId": "71f0d4fb-8968-40f7-ffa6-ac5bd0b6db53"
      },
      "execution_count": 25,
      "outputs": [
        {
          "output_type": "stream",
          "name": "stdout",
          "text": [
            "+--------------------+------------------+\n",
            "|   categoria_produto|qtd_produtos_nulos|\n",
            "+--------------------+------------------+\n",
            "|                 pcs|                 0|\n",
            "|               bebes|                 0|\n",
            "|               artes|                 0|\n",
            "|           cine_foto|                 0|\n",
            "|    moveis_decoracao|                 0|\n",
            "|            pc_gamer|                 0|\n",
            "|construcao_ferram...|                 0|\n",
            "|tablets_impressao...|                 0|\n",
            "|fashion_roupa_mas...|                 0|\n",
            "|   artigos_de_festas|                 0|\n",
            "|    artigos_de_natal|                 0|\n",
            "|          la_cuisine|                 0|\n",
            "|              flores|                 0|\n",
            "|     livros_tecnicos|                 0|\n",
            "|                NULL|               610|\n",
            "|      telefonia_fixa|                 0|\n",
            "|construcao_ferram...|                 0|\n",
            "|          cool_stuff|                 0|\n",
            "|    eletrodomesticos|                 0|\n",
            "|   livros_importados|                 0|\n",
            "+--------------------+------------------+\n",
            "only showing top 20 rows\n",
            "\n",
            "+--------------------+---------------------+\n",
            "|   categoria_produto|qtd_produtos_naoNulos|\n",
            "+--------------------+---------------------+\n",
            "|                 pcs|                   30|\n",
            "|               bebes|                  919|\n",
            "|               artes|                   55|\n",
            "|           cine_foto|                   28|\n",
            "|    moveis_decoracao|                 2657|\n",
            "|            pc_gamer|                    3|\n",
            "|construcao_ferram...|                  400|\n",
            "|tablets_impressao...|                    9|\n",
            "|fashion_roupa_mas...|                   95|\n",
            "|   artigos_de_festas|                   26|\n",
            "|    artigos_de_natal|                   65|\n",
            "|          la_cuisine|                   10|\n",
            "|              flores|                   14|\n",
            "|     livros_tecnicos|                  123|\n",
            "|                NULL|                    0|\n",
            "|      telefonia_fixa|                  116|\n",
            "|construcao_ferram...|                   91|\n",
            "|          cool_stuff|                  789|\n",
            "|    eletrodomesticos|                  370|\n",
            "|   livros_importados|                   31|\n",
            "+--------------------+---------------------+\n",
            "only showing top 20 rows\n",
            "\n"
          ]
        }
      ]
    },
    {
      "cell_type": "code",
      "source": [
        "spark.stop()"
      ],
      "metadata": {
        "id": "mV28cDVSo7OL"
      },
      "execution_count": 26,
      "outputs": []
    }
  ]
}