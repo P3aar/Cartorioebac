{
  "nbformat": 4,
  "nbformat_minor": 0,
  "metadata": {
    "colab": {
      "provenance": [],
      "authorship_tag": "ABX9TyNVMVjeQPcRS23hfHaoGcoe",
      "include_colab_link": true
    },
    "kernelspec": {
      "name": "python3",
      "display_name": "Python 3"
    },
    "language_info": {
      "name": "python"
    }
  },
  "cells": [
    {
      "cell_type": "markdown",
      "metadata": {
        "id": "view-in-github",
        "colab_type": "text"
      },
      "source": [
        "<a href=\"https://colab.research.google.com/github/P3aar/Cartorioebac/blob/main/2_AgregacoesBasicas.ipynb\" target=\"_parent\"><img src=\"https://colab.research.google.com/assets/colab-badge.svg\" alt=\"Open In Colab\"/></a>"
      ]
    },
    {
      "cell_type": "code",
      "execution_count": null,
      "metadata": {
        "colab": {
          "base_uri": "https://localhost:8080/"
        },
        "id": "yDcje9z95pa4",
        "outputId": "e819e6a3-d30f-480b-e834-51789569b967"
      },
      "outputs": [
        {
          "output_type": "stream",
          "name": "stdout",
          "text": [
            "Requirement already satisfied: pyspark in /usr/local/lib/python3.12/dist-packages (3.5.1)\n",
            "Requirement already satisfied: py4j==0.10.9.7 in /usr/local/lib/python3.12/dist-packages (from pyspark) (0.10.9.7)\n"
          ]
        }
      ],
      "source": [
        "!pip install pyspark"
      ]
    },
    {
      "cell_type": "code",
      "source": [
        "import pyspark\n",
        "from pyspark.sql import SparkSession\n",
        "from pyspark.sql.functions import *"
      ],
      "metadata": {
        "id": "wVgSBGnK5rgL"
      },
      "execution_count": null,
      "outputs": []
    },
    {
      "cell_type": "code",
      "source": [
        "from google.colab import drive\n",
        "drive.mount('/content/drive')"
      ],
      "metadata": {
        "colab": {
          "base_uri": "https://localhost:8080/"
        },
        "id": "gkB3Fw8B5wM8",
        "outputId": "54173879-afb2-4344-a9b0-53690760c251"
      },
      "execution_count": null,
      "outputs": [
        {
          "output_type": "stream",
          "name": "stdout",
          "text": [
            "Mounted at /content/drive\n"
          ]
        }
      ]
    },
    {
      "cell_type": "code",
      "source": [
        "spark = SparkSession.builder.getOrCreate()"
      ],
      "metadata": {
        "id": "rBXOnrcj8vfX"
      },
      "execution_count": null,
      "outputs": []
    },
    {
      "cell_type": "code",
      "source": [
        "spark = SparkSession.builder.getOrCreate()\n",
        "clientes = spark.read.csv('drive/MyDrive/Planilha excel ANALISTA DE DADOS/clientes.csv', header=True, inferSchema=True)\n",
        "itens_pedido = spark.read.csv('drive/MyDrive/Planilha excel ANALISTA DE DADOS/itens_pedido.csv', header=True, inferSchema=True)\n",
        "pagamentos_pedido = spark.read.csv('drive/MyDrive/Planilha excel ANALISTA DE DADOS/pagamentos_pedido.csv', header=True, inferSchema=True)\n",
        "pedidos = spark.read.csv('drive/MyDrive/Planilha excel ANALISTA DE DADOS/pedidos.csv',header=True, inferSchema=True)"
      ],
      "metadata": {
        "id": "lmFQWEmH50EW"
      },
      "execution_count": null,
      "outputs": []
    },
    {
      "cell_type": "code",
      "source": [
        "clientes.show(2)\n",
        "pagamentos_pedido.show(2)\n",
        "pedidos.show(2)\n",
        "itens_pedido.show(2)"
      ],
      "metadata": {
        "colab": {
          "base_uri": "https://localhost:8080/"
        },
        "id": "wL_kSfzd6i4N",
        "outputId": "c1049f07-4f34-4c88-8b11-4f5a7c85ce7e"
      },
      "execution_count": null,
      "outputs": [
        {
          "output_type": "stream",
          "name": "stdout",
          "text": [
            "+--------------------+--------------------+-----------+--------------------+--------------+\n",
            "|          id_cliente|    id_unico_cliente|cep_cliente|      cidade_cliente|estado_cliente|\n",
            "+--------------------+--------------------+-----------+--------------------+--------------+\n",
            "|06b8999e2fba1a1fb...|861eff4711a542e4b...|      14409|              franca|            SP|\n",
            "|18955e83d337fd6b2...|290c77bc529b7ac93...|       9790|sao bernardo do c...|            SP|\n",
            "+--------------------+--------------------+-----------+--------------------+--------------+\n",
            "only showing top 2 rows\n",
            "\n",
            "+--------------------+-------------------+--------------+------------------+---------------+\n",
            "|           id_pedido|sequencia_pagamento|tipo_pagamento|parcelas_pagamento|valor_pagamento|\n",
            "+--------------------+-------------------+--------------+------------------+---------------+\n",
            "|b81ef226f3fe1789b...|                  1|   credit_card|                 8|          99.33|\n",
            "|a9810da82917af2d9...|                  1|   credit_card|                 1|          24.39|\n",
            "+--------------------+-------------------+--------------+------------------+---------------+\n",
            "only showing top 2 rows\n",
            "\n",
            "+--------------------+--------------------+-------------+-------------------+---------------------+-------------------------+--------------------+---------------------+\n",
            "|           id_pedido|          id_cliente|status_pedido| data_compra_pedido|data_aprovacao_pedido|data_envio_transportadora|data_entrega_cliente|data_estimada_entrega|\n",
            "+--------------------+--------------------+-------------+-------------------+---------------------+-------------------------+--------------------+---------------------+\n",
            "|e481f51cbdc54678b...|9ef432eb625129730...|    delivered|2017-10-02 10:56:33|  2017-10-02 11:07:15|      2017-10-04 19:55:00| 2017-10-10 21:25:13|  2017-10-18 00:00:00|\n",
            "|53cdb2fc8bc7dce0b...|b0830fb4747a6c6d2...|    delivered|2018-07-24 20:41:37|  2018-07-26 03:24:27|      2018-07-26 14:31:00| 2018-08-07 15:27:45|  2018-08-13 00:00:00|\n",
            "+--------------------+--------------------+-------------+-------------------+---------------------+-------------------------+--------------------+---------------------+\n",
            "only showing top 2 rows\n",
            "\n",
            "+--------------------+--------------+--------------------+--------------------+-------------------+-----+-----------+\n",
            "|           id_pedido|item_id_pedido|          id_produto|         id_vendedor|  data_limite_envio|preco|valor_frete|\n",
            "+--------------------+--------------+--------------------+--------------------+-------------------+-----+-----------+\n",
            "|00010242fe8c5a6d1...|             1|4244733e06e7ecb49...|48436dade18ac8b2b...|2017-09-19 09:45:35| 58.9|      13.29|\n",
            "|00018f77f2f0320c5...|             1|e5f2d52b802189ee6...|dd7ddc04e1b6c2c61...|2017-05-03 11:05:13|239.9|      19.93|\n",
            "+--------------------+--------------+--------------------+--------------------+-------------------+-----+-----------+\n",
            "only showing top 2 rows\n",
            "\n"
          ]
        }
      ]
    },
    {
      "cell_type": "code",
      "source": [
        "clientes.agg(countDistinct(col('estado_cliente')).alias('qtd_estado_distintos')).show()"
      ],
      "metadata": {
        "colab": {
          "base_uri": "https://localhost:8080/"
        },
        "id": "eYL5h4J66o_0",
        "outputId": "25e3422b-17a6-4948-8621-1db6a620908f"
      },
      "execution_count": null,
      "outputs": [
        {
          "output_type": "stream",
          "name": "stdout",
          "text": [
            "+--------------------+\n",
            "|qtd_estado_distintos|\n",
            "+--------------------+\n",
            "|                  27|\n",
            "+--------------------+\n",
            "\n"
          ]
        }
      ]
    },
    {
      "cell_type": "code",
      "source": [
        "pagamentos_pedido.groupBy('tipo_pagamento').agg(\n",
        "    avg('valor_pagamento').alias('pagamento_medio'),\n",
        "    var_samp('valor_pagamento').alias('pagamento variancia')\n",
        "  ).show()"
      ],
      "metadata": {
        "colab": {
          "base_uri": "https://localhost:8080/"
        },
        "id": "AUq9Sete6ysb",
        "outputId": "374d50de-6ced-4f93-8d8e-eb555e8afb04"
      },
      "execution_count": null,
      "outputs": [
        {
          "output_type": "stream",
          "name": "stdout",
          "text": [
            "+--------------+------------------+-------------------+\n",
            "|tipo_pagamento|   pagamento_medio|pagamento variancia|\n",
            "+--------------+------------------+-------------------+\n",
            "|        boleto| 145.0344354023452| 45616.869821012544|\n",
            "|   not_defined|               0.0|                0.0|\n",
            "|   credit_card|163.31902063935797|  49336.98820414979|\n",
            "|       voucher| 65.70335411255421| 13344.682202516573|\n",
            "|    debit_card|142.57017004578165| 60414.395995128165|\n",
            "+--------------+------------------+-------------------+\n",
            "\n"
          ]
        }
      ]
    },
    {
      "cell_type": "code",
      "source": [
        "pedidos.printSchema()"
      ],
      "metadata": {
        "colab": {
          "base_uri": "https://localhost:8080/"
        },
        "id": "yUq7uB6_7KcD",
        "outputId": "b4f1f86c-82a9-4b96-ab68-c3a0f30b1cee"
      },
      "execution_count": null,
      "outputs": [
        {
          "output_type": "stream",
          "name": "stdout",
          "text": [
            "root\n",
            " |-- id_pedido: string (nullable = true)\n",
            " |-- id_cliente: string (nullable = true)\n",
            " |-- status_pedido: string (nullable = true)\n",
            " |-- data_compra_pedido: timestamp (nullable = true)\n",
            " |-- data_aprovacao_pedido: timestamp (nullable = true)\n",
            " |-- data_envio_transportadora: timestamp (nullable = true)\n",
            " |-- data_entrega_cliente: timestamp (nullable = true)\n",
            " |-- data_estimada_entrega: timestamp (nullable = true)\n",
            "\n"
          ]
        }
      ]
    },
    {
      "cell_type": "code",
      "source": [
        "pedidos_ordenados = pedidos.orderBy('data_compra_pedido')"
      ],
      "metadata": {
        "id": "2fJoML_P-TWP"
      },
      "execution_count": null,
      "outputs": []
    },
    {
      "cell_type": "code",
      "source": [
        "datas_compras_df = pedidos_ordenados.groupBy('status_pedido').agg(\n",
        "    first('data_compra_pedido').alias('primeiro'),\n",
        "    last('data_compra_pedido').alias('ultimo'))\n",
        "datas_compras_df.show()"
      ],
      "metadata": {
        "colab": {
          "base_uri": "https://localhost:8080/"
        },
        "id": "oMnO1M-9_UGu",
        "outputId": "73b52a1a-5a39-460c-cce3-f8fdd04aa585"
      },
      "execution_count": null,
      "outputs": [
        {
          "output_type": "stream",
          "name": "stdout",
          "text": [
            "+-------------+-------------------+-------------------+\n",
            "|status_pedido|           primeiro|             ultimo|\n",
            "+-------------+-------------------+-------------------+\n",
            "|      shipped|2016-09-04 21:15:19|2018-09-03 09:06:57|\n",
            "|     canceled|2016-09-05 00:15:34|2018-10-17 17:30:18|\n",
            "|     approved|2017-02-06 20:18:17|2017-04-25 01:25:34|\n",
            "|     invoiced|2016-10-04 13:02:10|2018-08-14 18:45:08|\n",
            "|      created|2017-11-06 13:12:34|2018-02-09 17:21:04|\n",
            "|    delivered|2016-09-15 12:16:38|2018-08-29 15:00:37|\n",
            "|  unavailable|2016-10-05 14:16:28|2018-08-21 12:21:00|\n",
            "|   processing|2016-10-05 22:44:13|2018-07-23 18:03:03|\n",
            "+-------------+-------------------+-------------------+\n",
            "\n"
          ]
        }
      ]
    },
    {
      "cell_type": "code",
      "source": [
        "pedidos.withColumn('compra_anual', year('data_compra_pedido')).groupBy('compra_anual').count().orderBy(asc('compra_anual')).show()"
      ],
      "metadata": {
        "colab": {
          "base_uri": "https://localhost:8080/"
        },
        "id": "tYInEstsGbXb",
        "outputId": "1b1a64b1-0905-4ccb-f753-004f81db2306"
      },
      "execution_count": null,
      "outputs": [
        {
          "output_type": "stream",
          "name": "stdout",
          "text": [
            "+------------+-----+\n",
            "|compra_anual|count|\n",
            "+------------+-----+\n",
            "|        2016|  329|\n",
            "|        2017|45101|\n",
            "|        2018|54011|\n",
            "+------------+-----+\n",
            "\n"
          ]
        }
      ]
    },
    {
      "cell_type": "code",
      "source": [
        "pedidos.withColumn('compra_anual', year('data_compra_pedido')).groupBy('compra_anual').count().orderBy(desc('compra_anual')).show()"
      ],
      "metadata": {
        "colab": {
          "base_uri": "https://localhost:8080/"
        },
        "id": "Dqjbp-PjGq_N",
        "outputId": "610ac362-dc7c-4645-9a47-0a2f820b6e83"
      },
      "execution_count": null,
      "outputs": [
        {
          "output_type": "stream",
          "name": "stdout",
          "text": [
            "+------------+-----+\n",
            "|compra_anual|count|\n",
            "+------------+-----+\n",
            "|        2018|54011|\n",
            "|        2017|45101|\n",
            "|        2016|  329|\n",
            "+------------+-----+\n",
            "\n"
          ]
        }
      ]
    },
    {
      "cell_type": "code",
      "source": [
        "itens_pedido.groupBy('id_pedido').agg(\n",
        "    sum(col('preco') + col('valor_frete')),\n",
        "    sum(col('preco') + col('valor_frete')).alias('valor_total_pedido'),\n",
        "    format_number(sum(col('preco') + col('valor_frete')),2).alias('valor_total_pedido')\n",
        ").show()"
      ],
      "metadata": {
        "colab": {
          "base_uri": "https://localhost:8080/"
        },
        "id": "FdI_A7jhHPiA",
        "outputId": "d53a03ff-594a-466c-bde7-e77537e1ec23"
      },
      "execution_count": null,
      "outputs": [
        {
          "output_type": "stream",
          "name": "stdout",
          "text": [
            "+--------------------+--------------------------+------------------+------------------+\n",
            "|           id_pedido|sum((preco + valor_frete))|valor_total_pedido|valor_total_pedido|\n",
            "+--------------------+--------------------------+------------------+------------------+\n",
            "|014405982914c2cde...|         78.42999999999999| 78.42999999999999|             78.43|\n",
            "|019886de8f385a39b...|                     188.4|             188.4|            188.40|\n",
            "|01a6ad782455876aa...|                     50.09|             50.09|             50.09|\n",
            "|01d907b3e209269e1...|        169.76000000000002|169.76000000000002|            169.76|\n",
            "|028dc52e12ddda803...|                     61.72|             61.72|             61.72|\n",
            "|036dd381dfb3ec75e...|                     69.14|             69.14|             69.14|\n",
            "|03ebfa9712b7dbc70...|                     55.78|             55.78|             55.78|\n",
            "|0420da8d50a378401...|                     74.63|             74.63|             74.63|\n",
            "|05afef1c185862cab...|                    101.32|            101.32|            101.32|\n",
            "|05bef443b85068505...|                     79.52|             79.52|             79.52|\n",
            "|05d46826bd0fb605d...|                     61.36|             61.36|             61.36|\n",
            "|06fec3f6e9e72edb6...|        137.23000000000002|137.23000000000002|            137.23|\n",
            "|077700dcf4e3bb412...|                    215.05|            215.05|            215.05|\n",
            "|078c2d9bb7e5905e8...|                    135.28|            135.28|            135.28|\n",
            "|08791ec24b12af5af...|                    445.87|            445.87|            445.87|\n",
            "|08b450b388221bfe5...|                    167.41|            167.41|            167.41|\n",
            "|0957ed870116e596b...|                    157.99|            157.99|            157.99|\n",
            "|09868b0eb512bfbbe...|                    129.98|            129.98|            129.98|\n",
            "|099d60cb800db65a7...|                    324.63|            324.63|            324.63|\n",
            "|09e90e3936db197d4...|         86.99000000000001| 86.99000000000001|             86.99|\n",
            "+--------------------+--------------------------+------------------+------------------+\n",
            "only showing top 20 rows\n",
            "\n"
          ]
        }
      ]
    },
    {
      "cell_type": "code",
      "source": [
        "spark.stop()"
      ],
      "metadata": {
        "id": "6IRw51a7IwdB"
      },
      "execution_count": null,
      "outputs": []
    }
  ]
}