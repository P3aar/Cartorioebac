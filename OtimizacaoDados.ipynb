{
 "cells": [
  {
   "cell_type": "code",
   "id": "initial_id",
   "metadata": {
    "collapsed": true,
    "ExecuteTime": {
     "end_time": "2025-10-18T01:11:42.337132Z",
     "start_time": "2025-10-18T01:11:38.506167Z"
    }
   },
   "source": "!pip install pyspark",
   "outputs": [
    {
     "name": "stdout",
     "output_type": "stream",
     "text": [
      "Requirement already satisfied: pyspark in c:\\users\\yuri\\pycharmmiscproject\\.venv\\lib\\site-packages (4.0.1)\n",
      "Requirement already satisfied: py4j==0.10.9.9 in c:\\users\\yuri\\pycharmmiscproject\\.venv\\lib\\site-packages (from pyspark) (0.10.9.9)\n"
     ]
    }
   ],
   "execution_count": 2
  },
  {
   "metadata": {
    "ExecuteTime": {
     "end_time": "2025-10-18T01:11:44.798474Z",
     "start_time": "2025-10-18T01:11:42.647173Z"
    }
   },
   "cell_type": "code",
   "source": [
    "import pyspark\n",
    "import time\n",
    "\n",
    "from pyspark.sql import SparkSession\n",
    "from pyspark.sql.functions import *\n",
    "from pyspark.storagelevel import StorageLevel"
   ],
   "id": "3ed16511d1ced666",
   "outputs": [],
   "execution_count": 3
  },
  {
   "metadata": {
    "ExecuteTime": {
     "end_time": "2025-10-18T01:12:33.839437Z",
     "start_time": "2025-10-18T01:11:44.807430Z"
    }
   },
   "cell_type": "code",
   "source": "spark = SparkSession.builder.getOrCreate()",
   "id": "654a6a37d871f2ff",
   "outputs": [],
   "execution_count": 4
  },
  {
   "metadata": {
    "ExecuteTime": {
     "end_time": "2025-10-18T01:12:48.065523Z",
     "start_time": "2025-10-18T01:12:33.847521Z"
    }
   },
   "cell_type": "code",
   "source": [
    "produtos = spark.read.csv('/Users/Yuri/Desktop/EXCEL/produtos.csv', header=True, inferSchema=True)\n",
    "vendedores = spark.read.csv('/Users/Yuri/Desktop/EXCEL/vendedores.csv', header=True, inferSchema=True)\n",
    "clientes = spark.read.csv('/Users/Yuri/Desktop/EXCEL/clientes.csv', header=True, inferSchema=True)\n",
    "itens_pedido = spark.read.csv('/Users/Yuri/Desktop/EXCEL/itens_pedido.csv', header=True, inferSchema=True)\n",
    "pagamentos_pedido = spark.read.csv('/Users/Yuri/Desktop/EXCEL/pagamentos_pedido.csv', header=True, inferSchema=True)\n",
    "avaliacoes_pedido = spark.read.csv('/Users/Yuri/Desktop/EXCEL/avaliacoes_pedido.csv', header=True, inferSchema=True)\n",
    "pedidos = spark.read.csv('/Users/Yuri/Desktop/EXCEL/pedidos.csv', header=True, inferSchema=True)"
   ],
   "id": "27d1659b49b83fa5",
   "outputs": [],
   "execution_count": 5
  },
  {
   "metadata": {
    "ExecuteTime": {
     "end_time": "2025-10-18T01:12:49.430522Z",
     "start_time": "2025-10-18T01:12:48.076896Z"
    }
   },
   "cell_type": "code",
   "source": [
    "clientes.show()\n",
    "pedidos.show()\n",
    "itens_pedido.show()\n",
    "pagamentos_pedido.show()"
   ],
   "id": "babbcfcf3f4fb7a7",
   "outputs": [
    {
     "name": "stdout",
     "output_type": "stream",
     "text": [
      "+--------------------+--------------------+-----------+--------------------+--------------+\n",
      "|          id_cliente|    id_unico_cliente|cep_cliente|      cidade_cliente|estado_cliente|\n",
      "+--------------------+--------------------+-----------+--------------------+--------------+\n",
      "|06b8999e2fba1a1fb...|861eff4711a542e4b...|      14409|              franca|            SP|\n",
      "|18955e83d337fd6b2...|290c77bc529b7ac93...|       9790|sao bernardo do c...|            SP|\n",
      "|4e7b3e00288586ebd...|060e732b5b29e8181...|       1151|           sao paulo|            SP|\n",
      "|b2b6027bc5c5109e5...|259dac757896d24d7...|       8775|     mogi das cruzes|            SP|\n",
      "|4f2d8ab171c80ec83...|345ecd01c38d18a90...|      13056|            campinas|            SP|\n",
      "|879864dab9bc30475...|4c93744516667ad3b...|      89254|      jaragua do sul|            SC|\n",
      "|fd826e7cf63160e53...|addec96d2e059c80c...|       4534|           sao paulo|            SP|\n",
      "|5e274e7a0c3809e14...|57b2a98a409812fe9...|      35182|             timoteo|            MG|\n",
      "|5adf08e34b2e99398...|1175e95fb47ddff9d...|      81560|            curitiba|            PR|\n",
      "|4b7139f34592b3a31...|9afe194fb833f79e3...|      30575|      belo horizonte|            MG|\n",
      "|9fb35e4ed6f0a14a4...|2a7745e1ed516b289...|      39400|       montes claros|            MG|\n",
      "|5aa9e4fdd4dfd2095...|2a46fb94aef5cbeeb...|      20231|      rio de janeiro|            RJ|\n",
      "|b2d1536598b73a9ab...|918dc87cd72cd9f6e...|      18682|    lencois paulista|            SP|\n",
      "|eabebad39a88bb6f5...|295c05e81917928d7...|       5704|           sao paulo|            SP|\n",
      "|1f1c7bf1c9b041b29...|3151a81801c838636...|      95110|       caxias do sul|            RS|\n",
      "|206f3129c0e4d7d0b...|21f748a16f4e1688a...|      13412|          piracicaba|            SP|\n",
      "|a7c125a0a07b75146...|5c2991dbd08bbf3cf...|      22750|      rio de janeiro|            RJ|\n",
      "|c5c61596a3b6bd0ce...|b6e99561fe6f34a55...|       7124|           guarulhos|            SP|\n",
      "|9b8ce803689b3562d...|7f3a72e8f988c6e73...|       5416|           sao paulo|            SP|\n",
      "|49d0ea0986edde72d...|3e6fd6b2f0d499456...|      68485|              pacaja|            PA|\n",
      "+--------------------+--------------------+-----------+--------------------+--------------+\n",
      "only showing top 20 rows\n",
      "+--------------------+--------------------+-------------+-------------------+---------------------+-------------------------+--------------------+---------------------+\n",
      "|           id_pedido|          id_cliente|status_pedido| data_compra_pedido|data_aprovacao_pedido|data_envio_transportadora|data_entrega_cliente|data_estimada_entrega|\n",
      "+--------------------+--------------------+-------------+-------------------+---------------------+-------------------------+--------------------+---------------------+\n",
      "|e481f51cbdc54678b...|9ef432eb625129730...|    delivered|2017-10-02 07:56:33|  2017-10-02 08:07:15|      2017-10-04 16:55:00| 2017-10-10 18:25:13|  2017-10-17 22:00:00|\n",
      "|53cdb2fc8bc7dce0b...|b0830fb4747a6c6d2...|    delivered|2018-07-24 17:41:37|  2018-07-26 00:24:27|      2018-07-26 11:31:00| 2018-08-07 12:27:45|  2018-08-12 21:00:00|\n",
      "|47770eb9100c2d0c4...|41ce2a54c0b03bf34...|    delivered|2018-08-08 05:38:49|  2018-08-08 05:55:23|      2018-08-08 10:50:00| 2018-08-17 15:06:29|  2018-09-03 21:00:00|\n",
      "|949d5b44dbf5de918...|f88197465ea7920ad...|    delivered|2017-11-18 17:28:06|  2017-11-18 17:45:59|      2017-11-22 11:39:59| 2017-12-01 22:28:42|  2017-12-14 22:00:00|\n",
      "|ad21c59c0840e6cb8...|8ab97904e6daea886...|    delivered|2018-02-13 19:18:39|  2018-02-13 20:20:29|      2018-02-14 17:46:34| 2018-02-16 16:17:02|  2018-02-25 21:00:00|\n",
      "|a4591c265e18cb1dc...|503740e9ca751ccdd...|    delivered|2017-07-09 18:57:05|  2017-07-09 19:10:13|      2017-07-11 11:58:04| 2017-07-26 07:57:55|  2017-07-31 21:00:00|\n",
      "|136cce7faa42fdb2c...|ed0271e0b7da060a3...|     invoiced|2017-04-11 09:22:08|  2017-04-13 10:25:17|                     NULL|                NULL|  2017-05-08 21:00:00|\n",
      "|6514b8ad8028c9f2c...|9bdf08b4b3b52b552...|    delivered|2017-05-16 10:10:30|  2017-05-16 10:22:11|      2017-05-22 07:07:46| 2017-05-26 09:55:51|  2017-06-06 21:00:00|\n",
      "|76c6e866289321a7c...|f54a9f0e6b351c431...|    delivered|2017-01-23 16:29:09|  2017-01-25 00:50:47|      2017-01-26 12:16:31| 2017-02-02 12:08:10|  2017-03-05 21:00:00|\n",
      "|e69bfb5eb88e0ed6a...|31ad1d1b63eb99624...|    delivered|2017-07-29 08:55:02|  2017-07-29 09:05:32|      2017-08-10 16:45:24| 2017-08-16 14:14:30|  2017-08-22 21:00:00|\n",
      "|e6ce16cb79ec1d90b...|494dded5b201313c6...|    delivered|2017-05-16 16:41:10|  2017-05-16 16:50:18|      2017-05-18 08:40:40| 2017-05-29 08:18:31|  2017-06-06 21:00:00|\n",
      "|34513ce0c4fab462a...|7711cf624183d843a...|    delivered|2017-07-13 16:58:11|  2017-07-13 17:10:08|      2017-07-14 15:43:29| 2017-07-19 11:04:48|  2017-08-07 21:00:00|\n",
      "|82566a660a982b15f...|d3e3b74c766bc6214...|    delivered|2018-06-07 07:06:19|  2018-06-09 00:13:12|      2018-06-11 10:29:00| 2018-06-19 09:05:52|  2018-07-17 21:00:00|\n",
      "|5ff96c15d0b717ac6...|19402a48fe860416a...|    delivered|2018-07-25 14:44:10|  2018-07-25 14:55:14|      2018-07-26 10:16:00| 2018-07-30 12:52:25|  2018-08-07 21:00:00|\n",
      "|432aaf21d85167c2c...|3df704f53d3f1d481...|    delivered|2018-03-01 11:14:28|  2018-03-01 12:10:47|      2018-03-02 18:09:20| 2018-03-12 20:36:26|  2018-03-20 21:00:00|\n",
      "|dcb36b511fcac050b...|3b6828a50ffe54694...|    delivered|2018-06-07 16:03:12|  2018-06-12 20:31:02|      2018-06-11 11:54:00| 2018-06-21 12:34:32|  2018-07-03 21:00:00|\n",
      "|403b97836b0c04a62...|738b086814c6fcc74...|    delivered|2018-01-02 17:00:43|  2018-01-02 17:09:04|      2018-01-03 16:19:09| 2018-01-19 23:38:59|  2018-02-05 22:00:00|\n",
      "|116f0b09343b49556...|3187789bec9909876...|    delivered|2017-12-26 21:41:31|  2017-12-26 21:50:22|      2017-12-28 16:33:05| 2018-01-08 20:36:36|  2018-01-28 22:00:00|\n",
      "|85ce859fd6dc634de...|059f7fc5719c7da6c...|    delivered|2017-11-20 22:03:41|  2017-11-20 22:14:22|      2017-11-23 19:32:26| 2017-11-27 16:28:00|  2017-12-10 22:00:00|\n",
      "|83018ec114eee8641...|7f8c8b9c2ae27bf33...|    delivered|2017-10-26 13:54:26|  2017-10-26 14:08:14|      2017-10-26 19:46:53| 2017-11-08 20:22:00|  2017-11-22 22:00:00|\n",
      "+--------------------+--------------------+-------------+-------------------+---------------------+-------------------------+--------------------+---------------------+\n",
      "only showing top 20 rows\n",
      "+--------------------+--------------+--------------------+--------------------+-------------------+------+-----------+\n",
      "|           id_pedido|item_id_pedido|          id_produto|         id_vendedor|  data_limite_envio| preco|valor_frete|\n",
      "+--------------------+--------------+--------------------+--------------------+-------------------+------+-----------+\n",
      "|00010242fe8c5a6d1...|             1|4244733e06e7ecb49...|48436dade18ac8b2b...|2017-09-19 06:45:35|  58.9|      13.29|\n",
      "|00018f77f2f0320c5...|             1|e5f2d52b802189ee6...|dd7ddc04e1b6c2c61...|2017-05-03 08:05:13| 239.9|      19.93|\n",
      "|000229ec398224ef6...|             1|c777355d18b72b67a...|5b51032eddd242adc...|2018-01-18 12:48:30| 199.0|      17.87|\n",
      "|00024acbcdf0a6daa...|             1|7634da152a4610f15...|9d7a1d34a50524090...|2018-08-15 07:10:18| 12.99|      12.79|\n",
      "|00042b26cf59d7ce6...|             1|ac6c3623068f30de0...|df560393f3a51e745...|2017-02-13 11:57:51| 199.9|      18.14|\n",
      "|00048cc3ae777c65d...|             1|ef92defde845ab845...|6426d21aca402a131...|2017-05-23 00:55:27|  21.9|      12.69|\n",
      "|00054e8431b9d7675...|             1|8d4f2bb7e93e6710a...|7040e82f899a04d1b...|2017-12-14 10:10:31|  19.9|      11.85|\n",
      "|000576fe39319847c...|             1|557d850972a7d6f79...|5996cddab893a4652...|2018-07-10 09:30:45| 810.0|      70.75|\n",
      "|0005a1a1728c9d785...|             1|310ae3c140ff94b03...|a416b6a846a117243...|2018-03-26 15:31:29|145.95|      11.65|\n",
      "|0005f50442cb953dc...|             1|4535b0e1091c278df...|ba143b05f0110f0dc...|2018-07-06 11:10:56| 53.99|       11.4|\n",
      "|00061f2a7bc09da83...|             1|d63c1011f49d98b97...|cc419e0650a3c5ba7...|2018-03-29 19:28:09| 59.99|       8.88|\n",
      "|00063b381e2406b52...|             1|f177554ea93259a5b...|8602a61d680a10a82...|2018-07-31 14:30:39|  45.0|      12.98|\n",
      "|0006ec9db01a64e59...|             1|99a4788cb24856965...|4a3ca9315b744ce9f...|2018-07-26 14:24:20|  74.0|      23.32|\n",
      "|0008288aa423d2a3f...|             1|368c6c730842d7801...|1f50f920176fa81da...|2018-02-20 23:55:52|  49.9|      13.37|\n",
      "|0008288aa423d2a3f...|             2|368c6c730842d7801...|1f50f920176fa81da...|2018-02-20 23:55:52|  49.9|      13.37|\n",
      "|0009792311464db53...|             1|8cab8abac59158715...|530ec6109d11eaaf8...|2018-08-17 09:15:10|  99.9|      27.65|\n",
      "|0009c9a17f916a706...|             1|3f27ac8e699df3d30...|fcb5ace8bcc92f757...|2018-05-02 06:31:53| 639.0|      11.34|\n",
      "|000aed2e25dbad2f9...|             1|4fa33915031a8cde0...|fe2032dab1a61af87...|2018-05-16 17:57:03| 144.0|       8.77|\n",
      "|000c3e6612759851c...|             1|b50c950aba0dcead2...|218d46b86c1881d02...|2017-08-21 00:33:13|  99.0|      13.71|\n",
      "|000e562887b1f2006...|             1|5ed9eaf534f6936b5...|8cbac7e12637ed9cf...|2018-02-28 09:08:37|  25.0|      16.11|\n",
      "+--------------------+--------------+--------------------+--------------------+-------------------+------+-----------+\n",
      "only showing top 20 rows\n",
      "+--------------------+-------------------+--------------+------------------+---------------+\n",
      "|           id_pedido|sequencia_pagamento|tipo_pagamento|parcelas_pagamento|valor_pagamento|\n",
      "+--------------------+-------------------+--------------+------------------+---------------+\n",
      "|b81ef226f3fe1789b...|                  1|   credit_card|                 8|          99.33|\n",
      "|a9810da82917af2d9...|                  1|   credit_card|                 1|          24.39|\n",
      "|25e8ea4e93396b6fa...|                  1|   credit_card|                 1|          65.71|\n",
      "|ba78997921bbcdc13...|                  1|   credit_card|                 8|         107.78|\n",
      "|42fdf880ba16b47b5...|                  1|   credit_card|                 2|         128.45|\n",
      "|298fcdf1f73eb413e...|                  1|   credit_card|                 2|          96.12|\n",
      "|771ee386b001f0620...|                  1|   credit_card|                 1|          81.16|\n",
      "|3d7239c394a212faa...|                  1|   credit_card|                 3|          51.84|\n",
      "|1f78449c87a54faf9...|                  1|   credit_card|                 6|         341.09|\n",
      "|0573b5e23cbd79800...|                  1|        boleto|                 1|          51.95|\n",
      "|d88e0d5fa41661ce0...|                  1|   credit_card|                 8|         188.73|\n",
      "|2480f727e869fdeb3...|                  1|   credit_card|                 1|          141.9|\n",
      "|616105c9352a9668c...|                  1|   credit_card|                 1|          75.78|\n",
      "|cf95215a722f3ebf2...|                  1|   credit_card|                 5|         102.66|\n",
      "|769214176682788a9...|                  1|   credit_card|                 4|         105.28|\n",
      "|12e5cfe0e4716b59a...|                  1|   credit_card|                10|         157.45|\n",
      "|61059985a6fc0ad64...|                  1|   credit_card|                 1|         132.04|\n",
      "|79da3f5fe31ad1e45...|                  1|   credit_card|                 1|          98.94|\n",
      "|8ac09207f415d55ac...|                  1|   credit_card|                 4|         244.15|\n",
      "|b2349a3f20dfbeef6...|                  1|   credit_card|                 3|         136.71|\n",
      "+--------------------+-------------------+--------------+------------------+---------------+\n",
      "only showing top 20 rows\n"
     ]
    }
   ],
   "execution_count": 6
  },
  {
   "metadata": {
    "ExecuteTime": {
     "end_time": "2025-10-18T01:12:53.068615Z",
     "start_time": "2025-10-18T01:12:49.458537Z"
    }
   },
   "cell_type": "code",
   "source": [
    "clientes.createOrReplaceTempView('clientes')\n",
    "\n",
    "spark.sql('CACHE TABLE clientes')\n",
    "spark.sql('SELECT COUNT(*) FROM clientes').show()\n",
    "spark.sql('UNCACHE TABLE clientes')"
   ],
   "id": "470efc2652b78a5",
   "outputs": [
    {
     "name": "stdout",
     "output_type": "stream",
     "text": [
      "+--------+\n",
      "|count(1)|\n",
      "+--------+\n",
      "|   99441|\n",
      "+--------+\n",
      "\n"
     ]
    },
    {
     "data": {
      "text/plain": [
       "DataFrame[]"
      ]
     },
     "execution_count": 7,
     "metadata": {},
     "output_type": "execute_result"
    }
   ],
   "execution_count": 7
  },
  {
   "metadata": {
    "ExecuteTime": {
     "end_time": "2025-10-18T01:57:24.634692Z",
     "start_time": "2025-10-18T01:57:23.507322Z"
    }
   },
   "cell_type": "code",
   "source": [
    "clientes.cache() # persist(storagelevel.memory_and_disk)\n",
    "\n",
    "clientes.persist(StorageLevel.MEMORY_AND_DISK)\n",
    "\n",
    "clientes_estado_sp_df = clientes.filter(clientes['estado_cliente'] == 'SP')\n",
    "clientes_estado_sp_df.show()\n",
    "\n",
    "clientes.unpersist()"
   ],
   "id": "f1361a44481f3e0b",
   "outputs": [
    {
     "name": "stdout",
     "output_type": "stream",
     "text": [
      "+--------------------+--------------------+-----------+--------------------+--------------+\n",
      "|          id_cliente|    id_unico_cliente|cep_cliente|      cidade_cliente|estado_cliente|\n",
      "+--------------------+--------------------+-----------+--------------------+--------------+\n",
      "|06b8999e2fba1a1fb...|861eff4711a542e4b...|      14409|              franca|            SP|\n",
      "|18955e83d337fd6b2...|290c77bc529b7ac93...|       9790|sao bernardo do c...|            SP|\n",
      "|4e7b3e00288586ebd...|060e732b5b29e8181...|       1151|           sao paulo|            SP|\n",
      "|b2b6027bc5c5109e5...|259dac757896d24d7...|       8775|     mogi das cruzes|            SP|\n",
      "|4f2d8ab171c80ec83...|345ecd01c38d18a90...|      13056|            campinas|            SP|\n",
      "|fd826e7cf63160e53...|addec96d2e059c80c...|       4534|           sao paulo|            SP|\n",
      "|b2d1536598b73a9ab...|918dc87cd72cd9f6e...|      18682|    lencois paulista|            SP|\n",
      "|eabebad39a88bb6f5...|295c05e81917928d7...|       5704|           sao paulo|            SP|\n",
      "|206f3129c0e4d7d0b...|21f748a16f4e1688a...|      13412|          piracicaba|            SP|\n",
      "|c5c61596a3b6bd0ce...|b6e99561fe6f34a55...|       7124|           guarulhos|            SP|\n",
      "|9b8ce803689b3562d...|7f3a72e8f988c6e73...|       5416|           sao paulo|            SP|\n",
      "|2938121a40a20953c...|482441ea6a06b1f72...|       5713|           sao paulo|            SP|\n",
      "|cb721d7b4f271fd87...|a5844ba4bfc8d0cc6...|       8225|           sao paulo|            SP|\n",
      "|f681356046d9fde60...|5f102dd37243f152a...|       9121|         santo andre|            SP|\n",
      "|6e359a57a91f84095...|2e6a42a9b5cbb0da6...|       4571|           sao paulo|            SP|\n",
      "|e3109970a3fe8021d...|a8654e2af5da6bb72...|       5528|           sao paulo|            SP|\n",
      "|261cb4f92498ca05d...|424aca6872c5bab80...|      12235| sao jose dos campos|            SP|\n",
      "|6f92779347724b67e...|bf4862777db128507...|      18130|           sao roque|            SP|\n",
      "|df0aa5b8586495e0d...|85d234692f7bee8d6...|      13175|              sumare|            SP|\n",
      "|41c8f4b5708697913...|fe3634ccefbcdb053...|       7170|           guarulhos|            SP|\n",
      "+--------------------+--------------------+-----------+--------------------+--------------+\n",
      "only showing top 20 rows\n"
     ]
    },
    {
     "data": {
      "text/plain": [
       "DataFrame[id_cliente: string, id_unico_cliente: string, cep_cliente: int, cidade_cliente: string, estado_cliente: string]"
      ]
     },
     "execution_count": 45,
     "metadata": {},
     "output_type": "execute_result"
    }
   ],
   "execution_count": 45
  },
  {
   "metadata": {
    "ExecuteTime": {
     "end_time": "2025-10-18T01:15:27.400138Z",
     "start_time": "2025-10-18T01:15:23.055612Z"
    }
   },
   "cell_type": "code",
   "source": [
    "print(itens_pedido.count())\n",
    "print(pedidos.count())\n",
    "\n",
    "small_pedidos_df = broadcast(pedidos)\n",
    "\n",
    "broadcast_data = itens_pedido.join(small_pedidos_df, on='id_pedido')\n",
    "broadcast_data.show()"
   ],
   "id": "e3da55d16e3792d9",
   "outputs": [
    {
     "name": "stdout",
     "output_type": "stream",
     "text": [
      "112650\n",
      "99441\n",
      "+--------------------+--------------+--------------------+--------------------+-------------------+------+-----------+--------------------+-------------+-------------------+---------------------+-------------------------+--------------------+---------------------+\n",
      "|           id_pedido|item_id_pedido|          id_produto|         id_vendedor|  data_limite_envio| preco|valor_frete|          id_cliente|status_pedido| data_compra_pedido|data_aprovacao_pedido|data_envio_transportadora|data_entrega_cliente|data_estimada_entrega|\n",
      "+--------------------+--------------+--------------------+--------------------+-------------------+------+-----------+--------------------+-------------+-------------------+---------------------+-------------------------+--------------------+---------------------+\n",
      "|00010242fe8c5a6d1...|             1|4244733e06e7ecb49...|48436dade18ac8b2b...|2017-09-19 06:45:35|  58.9|      13.29|3ce436f183e68e078...|    delivered|2017-09-13 05:59:02|  2017-09-13 06:45:35|      2017-09-19 15:34:16| 2017-09-20 20:43:48|  2017-09-28 21:00:00|\n",
      "|00018f77f2f0320c5...|             1|e5f2d52b802189ee6...|dd7ddc04e1b6c2c61...|2017-05-03 08:05:13| 239.9|      19.93|f6dd3ec061db4e398...|    delivered|2017-04-26 07:53:06|  2017-04-26 08:05:13|      2017-05-04 11:35:00| 2017-05-12 13:04:24|  2017-05-14 21:00:00|\n",
      "|000229ec398224ef6...|             1|c777355d18b72b67a...|5b51032eddd242adc...|2018-01-18 12:48:30| 199.0|      17.87|6489ae5e4333f3693...|    delivered|2018-01-14 12:33:31|  2018-01-14 12:48:30|      2018-01-16 10:36:48| 2018-01-22 11:19:16|  2018-02-04 22:00:00|\n",
      "|00024acbcdf0a6daa...|             1|7634da152a4610f15...|9d7a1d34a50524090...|2018-08-15 07:10:18| 12.99|      12.79|d4eb9395c8c0431ee...|    delivered|2018-08-08 07:00:35|  2018-08-08 07:10:18|      2018-08-10 10:28:00| 2018-08-14 10:32:39|  2018-08-19 21:00:00|\n",
      "|00042b26cf59d7ce6...|             1|ac6c3623068f30de0...|df560393f3a51e745...|2017-02-13 11:57:51| 199.9|      18.14|58dbd0b2d70206bf4...|    delivered|2017-02-04 11:57:51|  2017-02-04 12:10:13|      2017-02-16 07:46:09| 2017-03-01 13:42:31|  2017-03-16 21:00:00|\n",
      "|00048cc3ae777c65d...|             1|ef92defde845ab845...|6426d21aca402a131...|2017-05-23 00:55:27|  21.9|      12.69|816cbea969fe5b689...|    delivered|2017-05-15 18:42:34|  2017-05-17 00:55:27|      2017-05-17 08:05:55| 2017-05-22 10:44:35|  2017-06-05 21:00:00|\n",
      "|00054e8431b9d7675...|             1|8d4f2bb7e93e6710a...|7040e82f899a04d1b...|2017-12-14 10:10:31|  19.9|      11.85|32e2e6ab09e778d99...|    delivered|2017-12-10 09:53:48|  2017-12-10 10:10:31|      2017-12-11 23:07:48| 2017-12-18 20:03:38|  2018-01-03 22:00:00|\n",
      "|000576fe39319847c...|             1|557d850972a7d6f79...|5996cddab893a4652...|2018-07-10 09:30:45| 810.0|      70.75|9ed5e522dd9dd85b4...|    delivered|2018-07-04 09:08:27|  2018-07-05 13:35:48|      2018-07-05 09:15:00| 2018-07-09 11:04:07|  2018-07-24 21:00:00|\n",
      "|0005a1a1728c9d785...|             1|310ae3c140ff94b03...|a416b6a846a117243...|2018-03-26 15:31:29|145.95|      11.65|16150771dfd477626...|    delivered|2018-03-19 15:40:33|  2018-03-20 15:35:21|      2018-03-27 21:37:42| 2018-03-29 15:17:31|  2018-03-28 21:00:00|\n",
      "|0005f50442cb953dc...|             1|4535b0e1091c278df...|ba143b05f0110f0dc...|2018-07-06 11:10:56| 53.99|       11.4|351d3cb2cee3c7fd0...|    delivered|2018-07-02 10:59:39|  2018-07-02 11:10:56|      2018-07-03 11:25:00| 2018-07-04 14:28:31|  2018-07-22 21:00:00|\n",
      "|00061f2a7bc09da83...|             1|d63c1011f49d98b97...|cc419e0650a3c5ba7...|2018-03-29 19:28:09| 59.99|       8.88|c6fc061d86fab1e2b...|    delivered|2018-03-24 19:16:10|  2018-03-24 19:28:09|      2018-03-27 02:26:55| 2018-03-28 21:04:19|  2018-04-08 21:00:00|\n",
      "|00063b381e2406b52...|             1|f177554ea93259a5b...|8602a61d680a10a82...|2018-07-31 14:30:39|  45.0|      12.98|6a899e55865de6549...|    delivered|2018-07-27 14:21:27|  2018-07-27 15:00:06|      2018-07-30 11:52:00| 2018-08-07 10:56:52|  2018-08-06 21:00:00|\n",
      "|0006ec9db01a64e59...|             1|99a4788cb24856965...|4a3ca9315b744ce9f...|2018-07-26 14:24:20|  74.0|      23.32|5d178120c29c61748...|    delivered|2018-07-24 14:04:17|  2018-07-24 14:24:20|      2018-07-25 08:02:00| 2018-07-30 22:04:15|  2018-08-21 21:00:00|\n",
      "|0008288aa423d2a3f...|             1|368c6c730842d7801...|1f50f920176fa81da...|2018-02-20 23:55:52|  49.9|      13.37|2355af7c75e7c98b4...|    delivered|2018-02-13 20:10:21|  2018-02-15 01:55:52|      2018-02-20 15:23:28| 2018-02-26 10:55:22|  2018-03-05 21:00:00|\n",
      "|0008288aa423d2a3f...|             2|368c6c730842d7801...|1f50f920176fa81da...|2018-02-20 23:55:52|  49.9|      13.37|2355af7c75e7c98b4...|    delivered|2018-02-13 20:10:21|  2018-02-15 01:55:52|      2018-02-20 15:23:28| 2018-02-26 10:55:22|  2018-03-05 21:00:00|\n",
      "|0009792311464db53...|             1|8cab8abac59158715...|530ec6109d11eaaf8...|2018-08-17 09:15:10|  99.9|      27.65|2a30c97668e81df7c...|    delivered|2018-08-14 17:43:09|  2018-08-15 09:15:10|      2018-08-15 12:28:00| 2018-08-22 09:02:27|  2018-08-27 21:00:00|\n",
      "|0009c9a17f916a706...|             1|3f27ac8e699df3d30...|fcb5ace8bcc92f757...|2018-05-02 06:31:53| 639.0|      11.34|8a250edc40ebc5c39...|    delivered|2018-04-25 06:10:41|  2018-04-25 06:33:19|      2018-04-27 12:14:00| 2018-04-30 14:54:25|  2018-05-08 21:00:00|\n",
      "|000aed2e25dbad2f9...|             1|4fa33915031a8cde0...|fe2032dab1a61af87...|2018-05-16 17:57:03| 144.0|       8.77|fff5169e583fd07fa...|    delivered|2018-05-11 17:33:38|  2018-05-11 17:57:03|      2018-05-16 11:26:00| 2018-05-18 13:46:31|  2018-05-21 21:00:00|\n",
      "|000c3e6612759851c...|             1|b50c950aba0dcead2...|218d46b86c1881d02...|2017-08-21 00:33:13|  99.0|      13.71|3773bcf1a6fbd2923...|    delivered|2017-08-12 07:08:57|  2017-08-15 00:35:32|      2017-08-15 12:32:51| 2017-08-19 12:22:17|  2017-08-31 21:00:00|\n",
      "|000e562887b1f2006...|             1|5ed9eaf534f6936b5...|8cbac7e12637ed9cf...|2018-02-28 09:08:37|  25.0|      16.11|2b01d668726fb0b75...|    delivered|2018-02-22 08:54:42|  2018-02-22 09:08:37|      2018-02-26 11:18:32| 2018-03-12 15:46:34|  2018-03-18 21:00:00|\n",
      "+--------------------+--------------+--------------------+--------------------+-------------------+------+-----------+--------------------+-------------+-------------------+---------------------+-------------------------+--------------------+---------------------+\n",
      "only showing top 20 rows\n"
     ]
    }
   ],
   "execution_count": 9
  },
  {
   "metadata": {
    "ExecuteTime": {
     "end_time": "2025-10-18T01:12:53.302623800Z",
     "start_time": "2025-10-18T00:14:41.059843Z"
    }
   },
   "cell_type": "code",
   "source": [
    "salario_medio_valor = pagamentos_pedido.agg(avg('valor_pagamento').alias('pagamento_medio')).collect()[0][0]\n",
    "pedidos_filtrados_df = pagamentos_pedido.filter(pagamentos_pedido['valor_pagamento'] > salario_medio_valor)\n",
    "\n",
    "salario_medio_df = pagamentos_pedido.select(avg('valor_pagamento').alias('pagamento_medio'))\n",
    "pedidos_filtrados_join_df = pagamentos_pedido.join(\n",
    "    salario_medio_df,\n",
    "    pagamentos_pedido['valor_pagamento'] > salario_medio_df['pagamento_medio']\n",
    ").select(pagamentos_pedido['*'])\n",
    "\n",
    "salario_medio_df.show()\n",
    "pedidos_filtrados_join_df.show()"
   ],
   "id": "abd102a5f8331e4e",
   "outputs": [
    {
     "name": "stdout",
     "output_type": "stream",
     "text": [
      "+------------------+\n",
      "|   pagamento_medio|\n",
      "+------------------+\n",
      "|154.10038041698772|\n",
      "+------------------+\n",
      "\n",
      "+--------------------+-------------------+--------------+------------------+---------------+\n",
      "|           id_pedido|sequencia_pagamento|tipo_pagamento|parcelas_pagamento|valor_pagamento|\n",
      "+--------------------+-------------------+--------------+------------------+---------------+\n",
      "|1f78449c87a54faf9...|                  1|   credit_card|                 6|         341.09|\n",
      "|d88e0d5fa41661ce0...|                  1|   credit_card|                 8|         188.73|\n",
      "|12e5cfe0e4716b59a...|                  1|   credit_card|                10|         157.45|\n",
      "|8ac09207f415d55ac...|                  1|   credit_card|                 4|         244.15|\n",
      "|4214cda550ece8ee6...|                  1|   credit_card|                 2|         170.57|\n",
      "|4d680edbaa7d3d9be...|                  1|   credit_card|                10|         353.09|\n",
      "|8cd68144cdb62dc0d...|                  1|        boleto|                 1|         330.66|\n",
      "|d0a945f85ba1074b6...|                  1|   credit_card|                 2|          541.0|\n",
      "|5d9c5817e278892b7...|                  1|   credit_card|                 2|         290.16|\n",
      "|b69b9260e79a0da00...|                  1|        boleto|                 1|         283.34|\n",
      "|b2bb080b6bc860118...|                  1|   credit_card|                 1|         173.84|\n",
      "|1dcf0c8cd36ffaf57...|                  1|   credit_card|                 3|         157.15|\n",
      "|c10d412026c4077b8...|                  1|   credit_card|                 1|         266.16|\n",
      "|d574338f566ca28dd...|                  1|   credit_card|                 4|         278.22|\n",
      "|2e2c60b99754ae1e4...|                  1|   credit_card|                 4|         542.66|\n",
      "|1ffb3c1929b16d9c1...|                  1|        boleto|                 1|         166.04|\n",
      "|95442deb81a5d91c9...|                  1|        boleto|                 1|         368.98|\n",
      "|3ab4eea6776259ae8...|                  1|   credit_card|                 8|          387.8|\n",
      "|c108072ab31ec90a7...|                  1|   credit_card|                 4|         210.82|\n",
      "|110d9355d6338eab0...|                  1|   credit_card|                 5|          566.4|\n",
      "+--------------------+-------------------+--------------+------------------+---------------+\n",
      "only showing top 20 rows\n"
     ]
    }
   ],
   "execution_count": 9
  },
  {
   "metadata": {
    "ExecuteTime": {
     "end_time": "2025-10-18T01:32:17.383137Z",
     "start_time": "2025-10-18T01:32:16.723328Z"
    }
   },
   "cell_type": "code",
   "source": [
    "salario_medio_valor = pagamentos_pedido.agg(avg('valor_pagamento').alias('pagamento_medio')).collect()[0][0]\n",
    "pedidos_filtrados_df = pagamentos_pedido.filter(pagamentos_pedido['valor_pagamento'] > salario_medio_valor)\n",
    "\n",
    "print('Plano de execucao - collect')\n",
    "pedidos_filtrados_df.explain()\n",
    "\n",
    "salario_medio_df = pagamentos_pedido.select(avg('valor_pagamento').alias('pagamento_medio'))\n",
    "pedidos_filtrados_join_df = pagamentos_pedido.join(\n",
    "    salario_medio_df,\n",
    "    pagamentos_pedido['valor_pagamento'] > salario_medio_df['pagamento_medio']\n",
    ").select(pagamentos_pedido['*'])\n",
    "\n",
    "print('Plano de execucao - join')\n",
    "pedidos_filtrados_join_df.explain()"
   ],
   "id": "ac148b085824dbe6",
   "outputs": [
    {
     "name": "stdout",
     "output_type": "stream",
     "text": [
      "Plano de execucao - collect\n",
      "== Physical Plan ==\n",
      "*(1) Filter (isnotnull(valor_pagamento#114) AND (valor_pagamento#114 > 154.10038041698772))\n",
      "+- FileScan csv [id_pedido#110,sequencia_pagamento#111,tipo_pagamento#112,parcelas_pagamento#113,valor_pagamento#114] Batched: false, DataFilters: [isnotnull(valor_pagamento#114), (valor_pagamento#114 > 154.10038041698772)], Format: CSV, Location: InMemoryFileIndex(1 paths)[file:/Users/Yuri/Desktop/EXCEL/pagamentos_pedido.csv], PartitionFilters: [], PushedFilters: [IsNotNull(valor_pagamento), GreaterThan(valor_pagamento,154.10038041698772)], ReadSchema: struct<id_pedido:string,sequencia_pagamento:int,tipo_pagamento:string,parcelas_pagamento:int,valo...\n",
      "\n",
      "\n",
      "Plano de execucao - join\n",
      "== Physical Plan ==\n",
      "AdaptiveSparkPlan isFinalPlan=false\n",
      "+- Project [id_pedido#110, sequencia_pagamento#111, tipo_pagamento#112, parcelas_pagamento#113, valor_pagamento#114]\n",
      "   +- BroadcastNestedLoopJoin BuildRight, Inner, (valor_pagamento#114 > pagamento_medio#1059)\n",
      "      :- Filter isnotnull(valor_pagamento#114)\n",
      "      :  +- FileScan csv [id_pedido#110,sequencia_pagamento#111,tipo_pagamento#112,parcelas_pagamento#113,valor_pagamento#114] Batched: false, DataFilters: [isnotnull(valor_pagamento#114)], Format: CSV, Location: InMemoryFileIndex(1 paths)[file:/Users/Yuri/Desktop/EXCEL/pagamentos_pedido.csv], PartitionFilters: [], PushedFilters: [IsNotNull(valor_pagamento)], ReadSchema: struct<id_pedido:string,sequencia_pagamento:int,tipo_pagamento:string,parcelas_pagamento:int,valo...\n",
      "      +- BroadcastExchange IdentityBroadcastMode, [plan_id=756]\n",
      "         +- Filter isnotnull(pagamento_medio#1059)\n",
      "            +- HashAggregate(keys=[], functions=[avg(valor_pagamento#1065)])\n",
      "               +- Exchange SinglePartition, ENSURE_REQUIREMENTS, [plan_id=752]\n",
      "                  +- HashAggregate(keys=[], functions=[partial_avg(valor_pagamento#1065)])\n",
      "                     +- FileScan csv [valor_pagamento#1065] Batched: false, DataFilters: [], Format: CSV, Location: InMemoryFileIndex(1 paths)[file:/Users/Yuri/Desktop/EXCEL/pagamentos_pedido.csv], PartitionFilters: [], PushedFilters: [], ReadSchema: struct<valor_pagamento:double>\n",
      "\n",
      "\n"
     ]
    }
   ],
   "execution_count": 37
  },
  {
   "metadata": {
    "ExecuteTime": {
     "end_time": "2025-10-18T01:32:19.157458Z",
     "start_time": "2025-10-18T01:32:19.123745Z"
    }
   },
   "cell_type": "code",
   "source": [
    "start_time = time.time()\n",
    "\n",
    "salario_medio_valor = pagamentos_pedido.agg(avg('valor_pagamento').alias('pagamento_medio'))\n",
    "pedidos_filtrados_join_df = pagamentos_pedido.join(\n",
    "    salario_medio_df,\n",
    "    pagamentos_pedido['valor_pagamento'] > salario_medio_df['pagamento_medio']\n",
    ").select(pagamentos_pedido['*'])\n",
    "\n",
    "end_time = time.time()\n",
    "print(end_time - start_time)"
   ],
   "id": "7b126ca9138777a5",
   "outputs": [
    {
     "name": "stdout",
     "output_type": "stream",
     "text": [
      "0.02866983413696289\n"
     ]
    }
   ],
   "execution_count": 38
  },
  {
   "metadata": {
    "ExecuteTime": {
     "end_time": "2025-10-18T01:56:11.100285Z",
     "start_time": "2025-10-18T01:56:10.690036Z"
    }
   },
   "cell_type": "code",
   "source": [
    "from pyspark.sql.functions import udf\n",
    "from pyspark.sql.types import StringType\n",
    "\n",
    "start_time = time.time()\n",
    "def classificar_preco(preco):\n",
    "    if preco < 50:\n",
    "        return 'Baixo'\n",
    "    elif preco >= 50 and preco < 500:\n",
    "        return 'Medio'\n",
    "    else: return 'Alto'\n",
    "classificar_preco_udf = udf(classificar_preco, StringType())\n",
    "\n",
    "pedidos_classificacao_udf_df = itens_pedido.withColumn('classificacao_preco', classificar_preco_udf(itens_pedido['preco']))\n",
    "end_time = time.time()\n",
    "print(end_time - start_time)\n",
    "pedidos_classificacao_udf_df.explain()\n",
    "\n",
    "start_time = time.time()\n",
    "pedidos_classificacao_df = itens_pedido.withColumn('classificacao_preco',\n",
    "                                                   when(itens_pedido['preco'] < 50, 'Baixo')\n",
    "                                                   .when((itens_pedido['preco'] >= 50) & (itens_pedido['preco'] < 500), 'Medio')\n",
    "                                                   .otherwise('Alto'))\n",
    "end_time = time.time()\n",
    "print(end_time - start_time)\n",
    "pedidos_classificacao_df.explain()\n"
   ],
   "id": "c85777c62259d40",
   "outputs": [
    {
     "name": "stdout",
     "output_type": "stream",
     "text": [
      "0.10129427909851074\n",
      "== Physical Plan ==\n",
      "*(1) Project [id_pedido#86, item_id_pedido#87, id_produto#88, id_vendedor#89, data_limite_envio#90, preco#91, valor_frete#92, pythonUDF0#1086 AS classificacao_preco#1085]\n",
      "+- BatchEvalPython [classificar_preco(preco#91)#1084], [pythonUDF0#1086]\n",
      "   +- FileScan csv [id_pedido#86,item_id_pedido#87,id_produto#88,id_vendedor#89,data_limite_envio#90,preco#91,valor_frete#92] Batched: false, DataFilters: [], Format: CSV, Location: InMemoryFileIndex(1 paths)[file:/Users/Yuri/Desktop/EXCEL/itens_pedido.csv], PartitionFilters: [], PushedFilters: [], ReadSchema: struct<id_pedido:string,item_id_pedido:int,id_produto:string,id_vendedor:string,data_limite_envio...\n",
      "\n",
      "\n",
      "0.03973507881164551\n",
      "== Physical Plan ==\n",
      "*(1) Project [id_pedido#86, item_id_pedido#87, id_produto#88, id_vendedor#89, data_limite_envio#90, preco#91, valor_frete#92, CASE WHEN (preco#91 < 50.0) THEN Baixo WHEN ((preco#91 >= 50.0) AND (preco#91 < 500.0)) THEN Medio ELSE Alto END AS classificacao_preco#1087]\n",
      "+- FileScan csv [id_pedido#86,item_id_pedido#87,id_produto#88,id_vendedor#89,data_limite_envio#90,preco#91,valor_frete#92] Batched: false, DataFilters: [], Format: CSV, Location: InMemoryFileIndex(1 paths)[file:/Users/Yuri/Desktop/EXCEL/itens_pedido.csv], PartitionFilters: [], PushedFilters: [], ReadSchema: struct<id_pedido:string,item_id_pedido:int,id_produto:string,id_vendedor:string,data_limite_envio...\n",
      "\n",
      "\n"
     ]
    }
   ],
   "execution_count": 43
  }
 ],
 "metadata": {
  "kernelspec": {
   "display_name": "Python 3",
   "language": "python",
   "name": "python3"
  },
  "language_info": {
   "codemirror_mode": {
    "name": "ipython",
    "version": 2
   },
   "file_extension": ".py",
   "mimetype": "text/x-python",
   "name": "python",
   "nbconvert_exporter": "python",
   "pygments_lexer": "ipython2",
   "version": "2.7.6"
  }
 },
 "nbformat": 4,
 "nbformat_minor": 5
}
