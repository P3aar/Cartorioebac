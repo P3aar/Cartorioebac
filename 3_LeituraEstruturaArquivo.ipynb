{
  "nbformat": 4,
  "nbformat_minor": 0,
  "metadata": {
    "colab": {
      "provenance": [],
      "toc_visible": true,
      "include_colab_link": true
    },
    "kernelspec": {
      "name": "python3",
      "display_name": "Python 3"
    },
    "language_info": {
      "name": "python"
    }
  },
  "cells": [
    {
      "cell_type": "markdown",
      "metadata": {
        "id": "view-in-github",
        "colab_type": "text"
      },
      "source": [
        "<a href=\"https://colab.research.google.com/github/P3aar/Cartorioebac/blob/main/3_LeituraEstruturaArquivo.ipynb\" target=\"_parent\"><img src=\"https://colab.research.google.com/assets/colab-badge.svg\" alt=\"Open In Colab\"/></a>"
      ]
    },
    {
      "cell_type": "code",
      "execution_count": 3,
      "metadata": {
        "colab": {
          "base_uri": "https://localhost:8080/"
        },
        "id": "U3RFZXlsaKcu",
        "outputId": "2b4d0f14-4970-4cc2-f646-e40dcdf7fca3",
        "collapsed": true
      },
      "outputs": [
        {
          "output_type": "stream",
          "name": "stdout",
          "text": [
            "Requirement already satisfied: pyspark in /usr/local/lib/python3.12/dist-packages (3.5.1)\n",
            "Requirement already satisfied: py4j==0.10.9.7 in /usr/local/lib/python3.12/dist-packages (from pyspark) (0.10.9.7)\n"
          ]
        }
      ],
      "source": [
        "!pip install pyspark"
      ]
    },
    {
      "cell_type": "code",
      "source": [
        "import pyspark\n",
        "from pyspark.sql import SparkSession\n",
        "from pyspark.sql.types import *\n",
        "from datetime import date\n",
        "from google.colab import files"
      ],
      "metadata": {
        "id": "WhTV5aQBy41-"
      },
      "execution_count": 2,
      "outputs": []
    },
    {
      "cell_type": "code",
      "source": [
        "uploaded = files.upload('clientes_tratados.csv')"
      ],
      "metadata": {
        "colab": {
          "base_uri": "https://localhost:8080/",
          "height": 73
        },
        "id": "Xlvub2YLvnTp",
        "outputId": "f30e37ad-3606-4b19-f9ad-e5d75a03563b"
      },
      "execution_count": 10,
      "outputs": [
        {
          "output_type": "display_data",
          "data": {
            "text/plain": [
              "<IPython.core.display.HTML object>"
            ],
            "text/html": [
              "\n",
              "     <input type=\"file\" id=\"files-44eab86f-98b0-40a0-bc9c-968ac995880f\" name=\"files[]\" multiple disabled\n",
              "        style=\"border:none\" />\n",
              "     <output id=\"result-44eab86f-98b0-40a0-bc9c-968ac995880f\">\n",
              "      Upload widget is only available when the cell has been executed in the\n",
              "      current browser session. Please rerun this cell to enable.\n",
              "      </output>\n",
              "      <script>// Copyright 2017 Google LLC\n",
              "//\n",
              "// Licensed under the Apache License, Version 2.0 (the \"License\");\n",
              "// you may not use this file except in compliance with the License.\n",
              "// You may obtain a copy of the License at\n",
              "//\n",
              "//      http://www.apache.org/licenses/LICENSE-2.0\n",
              "//\n",
              "// Unless required by applicable law or agreed to in writing, software\n",
              "// distributed under the License is distributed on an \"AS IS\" BASIS,\n",
              "// WITHOUT WARRANTIES OR CONDITIONS OF ANY KIND, either express or implied.\n",
              "// See the License for the specific language governing permissions and\n",
              "// limitations under the License.\n",
              "\n",
              "/**\n",
              " * @fileoverview Helpers for google.colab Python module.\n",
              " */\n",
              "(function(scope) {\n",
              "function span(text, styleAttributes = {}) {\n",
              "  const element = document.createElement('span');\n",
              "  element.textContent = text;\n",
              "  for (const key of Object.keys(styleAttributes)) {\n",
              "    element.style[key] = styleAttributes[key];\n",
              "  }\n",
              "  return element;\n",
              "}\n",
              "\n",
              "// Max number of bytes which will be uploaded at a time.\n",
              "const MAX_PAYLOAD_SIZE = 100 * 1024;\n",
              "\n",
              "function _uploadFiles(inputId, outputId) {\n",
              "  const steps = uploadFilesStep(inputId, outputId);\n",
              "  const outputElement = document.getElementById(outputId);\n",
              "  // Cache steps on the outputElement to make it available for the next call\n",
              "  // to uploadFilesContinue from Python.\n",
              "  outputElement.steps = steps;\n",
              "\n",
              "  return _uploadFilesContinue(outputId);\n",
              "}\n",
              "\n",
              "// This is roughly an async generator (not supported in the browser yet),\n",
              "// where there are multiple asynchronous steps and the Python side is going\n",
              "// to poll for completion of each step.\n",
              "// This uses a Promise to block the python side on completion of each step,\n",
              "// then passes the result of the previous step as the input to the next step.\n",
              "function _uploadFilesContinue(outputId) {\n",
              "  const outputElement = document.getElementById(outputId);\n",
              "  const steps = outputElement.steps;\n",
              "\n",
              "  const next = steps.next(outputElement.lastPromiseValue);\n",
              "  return Promise.resolve(next.value.promise).then((value) => {\n",
              "    // Cache the last promise value to make it available to the next\n",
              "    // step of the generator.\n",
              "    outputElement.lastPromiseValue = value;\n",
              "    return next.value.response;\n",
              "  });\n",
              "}\n",
              "\n",
              "/**\n",
              " * Generator function which is called between each async step of the upload\n",
              " * process.\n",
              " * @param {string} inputId Element ID of the input file picker element.\n",
              " * @param {string} outputId Element ID of the output display.\n",
              " * @return {!Iterable<!Object>} Iterable of next steps.\n",
              " */\n",
              "function* uploadFilesStep(inputId, outputId) {\n",
              "  const inputElement = document.getElementById(inputId);\n",
              "  inputElement.disabled = false;\n",
              "\n",
              "  const outputElement = document.getElementById(outputId);\n",
              "  outputElement.innerHTML = '';\n",
              "\n",
              "  const pickedPromise = new Promise((resolve) => {\n",
              "    inputElement.addEventListener('change', (e) => {\n",
              "      resolve(e.target.files);\n",
              "    });\n",
              "  });\n",
              "\n",
              "  const cancel = document.createElement('button');\n",
              "  inputElement.parentElement.appendChild(cancel);\n",
              "  cancel.textContent = 'Cancel upload';\n",
              "  const cancelPromise = new Promise((resolve) => {\n",
              "    cancel.onclick = () => {\n",
              "      resolve(null);\n",
              "    };\n",
              "  });\n",
              "\n",
              "  // Wait for the user to pick the files.\n",
              "  const files = yield {\n",
              "    promise: Promise.race([pickedPromise, cancelPromise]),\n",
              "    response: {\n",
              "      action: 'starting',\n",
              "    }\n",
              "  };\n",
              "\n",
              "  cancel.remove();\n",
              "\n",
              "  // Disable the input element since further picks are not allowed.\n",
              "  inputElement.disabled = true;\n",
              "\n",
              "  if (!files) {\n",
              "    return {\n",
              "      response: {\n",
              "        action: 'complete',\n",
              "      }\n",
              "    };\n",
              "  }\n",
              "\n",
              "  for (const file of files) {\n",
              "    const li = document.createElement('li');\n",
              "    li.append(span(file.name, {fontWeight: 'bold'}));\n",
              "    li.append(span(\n",
              "        `(${file.type || 'n/a'}) - ${file.size} bytes, ` +\n",
              "        `last modified: ${\n",
              "            file.lastModifiedDate ? file.lastModifiedDate.toLocaleDateString() :\n",
              "                                    'n/a'} - `));\n",
              "    const percent = span('0% done');\n",
              "    li.appendChild(percent);\n",
              "\n",
              "    outputElement.appendChild(li);\n",
              "\n",
              "    const fileDataPromise = new Promise((resolve) => {\n",
              "      const reader = new FileReader();\n",
              "      reader.onload = (e) => {\n",
              "        resolve(e.target.result);\n",
              "      };\n",
              "      reader.readAsArrayBuffer(file);\n",
              "    });\n",
              "    // Wait for the data to be ready.\n",
              "    let fileData = yield {\n",
              "      promise: fileDataPromise,\n",
              "      response: {\n",
              "        action: 'continue',\n",
              "      }\n",
              "    };\n",
              "\n",
              "    // Use a chunked sending to avoid message size limits. See b/62115660.\n",
              "    let position = 0;\n",
              "    do {\n",
              "      const length = Math.min(fileData.byteLength - position, MAX_PAYLOAD_SIZE);\n",
              "      const chunk = new Uint8Array(fileData, position, length);\n",
              "      position += length;\n",
              "\n",
              "      const base64 = btoa(String.fromCharCode.apply(null, chunk));\n",
              "      yield {\n",
              "        response: {\n",
              "          action: 'append',\n",
              "          file: file.name,\n",
              "          data: base64,\n",
              "        },\n",
              "      };\n",
              "\n",
              "      let percentDone = fileData.byteLength === 0 ?\n",
              "          100 :\n",
              "          Math.round((position / fileData.byteLength) * 100);\n",
              "      percent.textContent = `${percentDone}% done`;\n",
              "\n",
              "    } while (position < fileData.byteLength);\n",
              "  }\n",
              "\n",
              "  // All done.\n",
              "  yield {\n",
              "    response: {\n",
              "      action: 'complete',\n",
              "    }\n",
              "  };\n",
              "}\n",
              "\n",
              "scope.google = scope.google || {};\n",
              "scope.google.colab = scope.google.colab || {};\n",
              "scope.google.colab._files = {\n",
              "  _uploadFiles,\n",
              "  _uploadFilesContinue,\n",
              "};\n",
              "})(self);\n",
              "</script> "
            ]
          },
          "metadata": {}
        },
        {
          "output_type": "stream",
          "name": "stdout",
          "text": [
            "Saving clientes_tratados.csv.csv to clientes_tratados.csv/clientes_tratados.csv (1).csv\n"
          ]
        }
      ]
    },
    {
      "cell_type": "code",
      "source": [
        "spark = SparkSession.builder.getOrCreate()"
      ],
      "metadata": {
        "id": "tCmP52kny8PJ"
      },
      "execution_count": 13,
      "outputs": []
    },
    {
      "cell_type": "code",
      "source": [
        "df = spark.read.csv('clientes_tratados.csv')"
      ],
      "metadata": {
        "id": "s_CZnT_rbCBM",
        "collapsed": true
      },
      "execution_count": 14,
      "outputs": []
    },
    {
      "cell_type": "code",
      "source": [
        "df.take(5)"
      ],
      "metadata": {
        "colab": {
          "base_uri": "https://localhost:8080/"
        },
        "id": "NI3mb_TPbc0b",
        "outputId": "567acc4e-a493-4dee-e838-0afa4929c99f"
      },
      "execution_count": 15,
      "outputs": [
        {
          "output_type": "execute_result",
          "data": {
            "text/plain": [
              "[Row(_c0='nome', _c1='cpf', _c2='idade', _c3='data', _c4='endereco', _c5='bairro', _c6='estado'),\n",
              " Row(_c0='Sr. Vitor Gabriel Silva', _c1='640,****,****01', _c2='92.0', _c3='1933-12-06', _c4='trevo emanuel silva, 482', _c5='vila tirol', _c6='AP'),\n",
              " Row(_c0='Calebe Santos', _c1='651,****,****46', _c2='41.0', _c3='1984-03-06', _c4='recanto moraes, 7', _c5='ernesto nascimento', _c6='PB'),\n",
              " Row(_c0='Maria Julia Castro', _c1='164,****,****43', _c2='78.0', _c3='1947-04-12', _c4='residencial de pereira, 20', _c5='jatobá', _c6='AL'),\n",
              " Row(_c0='Arthur Da Rosa', _c1='085,****,****30', _c2='55.0', _c3='1970-04-16', _c4='parque almeida, 66', _c5='vila suzana segunda seção', _c6='SE')]"
            ]
          },
          "metadata": {},
          "execution_count": 15
        }
      ]
    },
    {
      "cell_type": "code",
      "source": [
        "df.show(5)"
      ],
      "metadata": {
        "colab": {
          "base_uri": "https://localhost:8080/"
        },
        "id": "ctqKTpIgjStV",
        "outputId": "e2b9145d-e119-4e19-cbb3-b66ed4f24483"
      },
      "execution_count": 21,
      "outputs": [
        {
          "output_type": "stream",
          "name": "stdout",
          "text": [
            "+--------------------+---------------+-----+----------+--------------------+--------------------+------+\n",
            "|                nome|            cpf|idade|      data|            endereco|              bairro|estado|\n",
            "+--------------------+---------------+-----+----------+--------------------+--------------------+------+\n",
            "|Sr. Vitor Gabriel...|640,****,****01| 92.0|1933-12-06|trevo emanuel sil...|          vila tirol|    AP|\n",
            "|       Calebe Santos|651,****,****46| 41.0|1984-03-06|   recanto moraes, 7|  ernesto nascimento|    PB|\n",
            "|  Maria Julia Castro|164,****,****43| 78.0|1947-04-12|residencial de pe...|              jatobá|    AL|\n",
            "|      Arthur Da Rosa|085,****,****30| 55.0|1970-04-16|  parque almeida, 66|vila suzana segun...|    SE|\n",
            "|        Juan Pereira|520,****,****21| 69.0|1955-10-25|rodovia de pereir...|             estrela|    BA|\n",
            "+--------------------+---------------+-----+----------+--------------------+--------------------+------+\n",
            "only showing top 5 rows\n",
            "\n"
          ]
        }
      ]
    },
    {
      "cell_type": "code",
      "source": [
        "df.printSchema()"
      ],
      "metadata": {
        "colab": {
          "base_uri": "https://localhost:8080/"
        },
        "collapsed": true,
        "id": "w4XfD5Uabhq6",
        "outputId": "71491bc3-ee45-451b-d326-8d873285f517"
      },
      "execution_count": 20,
      "outputs": [
        {
          "output_type": "stream",
          "name": "stdout",
          "text": [
            "root\n",
            " |-- nome: string (nullable = true)\n",
            " |-- cpf: string (nullable = true)\n",
            " |-- idade: string (nullable = true)\n",
            " |-- data: string (nullable = true)\n",
            " |-- endereco: string (nullable = true)\n",
            " |-- bairro: string (nullable = true)\n",
            " |-- estado: string (nullable = true)\n",
            "\n"
          ]
        }
      ]
    },
    {
      "cell_type": "code",
      "source": [
        "df = spark.read.option('header','true').csv('clientes_tratados.csv')"
      ],
      "metadata": {
        "id": "fjLrUgzEbvq6"
      },
      "execution_count": 19,
      "outputs": []
    },
    {
      "cell_type": "code",
      "source": [
        "df = spark.read.option('header','true').option('inferSchema','true').csv('clientes_tratados.csv')"
      ],
      "metadata": {
        "id": "3irtiUahcbYU"
      },
      "execution_count": 18,
      "outputs": []
    },
    {
      "cell_type": "code",
      "source": [
        "df = spark.read.\\\n",
        "  option('sep', ',').\\\n",
        "  option('header', 'true').\\\n",
        "  option('mode', 'DROPMALFORMED').\\\n",
        "  option('inferSchema','true').\\\n",
        "  csv('clientes_tratados.csv')"
      ],
      "metadata": {
        "id": "NmHp3ughc6HR"
      },
      "execution_count": 17,
      "outputs": []
    },
    {
      "cell_type": "code",
      "source": [
        "lista_campos = [\n",
        "    StructField('nome', StringType()),\n",
        "    StructField('cpf', StringType()),\n",
        "    StructField('idade', FloatType()),\n",
        "    StructField('data', DateType()),\n",
        "    StructField('endereco', StringType()),\n",
        "    StructField('bairro', StringType()),\n",
        "    StructField('estado', StringType())\n",
        "]\n",
        "schema_definido = StructType(lista_campos)"
      ],
      "metadata": {
        "id": "xmF3cZe0d-gh"
      },
      "execution_count": 22,
      "outputs": []
    },
    {
      "cell_type": "code",
      "source": [
        "df = spark.read.option('header','true').schema(schema_definido).csv('clientes_tratados.csv')"
      ],
      "metadata": {
        "id": "OQ-Qf8p2ewra"
      },
      "execution_count": 23,
      "outputs": []
    },
    {
      "cell_type": "code",
      "source": [
        "#Criação de dados\n",
        "dados_teste = [\n",
        "    Row(nome='Sr. Vitor Gabriel Silva', cpf='640.***.***-01', idade=90.0, data=date(1933, 12, 6), endereco='trevo emanuel silva, 482', bairro='vila tirol', estado='AP'),\n",
        "    Row(nome='Calebe Santos', cpf='651.***.***-46', idade=40.0, data=date(1984, 3, 6), endereco='recanto moraes, 7', bairro='ernesto nascimento', estado='PB'),\n",
        "    Row(nome='Maria Julia Castro', cpf='164.***.***-43', idade=None, data=date(2035, 4, 12), endereco='residencial de pereira, 20', bairro='jatobá', estado='AL'),\n",
        "    Row(nome='Arthur Da Rosa', cpf='085.***.***-30', idade=53.0, data=date(1970, 4, 16), endereco='parque almeida, 66', bairro='vila suzana segunda seção', estado='SE'),\n",
        "    Row(nome='Juan Pereira', cpf='520.***.***-21', idade=68.0, data=date(1955, 10, 25), endereco='rodovia de pereira, 51', bairro='estrela', estado='BA')\n",
        "]"
      ],
      "metadata": {
        "id": "bWsy4Nl4zFwn"
      },
      "execution_count": 24,
      "outputs": []
    },
    {
      "cell_type": "code",
      "source": [
        "df_parcial = spark.createDataFrame(data=dados_teste, schema=schema_definido)\n",
        "\n",
        "#df_parcial = spark.createDataFrame(data=dados_teste)"
      ],
      "metadata": {
        "id": "kkfcvrf1iSjh"
      },
      "execution_count": 25,
      "outputs": []
    },
    {
      "cell_type": "code",
      "source": [
        "df_parcial.printSchema()"
      ],
      "metadata": {
        "colab": {
          "base_uri": "https://localhost:8080/"
        },
        "id": "QFClVijug54U",
        "outputId": "6b8198d0-8b46-4547-f779-60d359b4ed1d"
      },
      "execution_count": 26,
      "outputs": [
        {
          "output_type": "stream",
          "name": "stdout",
          "text": [
            "root\n",
            " |-- nome: string (nullable = true)\n",
            " |-- cpf: string (nullable = true)\n",
            " |-- idade: float (nullable = true)\n",
            " |-- data: date (nullable = true)\n",
            " |-- endereco: string (nullable = true)\n",
            " |-- bairro: string (nullable = true)\n",
            " |-- estado: string (nullable = true)\n",
            "\n"
          ]
        }
      ]
    },
    {
      "cell_type": "code",
      "source": [
        "df_parcial.show()"
      ],
      "metadata": {
        "colab": {
          "base_uri": "https://localhost:8080/"
        },
        "id": "6u3Sespxg1CH",
        "outputId": "11dddb2a-bcca-4533-eb8a-d7255e7b4246"
      },
      "execution_count": 27,
      "outputs": [
        {
          "output_type": "stream",
          "name": "stdout",
          "text": [
            "+--------------------+--------------+-----+----------+--------------------+--------------------+------+\n",
            "|                nome|           cpf|idade|      data|            endereco|              bairro|estado|\n",
            "+--------------------+--------------+-----+----------+--------------------+--------------------+------+\n",
            "|Sr. Vitor Gabriel...|640.***.***-01| 90.0|1933-12-06|trevo emanuel sil...|          vila tirol|    AP|\n",
            "|       Calebe Santos|651.***.***-46| 40.0|1984-03-06|   recanto moraes, 7|  ernesto nascimento|    PB|\n",
            "|  Maria Julia Castro|164.***.***-43| NULL|2035-04-12|residencial de pe...|              jatobá|    AL|\n",
            "|      Arthur Da Rosa|085.***.***-30| 53.0|1970-04-16|  parque almeida, 66|vila suzana segun...|    SE|\n",
            "|        Juan Pereira|520.***.***-21| 68.0|1955-10-25|rodovia de pereir...|             estrela|    BA|\n",
            "+--------------------+--------------+-----+----------+--------------------+--------------------+------+\n",
            "\n"
          ]
        }
      ]
    },
    {
      "cell_type": "code",
      "source": [
        "spark.stop()"
      ],
      "metadata": {
        "id": "46HrfbEP6xNe"
      },
      "execution_count": 28,
      "outputs": []
    }
  ]
}